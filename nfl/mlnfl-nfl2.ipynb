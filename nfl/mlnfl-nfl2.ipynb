{
 "metadata": {
  "name": "",
  "signature": "sha256:8371b4bf2752f390119b16348daff1373948c6edf4ad5562b2d482558b302f0c"
 },
 "nbformat": 3,
 "nbformat_minor": 0,
 "worksheets": [
  {
   "cells": [
    {
     "cell_type": "markdown",
     "metadata": {},
     "source": [
      "## nfl lines machine learning project\n",
      "\n",
      "\n",
      "source data for historical spreads and game scores\n",
      "http://www.repole.com/sun4cast/data.html"
     ]
    },
    {
     "cell_type": "code",
     "collapsed": false,
     "input": [
      "import os\n",
      "\n",
      "# define the root directory for the nfl code in $MLNLF_ROOT\n",
      "codeDir = \"\".join([os.environ['MLNFL_ROOT'], os.path.sep])\n",
      "dataRoot = \"\".join([codeDir, \"data\", os.path.sep])\n",
      "\n",
      "os.chdir(codeDir)\n",
      "\n",
      "print(codeDir)\n",
      "print(dataRoot)"
     ],
     "language": "python",
     "metadata": {},
     "outputs": [
      {
       "output_type": "stream",
       "stream": "stdout",
       "text": [
        "/Users/amit.bhattacharyya/repos/mlnfl/nfl/\n",
        "/Users/amit.bhattacharyya/repos/mlnfl/nfl/data/\n"
       ]
      }
     ],
     "prompt_number": 2
    },
    {
     "cell_type": "code",
     "collapsed": false,
     "input": [
      "# warnings control\n",
      "import warnings\n",
      "# choose default, ignore, always\n",
      "warnings.filterwarnings('default')\n"
     ],
     "language": "python",
     "metadata": {},
     "outputs": [],
     "prompt_number": 3
    },
    {
     "cell_type": "code",
     "collapsed": false,
     "input": [
      "# import necessary modules\n",
      "%matplotlib inline\n",
      "\n",
      "from __future__ import division\n",
      "from __future__ import print_function\n",
      "import os\n",
      "import numpy as np\n",
      "import pandas as pd\n",
      "import matplotlib.pyplot as plt\n",
      "\n",
      "import madden\n",
      "\n",
      "from sklearn import linear_model\n",
      "from sklearn import svm\n",
      "from sklearn import ensemble\n",
      "\n",
      "print (\"pandas version \",pd.__version__)"
     ],
     "language": "python",
     "metadata": {},
     "outputs": [
      {
       "output_type": "stream",
       "stream": "stderr",
       "text": [
        "/Users/amit.bhattacharyya/.virtualenvs/datascience/lib/python2.7/site-packages/pandas/__init__.py:7: RuntimeWarning: numpy.ufunc size changed, may indicate binary incompatibility\n",
        "  from . import hashtable, tslib, lib\n",
        "/System/Library/Frameworks/Python.framework/Versions/2.7/lib/python2.7/pkgutil.py:186: ImportWarning: Not importing directory '/Users/amit.bhattacharyya/.virtualenvs/datascience/lib/python2.7/site-packages/mpl_toolkits': missing __init__.py\n",
        "  file, filename, etc = imp.find_module(subname, path)\n",
        "/Users/amit.bhattacharyya/.virtualenvs/datascience/lib/python2.7/site-packages/pandas/core/index.py:14: RuntimeWarning: numpy.ufunc size changed, may indicate binary incompatibility\n",
        "  import pandas.index as _index\n",
        "/Users/amit.bhattacharyya/.virtualenvs/datascience/lib/python2.7/site-packages/pandas/sparse/array.py:16: RuntimeWarning: numpy.ufunc size changed, may indicate binary incompatibility\n",
        "  from pandas._sparse import BlockIndex, IntIndex\n"
       ]
      },
      {
       "output_type": "stream",
       "stream": "stderr",
       "text": [
        "/Users/amit.bhattacharyya/.virtualenvs/datascience/lib/python2.7/site-packages/pandas/io/parsers.py:26: RuntimeWarning: numpy.ufunc size changed, may indicate binary incompatibility\n",
        "  import pandas.parser as _parser\n",
        "/Users/amit.bhattacharyya/.virtualenvs/datascience/lib/python2.7/site-packages/pandas/io/packers.py:63: RuntimeWarning: numpy.ufunc size changed, may indicate binary incompatibility\n",
        "  from pandas.msgpack import Unpacker as _Unpacker, Packer as _Packer\n",
        "/Users/amit.bhattacharyya/.virtualenvs/datascience/lib/python2.7/site-packages/scipy/sparse/lil.py:21: RuntimeWarning: numpy.dtype size changed, may indicate binary incompatibility\n",
        "  from . import _csparsetools\n",
        "/Users/amit.bhattacharyya/.virtualenvs/datascience/lib/python2.7/site-packages/scipy/sparse/lil.py:21: RuntimeWarning: numpy.ufunc size changed, may indicate binary incompatibility\n",
        "  from . import _csparsetools\n",
        "/Users/amit.bhattacharyya/.virtualenvs/datascience/lib/python2.7/site-packages/scipy/sparse/csgraph/__init__.py:148: RuntimeWarning: numpy.dtype size changed, may indicate binary incompatibility\n",
        "  from ._shortest_path import shortest_path, floyd_warshall, dijkstra,\\\n",
        "/Users/amit.bhattacharyya/.virtualenvs/datascience/lib/python2.7/site-packages/scipy/sparse/csgraph/__init__.py:148: RuntimeWarning: numpy.ufunc size changed, may indicate binary incompatibility\n",
        "  from ._shortest_path import shortest_path, floyd_warshall, dijkstra,\\\n",
        "/Users/amit.bhattacharyya/.virtualenvs/datascience/lib/python2.7/site-packages/scipy/sparse/csgraph/_validation.py:5: RuntimeWarning: numpy.dtype size changed, may indicate binary incompatibility\n",
        "  from ._tools import csgraph_to_dense, csgraph_from_dense,\\\n",
        "/Users/amit.bhattacharyya/.virtualenvs/datascience/lib/python2.7/site-packages/scipy/sparse/csgraph/_validation.py:5: RuntimeWarning: numpy.ufunc size changed, may indicate binary incompatibility\n",
        "  from ._tools import csgraph_to_dense, csgraph_from_dense,\\\n",
        "/Users/amit.bhattacharyya/.virtualenvs/datascience/lib/python2.7/site-packages/scipy/sparse/csgraph/__init__.py:150: RuntimeWarning: numpy.dtype size changed, may indicate binary incompatibility\n",
        "  from ._traversal import breadth_first_order, depth_first_order, \\\n",
        "/Users/amit.bhattacharyya/.virtualenvs/datascience/lib/python2.7/site-packages/scipy/sparse/csgraph/__init__.py:150: RuntimeWarning: numpy.ufunc size changed, may indicate binary incompatibility\n",
        "  from ._traversal import breadth_first_order, depth_first_order, \\\n",
        "/Users/amit.bhattacharyya/.virtualenvs/datascience/lib/python2.7/site-packages/scipy/sparse/csgraph/__init__.py:152: RuntimeWarning: numpy.dtype size changed, may indicate binary incompatibility\n",
        "  from ._min_spanning_tree import minimum_spanning_tree\n",
        "/Users/amit.bhattacharyya/.virtualenvs/datascience/lib/python2.7/site-packages/scipy/sparse/csgraph/__init__.py:152: RuntimeWarning: numpy.ufunc size changed, may indicate binary incompatibility\n",
        "  from ._min_spanning_tree import minimum_spanning_tree\n",
        "/Users/amit.bhattacharyya/.virtualenvs/datascience/lib/python2.7/site-packages/scipy/special/__init__.py:546: RuntimeWarning: numpy.dtype size changed, may indicate binary incompatibility\n",
        "  from ._ufuncs import *\n"
       ]
      },
      {
       "output_type": "stream",
       "stream": "stderr",
       "text": [
        "/Users/amit.bhattacharyya/.virtualenvs/datascience/lib/python2.7/site-packages/scipy/special/__init__.py:546: RuntimeWarning: numpy.ufunc size changed, may indicate binary incompatibility\n",
        "  from ._ufuncs import *\n",
        "/Users/amit.bhattacharyya/.virtualenvs/datascience/lib/python2.7/site-packages/sklearn/utils/__init__.py:10: RuntimeWarning: numpy.dtype size changed, may indicate binary incompatibility\n",
        "  from .murmurhash import murmurhash3_32\n",
        "/Users/amit.bhattacharyya/.virtualenvs/datascience/lib/python2.7/site-packages/sklearn/utils/__init__.py:10: RuntimeWarning: numpy.ufunc size changed, may indicate binary incompatibility\n",
        "  from .murmurhash import murmurhash3_32\n",
        "/Users/amit.bhattacharyya/.virtualenvs/datascience/lib/python2.7/site-packages/sklearn/utils/sparsetools/__init__.py:3: RuntimeWarning: numpy.dtype size changed, may indicate binary incompatibility\n",
        "  from ._min_spanning_tree import minimum_spanning_tree\n",
        "/Users/amit.bhattacharyya/.virtualenvs/datascience/lib/python2.7/site-packages/sklearn/utils/sparsetools/__init__.py:3: RuntimeWarning: numpy.ufunc size changed, may indicate binary incompatibility\n",
        "  from ._min_spanning_tree import minimum_spanning_tree\n",
        "/Users/amit.bhattacharyya/.virtualenvs/datascience/lib/python2.7/site-packages/sklearn/utils/sparsetools/_graph_validation.py:5: RuntimeWarning: numpy.dtype size changed, may indicate binary incompatibility\n",
        "  from ._graph_tools import csgraph_to_dense, csgraph_from_dense,\\\n",
        "/Users/amit.bhattacharyya/.virtualenvs/datascience/lib/python2.7/site-packages/sklearn/utils/sparsetools/_graph_validation.py:5: RuntimeWarning: numpy.ufunc size changed, may indicate binary incompatibility\n",
        "  from ._graph_tools import csgraph_to_dense, csgraph_from_dense,\\\n",
        "/Users/amit.bhattacharyya/.virtualenvs/datascience/lib/python2.7/site-packages/sklearn/utils/sparsetools/__init__.py:4: RuntimeWarning: numpy.dtype size changed, may indicate binary incompatibility\n",
        "  from ._traversal import connected_components\n",
        "/Users/amit.bhattacharyya/.virtualenvs/datascience/lib/python2.7/site-packages/sklearn/utils/sparsetools/__init__.py:4: RuntimeWarning: numpy.ufunc size changed, may indicate binary incompatibility\n",
        "  from ._traversal import connected_components\n",
        "/Users/amit.bhattacharyya/.virtualenvs/datascience/lib/python2.7/site-packages/sklearn/utils/extmath.py:20: RuntimeWarning: numpy.dtype size changed, may indicate binary incompatibility\n",
        "  from ._logistic_sigmoid import _log_logistic_sigmoid\n",
        "/Users/amit.bhattacharyya/.virtualenvs/datascience/lib/python2.7/site-packages/sklearn/utils/extmath.py:20: RuntimeWarning: numpy.ufunc size changed, may indicate binary incompatibility\n",
        "  from ._logistic_sigmoid import _log_logistic_sigmoid\n",
        "/Users/amit.bhattacharyya/.virtualenvs/datascience/lib/python2.7/site-packages/sklearn/utils/extmath.py:22: RuntimeWarning: numpy.dtype size changed, may indicate binary incompatibility\n",
        "  from .sparsefuncs_fast import csr_row_norms\n",
        "/Users/amit.bhattacharyya/.virtualenvs/datascience/lib/python2.7/site-packages/sklearn/utils/extmath.py:22: RuntimeWarning: numpy.ufunc size changed, may indicate binary incompatibility\n",
        "  from .sparsefuncs_fast import csr_row_norms\n",
        "/Users/amit.bhattacharyya/.virtualenvs/datascience/lib/python2.7/site-packages/scipy/interpolate/interpolate.py:28: RuntimeWarning: numpy.dtype size changed, may indicate binary incompatibility\n",
        "  from . import _ppoly\n",
        "/Users/amit.bhattacharyya/.virtualenvs/datascience/lib/python2.7/site-packages/scipy/interpolate/interpolate.py:28: RuntimeWarning: numpy.ufunc size changed, may indicate binary incompatibility\n",
        "  from . import _ppoly\n",
        "/Users/amit.bhattacharyya/.virtualenvs/datascience/lib/python2.7/site-packages/scipy/spatial/__init__.py:90: RuntimeWarning: numpy.dtype size changed, may indicate binary incompatibility\n",
        "  from .ckdtree import *\n",
        "/Users/amit.bhattacharyya/.virtualenvs/datascience/lib/python2.7/site-packages/scipy/spatial/__init__.py:90: RuntimeWarning: numpy.ufunc size changed, may indicate binary incompatibility\n",
        "  from .ckdtree import *\n",
        "/Users/amit.bhattacharyya/.virtualenvs/datascience/lib/python2.7/site-packages/scipy/spatial/__init__.py:91: RuntimeWarning: numpy.dtype size changed, may indicate binary incompatibility\n",
        "  from .qhull import *\n",
        "/Users/amit.bhattacharyya/.virtualenvs/datascience/lib/python2.7/site-packages/scipy/spatial/__init__.py:91: RuntimeWarning: numpy.ufunc size changed, may indicate binary incompatibility\n",
        "  from .qhull import *\n",
        "/Users/amit.bhattacharyya/.virtualenvs/datascience/lib/python2.7/site-packages/sklearn/linear_model/least_angle.py:24: RuntimeWarning: numpy.dtype size changed, may indicate binary incompatibility\n",
        "  from ..utils import array2d, arrayfuncs, as_float_array, check_arrays\n",
        "/Users/amit.bhattacharyya/.virtualenvs/datascience/lib/python2.7/site-packages/sklearn/linear_model/least_angle.py:24: RuntimeWarning: numpy.ufunc size changed, may indicate binary incompatibility\n",
        "  from ..utils import array2d, arrayfuncs, as_float_array, check_arrays\n",
        "/Users/amit.bhattacharyya/.virtualenvs/datascience/lib/python2.7/site-packages/scipy/stats/_continuous_distns.py:24: RuntimeWarning: numpy.dtype size changed, may indicate binary incompatibility\n",
        "  from . import vonmises_cython\n",
        "/Users/amit.bhattacharyya/.virtualenvs/datascience/lib/python2.7/site-packages/scipy/stats/_continuous_distns.py:24: RuntimeWarning: numpy.ufunc size changed, may indicate binary incompatibility\n",
        "  from . import vonmises_cython\n",
        "/Users/amit.bhattacharyya/.virtualenvs/datascience/lib/python2.7/site-packages/scipy/stats/stats.py:188: RuntimeWarning: numpy.dtype size changed, may indicate binary incompatibility\n",
        "  from ._rank import rankdata, tiecorrect\n"
       ]
      },
      {
       "output_type": "stream",
       "stream": "stdout",
       "text": [
        "pandas version  0.15.1\n"
       ]
      },
      {
       "output_type": "stream",
       "stream": "stderr",
       "text": [
        "/Users/amit.bhattacharyya/.virtualenvs/datascience/lib/python2.7/site-packages/scipy/stats/stats.py:188: RuntimeWarning: numpy.ufunc size changed, may indicate binary incompatibility\n",
        "  from ._rank import rankdata, tiecorrect\n",
        "/Users/amit.bhattacharyya/.virtualenvs/datascience/lib/python2.7/site-packages/sklearn/metrics/cluster/supervised.py:18: RuntimeWarning: numpy.dtype size changed, may indicate binary incompatibility\n",
        "  from .expected_mutual_info_fast import expected_mutual_information\n",
        "/Users/amit.bhattacharyya/.virtualenvs/datascience/lib/python2.7/site-packages/sklearn/metrics/cluster/supervised.py:18: RuntimeWarning: numpy.ufunc size changed, may indicate binary incompatibility\n",
        "  from .expected_mutual_info_fast import expected_mutual_information\n",
        "/Users/amit.bhattacharyya/.virtualenvs/datascience/lib/python2.7/site-packages/sklearn/metrics/pairwise.py:56: RuntimeWarning: numpy.dtype size changed, may indicate binary incompatibility\n",
        "  from .pairwise_fast import _chi2_kernel_fast, _sparse_manhattan\n",
        "/Users/amit.bhattacharyya/.virtualenvs/datascience/lib/python2.7/site-packages/sklearn/metrics/pairwise.py:56: RuntimeWarning: numpy.ufunc size changed, may indicate binary incompatibility\n",
        "  from .pairwise_fast import _chi2_kernel_fast, _sparse_manhattan\n",
        "/Users/amit.bhattacharyya/.virtualenvs/datascience/lib/python2.7/site-packages/sklearn/linear_model/coordinate_descent.py:26: RuntimeWarning: numpy.dtype size changed, may indicate binary incompatibility\n",
        "  from . import cd_fast\n",
        "/Users/amit.bhattacharyya/.virtualenvs/datascience/lib/python2.7/site-packages/sklearn/linear_model/coordinate_descent.py:26: RuntimeWarning: numpy.ufunc size changed, may indicate binary incompatibility\n",
        "  from . import cd_fast\n",
        "/Users/amit.bhattacharyya/.virtualenvs/datascience/lib/python2.7/site-packages/sklearn/linear_model/__init__.py:21: RuntimeWarning: numpy.dtype size changed, may indicate binary incompatibility\n",
        "  from .sgd_fast import Hinge, Log, ModifiedHuber, SquaredLoss, Huber\n",
        "/Users/amit.bhattacharyya/.virtualenvs/datascience/lib/python2.7/site-packages/sklearn/linear_model/__init__.py:21: RuntimeWarning: numpy.ufunc size changed, may indicate binary incompatibility\n",
        "  from .sgd_fast import Hinge, Log, ModifiedHuber, SquaredLoss, Huber\n",
        "/Users/amit.bhattacharyya/.virtualenvs/datascience/lib/python2.7/site-packages/sklearn/svm/base.py:8: RuntimeWarning: numpy.dtype size changed, may indicate binary incompatibility\n",
        "  from . import libsvm, liblinear\n",
        "/Users/amit.bhattacharyya/.virtualenvs/datascience/lib/python2.7/site-packages/sklearn/svm/base.py:8: RuntimeWarning: numpy.ufunc size changed, may indicate binary incompatibility\n",
        "  from . import libsvm, liblinear\n",
        "/Users/amit.bhattacharyya/.virtualenvs/datascience/lib/python2.7/site-packages/sklearn/svm/base.py:9: RuntimeWarning: numpy.dtype size changed, may indicate binary incompatibility\n",
        "  from . import libsvm_sparse\n",
        "/Users/amit.bhattacharyya/.virtualenvs/datascience/lib/python2.7/site-packages/sklearn/svm/base.py:9: RuntimeWarning: numpy.ufunc size changed, may indicate binary incompatibility\n",
        "  from . import libsvm_sparse\n",
        "/Users/amit.bhattacharyya/.virtualenvs/datascience/lib/python2.7/site-packages/sklearn/utils/random.py:9: RuntimeWarning: numpy.dtype size changed, may indicate binary incompatibility\n",
        "  from ._random import sample_without_replacement\n",
        "/Users/amit.bhattacharyya/.virtualenvs/datascience/lib/python2.7/site-packages/sklearn/utils/random.py:9: RuntimeWarning: numpy.ufunc size changed, may indicate binary incompatibility\n",
        "  from ._random import sample_without_replacement\n",
        "/Users/amit.bhattacharyya/.virtualenvs/datascience/lib/python2.7/site-packages/sklearn/tree/tree.py:28: RuntimeWarning: numpy.dtype size changed, may indicate binary incompatibility\n",
        "  from ._tree import Criterion\n",
        "/Users/amit.bhattacharyya/.virtualenvs/datascience/lib/python2.7/site-packages/sklearn/tree/tree.py:28: RuntimeWarning: numpy.ufunc size changed, may indicate binary incompatibility\n",
        "  from ._tree import Criterion\n",
        "/Users/amit.bhattacharyya/.virtualenvs/datascience/lib/python2.7/site-packages/sklearn/ensemble/gradient_boosting.py:48: RuntimeWarning: numpy.dtype size changed, may indicate binary incompatibility\n",
        "  from ._gradient_boosting import predict_stages\n",
        "/Users/amit.bhattacharyya/.virtualenvs/datascience/lib/python2.7/site-packages/sklearn/ensemble/gradient_boosting.py:48: RuntimeWarning: numpy.ufunc size changed, may indicate binary incompatibility\n",
        "  from ._gradient_boosting import predict_stages\n"
       ]
      }
     ],
     "prompt_number": 4
    },
    {
     "cell_type": "code",
     "collapsed": false,
     "input": [
      "# location of lookup files\n",
      "from referencedata import ReferenceData\n",
      "lookupFiles = { 'teams' : {'file': 'nflTeams.csv' },\n",
      "                'seasons' : {'file': 'seasons.csv' },\n",
      "               }\n",
      "\n",
      "lookupDir = \"\".join([dataRoot, 'lookup', os.path.sep])\n",
      "\n",
      "print (\"lookupFiles = %s\" % lookupFiles)\n",
      "print (\"lookupDir = %s\" % lookupDir)"
     ],
     "language": "python",
     "metadata": {},
     "outputs": [
      {
       "output_type": "stream",
       "stream": "stdout",
       "text": [
        "lookupFiles = {'seasons': {'file': 'seasons.csv'}, 'teams': {'file': 'nflTeams.csv'}}\n",
        "lookupDir = /Users/amit.bhattacharyya/repos/mlnfl/nfl/data/lookup/\n"
       ]
      }
     ],
     "prompt_number": 5
    },
    {
     "cell_type": "code",
     "collapsed": false,
     "input": [
      "# import reference data\n",
      "reference_data = ReferenceData(lookupDir)\n",
      "reference_data.teams_df.head()"
     ],
     "language": "python",
     "metadata": {},
     "outputs": [
      {
       "html": [
        "<div style=\"max-height:1000px;max-width:1500px;overflow:auto;\">\n",
        "<table border=\"1\" class=\"dataframe\">\n",
        "  <thead>\n",
        "    <tr style=\"text-align: right;\">\n",
        "      <th></th>\n",
        "      <th>city</th>\n",
        "      <th>mascot</th>\n",
        "      <th>league</th>\n",
        "      <th>division</th>\n",
        "      <th>year</th>\n",
        "    </tr>\n",
        "    <tr>\n",
        "      <th>team</th>\n",
        "      <th></th>\n",
        "      <th></th>\n",
        "      <th></th>\n",
        "      <th></th>\n",
        "      <th></th>\n",
        "    </tr>\n",
        "  </thead>\n",
        "  <tbody>\n",
        "    <tr>\n",
        "      <th>Baltimore Ravens</th>\n",
        "      <td>NaN</td>\n",
        "      <td>NaN</td>\n",
        "      <td> afc</td>\n",
        "      <td> north</td>\n",
        "      <td>NaN</td>\n",
        "    </tr>\n",
        "    <tr>\n",
        "      <th>New England Patriots</th>\n",
        "      <td>NaN</td>\n",
        "      <td>NaN</td>\n",
        "      <td> afc</td>\n",
        "      <td>  east</td>\n",
        "      <td>NaN</td>\n",
        "    </tr>\n",
        "    <tr>\n",
        "      <th>Tennessee Titans</th>\n",
        "      <td>NaN</td>\n",
        "      <td>NaN</td>\n",
        "      <td> afc</td>\n",
        "      <td> south</td>\n",
        "      <td>NaN</td>\n",
        "    </tr>\n",
        "    <tr>\n",
        "      <th>Atlanta Falcons</th>\n",
        "      <td>NaN</td>\n",
        "      <td>NaN</td>\n",
        "      <td> nfc</td>\n",
        "      <td> south</td>\n",
        "      <td>NaN</td>\n",
        "    </tr>\n",
        "    <tr>\n",
        "      <th>Tampa Bay Buccaneers</th>\n",
        "      <td>NaN</td>\n",
        "      <td>NaN</td>\n",
        "      <td> nfc</td>\n",
        "      <td> south</td>\n",
        "      <td>NaN</td>\n",
        "    </tr>\n",
        "  </tbody>\n",
        "</table>\n",
        "</div>"
       ],
       "metadata": {},
       "output_type": "pyout",
       "prompt_number": 6,
       "text": [
        "                      city  mascot league division  year\n",
        "team                                                    \n",
        "Baltimore Ravens       NaN     NaN    afc    north   NaN\n",
        "New England Patriots   NaN     NaN    afc     east   NaN\n",
        "Tennessee Titans       NaN     NaN    afc    south   NaN\n",
        "Atlanta Falcons        NaN     NaN    nfc    south   NaN\n",
        "Tampa Bay Buccaneers   NaN     NaN    nfc    south   NaN"
       ]
      }
     ],
     "prompt_number": 6
    },
    {
     "cell_type": "code",
     "collapsed": false,
     "input": [
      "###  multi-season training\n",
      "reload(madden)\n",
      "\n",
      "# testYears and trainYears need to be arrays\n",
      "trainYears = [2013] #range(2008,2013) \n",
      "testYear = [2014]\n",
      "\n",
      "# train on previous 3 yrs of data\n",
      "testYear = [2014]\n",
      "trainYears = range(testYear[0]-3,testYear[0]) \n",
      "\n",
      "# training data set - includes one extra year for prev yr record\n",
      "seasons = np.array(trainYears)\n",
      "print (\"training seasons >> \", seasons)"
     ],
     "language": "python",
     "metadata": {},
     "outputs": [
      {
       "output_type": "stream",
       "stream": "stdout",
       "text": [
        "training seasons >>  [2011 2012 2013]\n"
       ]
      }
     ],
     "prompt_number": 7
    },
    {
     "cell_type": "code",
     "collapsed": false,
     "input": [
      "reload(madden)\n",
      "\n",
      "# get training data\n",
      "# 1 - read all the games\n",
      "path_to_lines = dataRoot + \"lines/\"\n",
      "dfAllGames = madden.readGamesAll(path_to_lines, seasons)\n",
      "# 2 - compile season record for all teams\n",
      "dfAllTeams = madden.seasonRecord(dfAllGames, reference_data)\n",
      "# 3 - apply season records and compute other fields for all games\n",
      "dfAllGames = madden.processGames(dfAllGames, dfAllTeams, reference_data)\n",
      "# 4 - remove extra year of data \n",
      "dfAllGames = dfAllGames[dfAllGames.season.isin(seasons)]\n",
      "\n",
      "# use different test set \n",
      "seasonTest = np.array(testYear) # should be only one year\n",
      "print (\"results for >> \", seasonTest)\n",
      "# 1 - read all the games\n",
      "dfGamesTest = madden.readGamesAll(path_to_lines, seasonTest)  \n",
      "# 2 - compile season record for all teams\n",
      "dfTeamsTest = madden.seasonRecord(dfGamesTest,reference_data) \n",
      "# 3 - apply season records and compute other fields for all games\n",
      "dfGamesTest = madden.processGames(dfGamesTest, dfTeamsTest, reference_data) \n",
      "# 4 - remove extra year of data \n",
      "dfGamesTest = dfGamesTest[dfGamesTest.season.isin(seasonTest)]\n"
     ],
     "language": "python",
     "metadata": {},
     "outputs": []
    },
    {
     "cell_type": "code",
     "collapsed": false,
     "input": [
      "reload(madden)\n",
      "\n",
      "# define independent variables for logistic regression\n",
      "features = ['favoredRecord','underdogRecord',  # current year records of both teams\n",
      "            'prevFavoredRecord','prevUnderdogRecord', # prev year records, helps early in season when only few games played\n",
      "            'gameWeek',  # week in season, should make a good/bad record later in season more important\n",
      "            'absLine',  # absolute value of spread since favored team already determined\n",
      "            'divisionGame', # T/F, usually more competitive rivalry games, i.e. bad teams still win home division games.\n",
      "            'favoredHomeGame', # T/F, important since output of classifier is \"did the favored team win?\"\n",
      "            ]\n",
      "\n",
      "# run the classifer\n",
      "#classifier = svm.SVC(kernel='poly',probability=True)\n",
      "classifier = linear_model.LogisticRegression(C=1e5)\n",
      "#classifier = ensemble.RandomForestClassifier(n_estimators=10)\n",
      "mlClassifier = madden.runScikitClassifier(dfAllGames,features,classifier)\n",
      "\n",
      "# apply results of logistic regression to the test set\n",
      "dfPredict = madden.predictGames(dfGamesTest,mlClassifier,features)\n",
      "\n",
      "# apply ranking logic and determine scoring outcomes for league\n",
      "dfAll = madden.rankGames(dfPredict,reference_data,seasonTest[0])"
     ],
     "language": "python",
     "metadata": {},
     "outputs": []
    },
    {
     "cell_type": "code",
     "collapsed": false,
     "input": [
      "# diagnostics ... weekly outcomes\n",
      "g = dfAll.groupby('gameWeek')['lineScore','probaScore1','probaScore2','probaScore3'].sum()\n",
      "print(g)\n",
      "\n",
      "g.sum()"
     ],
     "language": "python",
     "metadata": {},
     "outputs": []
    },
    {
     "cell_type": "code",
     "collapsed": false,
     "input": [
      "# predict one week of current season\n",
      "iweek = 12\n",
      "reload(madden)\n",
      "\n",
      "# use different test set - current year\n",
      "testYear = [2014]\n",
      "seasonTest = np.array(testYear) # should be only one year\n",
      "print (\"results for >> \", seasonTest)\n",
      "\n",
      "dfGamesTest = madden.readGamesAll(path_to_lines, seasonTest)\n",
      "dfTeamsTest = madden.seasonRecord(dfGamesTest,reference_data)\n",
      "dfGamesTest = madden.processGames(dfGamesTest, dfTeamsTest, reference_data)\n",
      "dfGamesTest = dfGamesTest[dfGamesTest.season.isin(seasonTest)]\n",
      "\n",
      "# pick only this weeks games for predict\n",
      "dfTest = dfGamesTest[dfGamesTest.gameWeek == iweek]\n",
      "\n",
      "# apply results of logistic regression to the test set\n",
      "dfPredict = madden.predictGames(dfTest,mlClassifier,features)\n",
      "# apply ranking logic and determine scoring outcomes for league\n",
      "dfAll = madden.rankGames(dfPredict,reference_data,seasonTest[0])\n",
      "\n"
     ],
     "language": "python",
     "metadata": {},
     "outputs": []
    },
    {
     "cell_type": "code",
     "collapsed": false,
     "input": [
      "# display weekly ranking output\n",
      "\n",
      "# ranking methods choices\n",
      "# 0. pick based on spread\n",
      "# 1. always pick favored team, rank by probability of win\n",
      "# 2. pick winner based on abs(probability - .5), rank by probability\n",
      "# 3. pick winner based on abs(probability - .5), rank by abs(probability - .5)\n",
      "\n",
      "dispCols = ['season','gameWeek','Visitor','visitorRecord','Home Team','homeRecord',\n",
      "            'Line','prevFavoredRecord','prevUnderdogRecord','predict_proba',\n",
      "            'lineGuess','probaGuess', 'probaAbsGuess', 'predictTeam']\n",
      "\n",
      "\n",
      "dfAll['predictTeam'] = np.where((dfAll['predict_proba'] - .5) > 0 , dfAll['favorite'], dfAll['underdog'])\n",
      "guessCol = 'probaGuess'\n",
      "predictCols = ['predictTeam', 'predict_proba', guessCol, 'favorite','lineGuess', 'Line']\n",
      "dfAll[predictCols].sort(guessCol, ascending=False)"
     ],
     "language": "python",
     "metadata": {},
     "outputs": []
    },
    {
     "cell_type": "code",
     "collapsed": false,
     "input": [
      "# display weekly ranking output for spread method\n",
      "\n",
      "# ranking methods choices\n",
      "# 0. pick based on spread\n",
      "# 1. always pick favored team, rank by probability of win\n",
      "# 2. pick winner based on abs(probability - .5), rank by probability\n",
      "# 3. pick winner based on abs(probability - .5), rank by abs(probability - .5)\n",
      "\n",
      "predictCols = ['favorite','lineGuess', 'absLine','Line', 'favoredHomeGame', 'divisionGame', 'favoredRecord']\n",
      "\n",
      "sortCols = ['absLine','favoredHomeGame', 'divisionGame', 'favoredRecord', 'favorite']\n",
      "dfSpread = dfAll[predictCols].sort(sortCols , ascending=False)\n",
      "#print(dfSpread.to_csv(sys.stdout,sep=',', index=False))\n",
      "dfSpread"
     ],
     "language": "python",
     "metadata": {},
     "outputs": []
    },
    {
     "cell_type": "code",
     "collapsed": false,
     "input": [
      "# display details for a single week\n",
      "dispWeek = 7\n",
      "dispCols = ['season','gameWeek','Visitor','Home Team',\n",
      "            'visitorRecord', 'homeRecord', 'favoredRecord','underdogRecord',\n",
      "            'prevFavoredRecord','Line','predict_proba','Visitor Score',\n",
      "            'Home Score','favoredWin','predictWin','lineGuess','probaGuess', 'lineScore','probaScore1','probaScore2']\n",
      "\n",
      "print(dfAll[dfAll.gameWeek == dispWeek]['lineScore'].sum())\n",
      "dfAll[dfAll.gameWeek == dispWeek][dispCols]"
     ],
     "language": "python",
     "metadata": {},
     "outputs": []
    },
    {
     "cell_type": "code",
     "collapsed": false,
     "input": [
      "# diagnostics ... plot outcomes of games\n",
      "nWin = dfAllGames.favoredWin.index.tolist()\n",
      "nLose = dfAllGames[dfAllGames['favoredWin'] == 0].index.tolist()\n",
      "\n",
      "plt.plot(dfAllGames.favoredRecord[nWin],dfAllGames.underdogRecord[nWin],'bx')\n",
      "plt.plot(dfAllGames.favoredRecord[nLose],dfAllGames.underdogRecord[nLose],'rx')"
     ],
     "language": "python",
     "metadata": {},
     "outputs": []
    },
    {
     "cell_type": "code",
     "collapsed": false,
     "input": [
      "# diagnostics ... logreg variables\n",
      "\n",
      "# print classifiers\n",
      "print(\"classifiers > \",logreg.classes_)\n",
      "\n",
      "# coefficients\n",
      "cc = logreg.coef_\n",
      "cc.shape\n",
      "print(\"coeffs\")\n",
      "for ii,ff in enumerate(features):\n",
      "    print(ii,ff,cc[0][ii])\n",
      "    "
     ],
     "language": "python",
     "metadata": {},
     "outputs": []
    },
    {
     "cell_type": "code",
     "collapsed": false,
     "input": [],
     "language": "python",
     "metadata": {},
     "outputs": []
    },
    {
     "cell_type": "code",
     "collapsed": false,
     "input": [
      "# run one year of rolling training, control width of training window w/ trainFreq\n",
      "import runMadden\n",
      "reload(runMadden)\n",
      "reload(madden)\n",
      "\n",
      "# need to be arrays\n",
      "trainYears = [2012] #range(2008.2013) \n",
      "testYear = [2013]\n",
      "trainFreq = 6\n",
      "\n",
      "dd = runMadden.runSeasonRolling(trainYears,testYear,olookups,trainFreq)\n",
      "dd"
     ],
     "language": "python",
     "metadata": {},
     "outputs": []
    },
    {
     "cell_type": "code",
     "collapsed": false,
     "input": [
      "# loop over years to test trainFreq\n",
      "\n",
      "reload(runMadden)\n",
      "reload(madden)\n",
      "\n",
      "ddd = None\n",
      "for y in range(2008,2013):\n",
      "    trainYears = [y]\n",
      "    testYear = [y+1]\n",
      "    trainFreq = 20\n",
      "    dd = runMadden.runSeasonRolling(trainYears,testYear,olookups,trainFreq)\n",
      "    if ddd is None:\n",
      "        ddd = dd\n",
      "    else:\n",
      "        ddd = ddd.append(dd)\n",
      "        \n",
      "ddd        "
     ],
     "language": "python",
     "metadata": {},
     "outputs": []
    },
    {
     "cell_type": "code",
     "collapsed": false,
     "input": [
      "# diagnostics ... plot outcomes of games\n",
      "nWin = dfAll.favoredWin.index.tolist()\n",
      "nLose = dfAll[dfAll['favoredWin'] == 0].index.tolist()\n",
      "\n",
      "plt.plot(dfAll.favoredRecord[nWin],dfAll.underdogRecord[nWin],'bx')\n",
      "plt.plot(dfAll.favoredRecord[nLose],dfAll.underdogRecord[nLose],'rx')\n",
      "\n",
      "# pct correct according to spread\n",
      "print (len(nWin)/ (len(nWin) + len(nLose)))\n",
      "\n",
      "# pct correct according to model\n",
      "nWin = dfAll.predictWin.index.tolist()\n",
      "nLose = dfAll[dfAll['predictWin'] == 0].index.tolist()\n",
      "print (len(nWin)/ (len(nWin) + len(nLose)))\n"
     ],
     "language": "python",
     "metadata": {},
     "outputs": []
    },
    {
     "cell_type": "markdown",
     "metadata": {},
     "source": [
      "### loop over multiple years\n",
      "see how different classifiers or test/train combos perform over the years\n"
     ]
    },
    {
     "cell_type": "code",
     "collapsed": false,
     "input": [
      "# loop over multiple years\n",
      "\n",
      "import runMadden\n",
      "reload(madden)\n",
      "reload(runMadden)\n",
      "\n",
      "\n",
      "path_to_lines = dataRoot + \"lines/\"\n",
      "\n",
      "trainStart = 2013\n",
      "trainLen = 1\n",
      "\n",
      "mlClassifier = svm.SVC(kernel='poly',probability=True)\n",
      "dfSVM = runMadden.runSeasonLoop(trainStart, trainLen, mlClassifier, path_to_lines, reference_data)\n",
      "\n",
      "#mlClassifier = linear_model.LogisticRegression(C=1e5)\n",
      "#dfLog = runMadden.runSeasonLoop(trainStart, trainLen, mlClassifier, path_to_lines, reference_data)\n",
      "dfLoop = dfSVM\n",
      "return(dfLoop)\n"
     ],
     "language": "python",
     "metadata": {},
     "outputs": []
    },
    {
     "cell_type": "code",
     "collapsed": false,
     "input": [
      "reload(madden)\n",
      "\n",
      "trainYears = [2013] \n",
      "testYear = [2014]\n",
      "\n",
      "seasons = np.array(trainYears)\n",
      "seasonTest = np.array(testYear)\n",
      "\n",
      "# test new wrapper object\n",
      "oSeason = madden.SeasonClassifier(path_to_lines, reference_data)\n",
      "oSeason.readData(seasons, 'train')\n",
      "oSeason.readData(seasonTest, 'test')\n",
      "oSeason.setFeatures(features)\n",
      "mlClassifier = linear_model.LogisticRegression(C=1e5)\n",
      "oSeason.setClassifier(mlClassifier)\n",
      "oSeason.runClassifier('favoredWin')\n",
      "oSeason.predict()\n",
      "oSeason.predictAccuracy('train')\n",
      "oSeason.rank()\n",
      "oSeason.predictSummary(week=12, guessCol='probaGuess')"
     ],
     "language": "python",
     "metadata": {},
     "outputs": []
    },
    {
     "cell_type": "code",
     "collapsed": false,
     "input": [
      "oSeason.predictSummary(week=12, guessCol='probaGuess')"
     ],
     "language": "python",
     "metadata": {},
     "outputs": []
    },
    {
     "cell_type": "code",
     "collapsed": false,
     "input": [
      "oSeason.predictSummary(week=12, guessCol='lineGuess')"
     ],
     "language": "python",
     "metadata": {},
     "outputs": []
    },
    {
     "cell_type": "code",
     "collapsed": false,
     "input": [
      "reload(madden)\n",
      "# loop over all train sets and read data\n",
      "\n",
      "# create a collection of season objects to test various classifiers and parameters\n",
      "path_to_lines = dataRoot + \"lines/\"\n",
      "trainStart = 2012\n",
      "trainLen = 1\n",
      "testYear = 0\n",
      "\n",
      "features = ['favoredRecord','underdogRecord',  # current year records of both teams\n",
      "            'prevFavoredRecord','prevUnderdogRecord', # prev year records, helps early in season when only few games played\n",
      "            'gameWeek',  # week in season, should make a good/bad record later in season more important\n",
      "            'absLine',  # absolute value of spread since favored team already determined\n",
      "            'divisionGame', # T/F, usually more competitive rivalry games, i.e. bad teams still win home division games.\n",
      "            'favoredHomeGame', # T/F, important since output of classifier is \"did the favored team win?\"\n",
      "            ]\n",
      "\n",
      "oCollection = madden.SeasonClassifierCollection()\n",
      "mlClassifier = svm.SVC(kernel='poly',probability=True)\n",
      "\n",
      "while testYear < 2014:\n",
      "    # determine test and train years\n",
      "    testYear = trainStart + trainLen\n",
      "    trainYears = range(testYear-trainLen,testYear)\n",
      "\n",
      "\n",
      "    print (trainYears, testYear)\n",
      "\n",
      "    # define test and train years\n",
      "    seasons = np.array(trainYears)\n",
      "    seasonTest = np.array([testYear]) # should be only one year\n",
      "    \n",
      "    #mlClassifier = svm.SVC(kernel='poly',probability=True)\n",
      "    mlClassifier = linear_model.LogisticRegression(C=1e5)\n",
      "    classifier_str = str(mlClassifier)[:11]\n",
      "    description_str = \"%s-train-%s-test-%s\" % (classifier_str, str(trainYears), str(testYear))\n",
      "    \n",
      "    print(description_str)\n",
      "    \n",
      "    # create SeasonClassifier object\n",
      "    oSeason = madden.SeasonClassifier(path_to_lines, reference_data)\n",
      "    oSeason.readData(seasons, 'train')\n",
      "    oSeason.readData(seasonTest, 'test')\n",
      "    oSeason.setFeatures(features)\n",
      "\n",
      "    oSeason.setClassifier(mlClassifier)\n",
      "    oSeason.runClassifier('favoredWin')\n",
      "    oSeason.predict()\n",
      "    oSeason.predictAccuracy('test')\n",
      "    oSeason.rank()\n",
      "\n",
      "    oCollection.addSeasonClassifier(oSeason, description_str)\n",
      "    \n",
      "    trainStart += 1"
     ],
     "language": "python",
     "metadata": {},
     "outputs": [
      {
       "output_type": "stream",
       "stream": "stdout",
       "text": [
        "[2012] 2013\n",
        "LogisticReg-train-[2012]-test-2013\n",
        "training data accuracy = "
       ]
      },
      {
       "output_type": "stream",
       "stream": "stdout",
       "text": [
        " 0.6875\n",
        "test predict accuracy =  0.6796875\n",
        "             score  win by    win\n",
        "lineScore     1655       2   True\n",
        "probaScore1   1679      26   True\n",
        "probaScore2   1667      14   True\n",
        "probaScore3   1652      -1  False"
       ]
      },
      {
       "output_type": "stream",
       "stream": "stdout",
       "text": [
        "\n",
        "[2013] 2014\n",
        "LogisticReg-train-[2013]-test-2014\n",
        "training data accuracy = "
       ]
      },
      {
       "output_type": "stream",
       "stream": "stdout",
       "text": [
        " 0.70703125\n",
        "test predict accuracy =  0.658385093168\n",
        "             score  win by   win\n",
        "lineScore     1044    1044  True\n",
        "probaScore1   1056    1056  True\n",
        "probaScore2   1036    1036  True\n",
        "probaScore3   1025    1025  True"
       ]
      },
      {
       "output_type": "stream",
       "stream": "stdout",
       "text": [
        "\n"
       ]
      }
     ],
     "prompt_number": 60
    },
    {
     "cell_type": "code",
     "collapsed": false,
     "input": [
      "oss = oCollection.collection[description_str]\n",
      "oss.predictAccuracy('test')"
     ],
     "language": "python",
     "metadata": {},
     "outputs": [
      {
       "output_type": "stream",
       "stream": "stdout",
       "text": [
        "test predict accuracy =  0.658385093168\n"
       ]
      }
     ],
     "prompt_number": 76
    },
    {
     "cell_type": "code",
     "collapsed": false,
     "input": [
      "# copy from one collection to another\n",
      "\n",
      "reload(madden)\n",
      "newCollection = madden.SeasonClassifierCollection()\n",
      "\n",
      "for k,v in oCollection.collection.items():\n",
      "    print (k,v)\n",
      "    newCollection.addSeasonClassifier(v,k)\n",
      "    \n",
      "    "
     ],
     "language": "python",
     "metadata": {},
     "outputs": [
      {
       "output_type": "stream",
       "stream": "stdout",
       "text": [
        "LogisticReg-train-[2012]-test-2013 <madden.SeasonClassifier object at 0x111198c90>\n",
        "LogisticReg-train-[2013]-test-2014 <madden.SeasonClassifier object at 0x1110bde90>\n"
       ]
      }
     ],
     "prompt_number": 77
    },
    {
     "cell_type": "code",
     "collapsed": false,
     "input": [
      "oCollection.summary()"
     ],
     "language": "python",
     "metadata": {},
     "outputs": [
      {
       "html": [
        "<div style=\"max-height:1000px;max-width:1500px;overflow:auto;\">\n",
        "<table border=\"1\" class=\"dataframe\">\n",
        "  <thead>\n",
        "    <tr style=\"text-align: right;\">\n",
        "      <th></th>\n",
        "      <th>lineScore</th>\n",
        "      <th>probaScore1</th>\n",
        "      <th>probaScore2</th>\n",
        "      <th>probaScore3</th>\n",
        "      <th>trainYears</th>\n",
        "      <th>classifierType</th>\n",
        "    </tr>\n",
        "    <tr>\n",
        "      <th>season</th>\n",
        "      <th></th>\n",
        "      <th></th>\n",
        "      <th></th>\n",
        "      <th></th>\n",
        "      <th></th>\n",
        "      <th></th>\n",
        "    </tr>\n",
        "  </thead>\n",
        "  <tbody>\n",
        "    <tr>\n",
        "      <th>2013</th>\n",
        "      <td> 2</td>\n",
        "      <td> 26</td>\n",
        "      <td> 14</td>\n",
        "      <td> -1</td>\n",
        "      <td> [2012]</td>\n",
        "      <td> &lt;class 'sklearn.linear_model.logistic.Logistic...</td>\n",
        "    </tr>\n",
        "    <tr>\n",
        "      <th>2014</th>\n",
        "      <td> 0</td>\n",
        "      <td> 12</td>\n",
        "      <td> -8</td>\n",
        "      <td>-19</td>\n",
        "      <td> [2013]</td>\n",
        "      <td> &lt;class 'sklearn.linear_model.logistic.Logistic...</td>\n",
        "    </tr>\n",
        "  </tbody>\n",
        "</table>\n",
        "</div>"
       ],
       "metadata": {},
       "output_type": "pyout",
       "prompt_number": 78,
       "text": [
        "        lineScore  probaScore1  probaScore2  probaScore3 trainYears  \\\n",
        "season                                                                \n",
        "2013            2           26           14           -1     [2012]   \n",
        "2014            0           12           -8          -19     [2013]   \n",
        "\n",
        "                                           classifierType  \n",
        "season                                                     \n",
        "2013    <class 'sklearn.linear_model.logistic.Logistic...  \n",
        "2014    <class 'sklearn.linear_model.logistic.Logistic...  "
       ]
      }
     ],
     "prompt_number": 78
    },
    {
     "cell_type": "code",
     "collapsed": false,
     "input": [
      "oCollection.listCollection()"
     ],
     "language": "python",
     "metadata": {},
     "outputs": [
      {
       "metadata": {},
       "output_type": "pyout",
       "prompt_number": 79,
       "text": [
        "['LogisticReg-train-[2012]-test-2013', 'LogisticReg-train-[2013]-test-2014']"
       ]
      }
     ],
     "prompt_number": 79
    },
    {
     "cell_type": "code",
     "collapsed": false,
     "input": [
      "# copy from one collection to another and change classifier and compute\n",
      "\n",
      "reload(madden)\n",
      "svm_Collection = madden.SeasonClassifierCollection()\n",
      "\n",
      "for k,v in oCollection.collection.items():\n",
      "    mlClassifier = svm.SVC(kernel='poly',probability=True)\n",
      "    print (k,v)\n",
      "    \n",
      "    v.setClassifier(mlClassifier)\n",
      "    v.runClassifier('favoredWin')\n",
      "    v.predict()\n",
      "    v.predictAccuracy('test')\n",
      "    v.rank()\n",
      "    newCollection.addSeasonClassifier(v,k)\n",
      "\n",
      "newCollection.summary()"
     ],
     "language": "python",
     "metadata": {},
     "outputs": [
      {
       "output_type": "stream",
       "stream": "stdout",
       "text": [
        "LogisticReg-train-[2012]-test-2013 <madden.SeasonClassifier object at 0x111198c90>\n",
        "training data accuracy = "
       ]
      },
      {
       "output_type": "stream",
       "stream": "stdout",
       "text": [
        " 0.7578125\n",
        "test predict accuracy =  0.6328125\n",
        "             score  win by    win\n",
        "lineScore     1655       2   True\n",
        "probaScore1   1619     -34  False\n",
        "probaScore2   1616     -37  False\n",
        "probaScore3   1619     -34  False"
       ]
      },
      {
       "output_type": "stream",
       "stream": "stdout",
       "text": [
        "\n",
        "LogisticReg-train-[2013]-test-2014 <madden.SeasonClassifier object at 0x1110bde90>\n",
        "training data accuracy = "
       ]
      },
      {
       "output_type": "stream",
       "stream": "stdout",
       "text": [
        " 0.75390625\n",
        "test predict accuracy =  0.714285714286\n",
        "             score  win by   win\n",
        "lineScore     1044    1044  True\n",
        "probaScore1   1064    1064  True\n",
        "probaScore2   1064    1064  True\n",
        "probaScore3   1064    1064  True"
       ]
      },
      {
       "output_type": "stream",
       "stream": "stdout",
       "text": [
        "\n"
       ]
      },
      {
       "html": [
        "<div style=\"max-height:1000px;max-width:1500px;overflow:auto;\">\n",
        "<table border=\"1\" class=\"dataframe\">\n",
        "  <thead>\n",
        "    <tr style=\"text-align: right;\">\n",
        "      <th></th>\n",
        "      <th>lineScore</th>\n",
        "      <th>probaScore1</th>\n",
        "      <th>probaScore2</th>\n",
        "      <th>probaScore3</th>\n",
        "      <th>trainYears</th>\n",
        "      <th>classifierType</th>\n",
        "    </tr>\n",
        "    <tr>\n",
        "      <th>season</th>\n",
        "      <th></th>\n",
        "      <th></th>\n",
        "      <th></th>\n",
        "      <th></th>\n",
        "      <th></th>\n",
        "      <th></th>\n",
        "    </tr>\n",
        "  </thead>\n",
        "  <tbody>\n",
        "    <tr>\n",
        "      <th>2013</th>\n",
        "      <td> 2</td>\n",
        "      <td>-34</td>\n",
        "      <td>-37</td>\n",
        "      <td>-34</td>\n",
        "      <td> [2012]</td>\n",
        "      <td> &lt;class 'sklearn.svm.classes.SVC'&gt;</td>\n",
        "    </tr>\n",
        "    <tr>\n",
        "      <th>2014</th>\n",
        "      <td> 0</td>\n",
        "      <td> 20</td>\n",
        "      <td> 20</td>\n",
        "      <td> 20</td>\n",
        "      <td> [2013]</td>\n",
        "      <td> &lt;class 'sklearn.svm.classes.SVC'&gt;</td>\n",
        "    </tr>\n",
        "  </tbody>\n",
        "</table>\n",
        "</div>"
       ],
       "metadata": {},
       "output_type": "pyout",
       "prompt_number": 80,
       "text": [
        "        lineScore  probaScore1  probaScore2  probaScore3 trainYears  \\\n",
        "season                                                                \n",
        "2013            2          -34          -37          -34     [2012]   \n",
        "2014            0           20           20           20     [2013]   \n",
        "\n",
        "                           classifierType  \n",
        "season                                     \n",
        "2013    <class 'sklearn.svm.classes.SVC'>  \n",
        "2014    <class 'sklearn.svm.classes.SVC'>  "
       ]
      }
     ],
     "prompt_number": 80
    },
    {
     "cell_type": "code",
     "collapsed": false,
     "input": [],
     "language": "python",
     "metadata": {},
     "outputs": []
    }
   ],
   "metadata": {}
  }
 ]
}