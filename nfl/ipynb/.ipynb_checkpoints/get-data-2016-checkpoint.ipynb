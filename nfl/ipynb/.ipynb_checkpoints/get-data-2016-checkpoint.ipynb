{
 "cells": [
  {
   "cell_type": "code",
   "execution_count": 109,
   "metadata": {
    "collapsed": true
   },
   "outputs": [],
   "source": [
    "import pandas\n",
    "import requests\n",
    "import bs4\n",
    "import os"
   ]
  },
  {
   "cell_type": "code",
   "execution_count": 127,
   "metadata": {
    "collapsed": false
   },
   "outputs": [],
   "source": [
    "url = \"http://www.fftoday.com/nfl/schedule.php\"\n",
    "soup = bs4.BeautifulSoup(requests.get(url).text)\n",
    "df = pandas.read_html(str(soup.find_all('table')[8]))[0]\n",
    "df.columns = ['date', 'time', 'Visitor', 'Home Team']"
   ]
  },
  {
   "cell_type": "code",
   "execution_count": 128,
   "metadata": {
    "collapsed": false
   },
   "outputs": [],
   "source": [
    "# get these of the pesky characters\n",
    "bad_chars = [u'\\xc2' , u'\\xa0', u'\\xb9']\n",
    "\n",
    "for cc in df.columns:\n",
    "    for c in bad_chars:\n",
    "        df[cc] = df[cc].str.replace(c,'')"
   ]
  },
  {
   "cell_type": "code",
   "execution_count": 129,
   "metadata": {
    "collapsed": false
   },
   "outputs": [],
   "source": [
    "# fill in dates\n",
    "for ii,row in df.iterrows():\n",
    "    if ii > 0:\n",
    "        if row['date'] == '':\n",
    "            row['date'] = prev['date']\n",
    "    prev = row \n",
    "    \n",
    "# fix the rows \n",
    "df = df.drop_duplicates().dropna()\n",
    "df = df[1:]"
   ]
  },
  {
   "cell_type": "code",
   "execution_count": 130,
   "metadata": {
    "collapsed": false
   },
   "outputs": [],
   "source": [
    "# add year to dates\n",
    "df.date = df.date + ' 2016'\n",
    "\n",
    "# fix the ones in Jan\n",
    "date_filter = df.date.str.contains('Jan')\n",
    "df.loc[date_filter, 'date'] = df[date_filter].date.str.replace('2016', '2017')\n",
    "\n",
    "# convert to datetime\n",
    "df.date = pandas.to_datetime(df.date, format='%a %b %d %Y')"
   ]
  },
  {
   "cell_type": "code",
   "execution_count": 131,
   "metadata": {
    "collapsed": false
   },
   "outputs": [],
   "source": [
    "# define the root directory for the nfl code in $MLNLF_ROOT\n",
    "\n",
    "rootDir = '/Users/amit/repos/mlnfl/nfl'\n",
    "codeDir = \"\".join([rootDir, os.path.sep])\n",
    "dataRoot = \"\".join([codeDir, \"data\", os.path.sep])\n",
    "\n",
    "df.to_csv(dataRoot + '/nfl_schedule_2016.csv', index=False)"
   ]
  },
  {
   "cell_type": "code",
   "execution_count": null,
   "metadata": {
    "collapsed": true
   },
   "outputs": [],
   "source": []
  }
 ],
 "metadata": {
  "kernelspec": {
   "display_name": "Python 2",
   "language": "python",
   "name": "python2"
  },
  "language_info": {
   "codemirror_mode": {
    "name": "ipython",
    "version": 2
   },
   "file_extension": ".py",
   "mimetype": "text/x-python",
   "name": "python",
   "nbconvert_exporter": "python",
   "pygments_lexer": "ipython2",
   "version": "2.7.10"
  }
 },
 "nbformat": 4,
 "nbformat_minor": 0
}
