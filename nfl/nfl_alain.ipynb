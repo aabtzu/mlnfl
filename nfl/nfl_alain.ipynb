{
 "metadata": {
  "name": "",
  "signature": "sha256:fc0a8e250f40625bf6adb9fefa45cb324a6de5d06ec29a9cdbe301d08cc25a98"
 },
 "nbformat": 3,
 "nbformat_minor": 0,
 "worksheets": [
  {
   "cells": [
    {
     "cell_type": "markdown",
     "metadata": {},
     "source": [
      "## nfl lines machine learning project\n",
      "\n",
      "\n",
      "source data for historical spreads and game scores\n",
      "http://www.repole.com/sun4cast/data.html"
     ]
    },
    {
     "cell_type": "code",
     "collapsed": false,
     "input": [
      "%matplotlib inline\n",
      "\n",
      "from __future__ import division\n",
      "from __future__ import print_function\n",
      "import os\n",
      "import numpy as np\n",
      "import pandas as pd\n",
      "import madden\n",
      "import sklearn_pandas\n",
      "import matplotlib.pyplot as plt"
     ],
     "language": "python",
     "metadata": {},
     "outputs": [],
     "prompt_number": 1
    },
    {
     "cell_type": "code",
     "collapsed": false,
     "input": [
      "# define source and data directories\n",
      "homeDir = \"\".join([os.environ['HOME'], os.path.sep])\n",
      "\n",
      "codeDir = \"\".join([homeDir, 'gitdev/bitbucket.org/littlea1/mlkaggle/nfl', os.path.sep])\n",
      "dataRoot = \"\".join([codeDir, \"data\", os.path.sep])\n",
      "os.chdir(codeDir)\n",
      "\n",
      "print(codeDir)\n",
      "dataRoot"
     ],
     "language": "python",
     "metadata": {},
     "outputs": [
      {
       "output_type": "stream",
       "stream": "stdout",
       "text": [
        "/Users/alainledon/gitdev/bitbucket.org/littlea1/mlkaggle/nfl/\n"
       ]
      },
      {
       "metadata": {},
       "output_type": "pyout",
       "prompt_number": 2,
       "text": [
        "'/Users/alainledon/gitdev/bitbucket.org/littlea1/mlkaggle/nfl/data/'"
       ]
      }
     ],
     "prompt_number": 2
    },
    {
     "cell_type": "code",
     "collapsed": false,
     "input": [
      "# lookup files\n",
      "from referencedata import ReferenceData\n",
      "lookupFiles = { 'teams' : {'file': 'nflTeams.csv' },\n",
      "                'seasons' : {'file': 'seasons.csv' },\n",
      "               }\n",
      "\n",
      "lookupDir = \"\".join([dataRoot, 'lookup', os.path.sep])\n",
      "\n",
      "print (\"lookupFiles = %s\" % lookupFiles)\n",
      "print (\"lookupDir = %s\" % lookupDir)"
     ],
     "language": "python",
     "metadata": {},
     "outputs": [
      {
       "output_type": "stream",
       "stream": "stdout",
       "text": [
        "lookupFiles = {'seasons': {'file': 'seasons.csv'}, 'teams': {'file': 'nflTeams.csv'}}\n",
        "lookupDir = /Users/alainledon/gitdev/bitbucket.org/littlea1/mlkaggle/nfl/data/lookup/\n"
       ]
      }
     ],
     "prompt_number": 3
    },
    {
     "cell_type": "code",
     "collapsed": false,
     "input": [
      "# in notebook, leave all the diagnostic outputs since this is not the real thing\n",
      "# we are using the nb to investigate\n",
      "reference_data = ReferenceData(lookupDir)\n",
      "reference_data.teams_df.head()"
     ],
     "language": "python",
     "metadata": {},
     "outputs": [
      {
       "html": [
        "<div style=\"max-height:1000px;max-width:1500px;overflow:auto;\">\n",
        "<table border=\"1\" class=\"dataframe\">\n",
        "  <thead>\n",
        "    <tr style=\"text-align: right;\">\n",
        "      <th></th>\n",
        "      <th>city</th>\n",
        "      <th>mascot</th>\n",
        "      <th>league</th>\n",
        "      <th>division</th>\n",
        "      <th>year</th>\n",
        "    </tr>\n",
        "    <tr>\n",
        "      <th>team</th>\n",
        "      <th></th>\n",
        "      <th></th>\n",
        "      <th></th>\n",
        "      <th></th>\n",
        "      <th></th>\n",
        "    </tr>\n",
        "  </thead>\n",
        "  <tbody>\n",
        "    <tr>\n",
        "      <th>Baltimore Ravens</th>\n",
        "      <td>NaN</td>\n",
        "      <td>NaN</td>\n",
        "      <td> afc</td>\n",
        "      <td> north</td>\n",
        "      <td>NaN</td>\n",
        "    </tr>\n",
        "    <tr>\n",
        "      <th>New England Patriots</th>\n",
        "      <td>NaN</td>\n",
        "      <td>NaN</td>\n",
        "      <td> afc</td>\n",
        "      <td>  east</td>\n",
        "      <td>NaN</td>\n",
        "    </tr>\n",
        "    <tr>\n",
        "      <th>Tennessee Titans</th>\n",
        "      <td>NaN</td>\n",
        "      <td>NaN</td>\n",
        "      <td> afc</td>\n",
        "      <td> south</td>\n",
        "      <td>NaN</td>\n",
        "    </tr>\n",
        "    <tr>\n",
        "      <th>Atlanta Falcons</th>\n",
        "      <td>NaN</td>\n",
        "      <td>NaN</td>\n",
        "      <td> nfc</td>\n",
        "      <td> south</td>\n",
        "      <td>NaN</td>\n",
        "    </tr>\n",
        "    <tr>\n",
        "      <th>Tampa Bay Buccaneers</th>\n",
        "      <td>NaN</td>\n",
        "      <td>NaN</td>\n",
        "      <td> nfc</td>\n",
        "      <td> south</td>\n",
        "      <td>NaN</td>\n",
        "    </tr>\n",
        "  </tbody>\n",
        "</table>\n",
        "</div>"
       ],
       "metadata": {},
       "output_type": "pyout",
       "prompt_number": 4,
       "text": [
        "                      city  mascot league division  year\n",
        "team                                                    \n",
        "Baltimore Ravens       NaN     NaN    afc    north   NaN\n",
        "New England Patriots   NaN     NaN    afc     east   NaN\n",
        "Tennessee Titans       NaN     NaN    afc    south   NaN\n",
        "Atlanta Falcons        NaN     NaN    nfc    south   NaN\n",
        "Tampa Bay Buccaneers   NaN     NaN    nfc    south   NaN"
       ]
      }
     ],
     "prompt_number": 4
    },
    {
     "cell_type": "code",
     "collapsed": false,
     "input": [
      "al_seasons = reference_data.seasons_df\n",
      "al_seasons.tail()"
     ],
     "language": "python",
     "metadata": {},
     "outputs": [
      {
       "html": [
        "<div style=\"max-height:1000px;max-width:1500px;overflow:auto;\">\n",
        "<table border=\"1\" class=\"dataframe\">\n",
        "  <thead>\n",
        "    <tr style=\"text-align: right;\">\n",
        "      <th></th>\n",
        "      <th>start</th>\n",
        "      <th>winner</th>\n",
        "    </tr>\n",
        "    <tr>\n",
        "      <th>season</th>\n",
        "      <th></th>\n",
        "      <th></th>\n",
        "    </tr>\n",
        "  </thead>\n",
        "  <tbody>\n",
        "    <tr>\n",
        "      <th>2010</th>\n",
        "      <td> 13-Sep-10</td>\n",
        "      <td> 1590</td>\n",
        "    </tr>\n",
        "    <tr>\n",
        "      <th>2011</th>\n",
        "      <td> 12-Sep-11</td>\n",
        "      <td> 1670</td>\n",
        "    </tr>\n",
        "    <tr>\n",
        "      <th>2012</th>\n",
        "      <td> 10-Sep-12</td>\n",
        "      <td> 1632</td>\n",
        "    </tr>\n",
        "    <tr>\n",
        "      <th>2013</th>\n",
        "      <td>  9-Sep-13</td>\n",
        "      <td> 1653</td>\n",
        "    </tr>\n",
        "    <tr>\n",
        "      <th>2014</th>\n",
        "      <td>  8-Sep-14</td>\n",
        "      <td>  NaN</td>\n",
        "    </tr>\n",
        "  </tbody>\n",
        "</table>\n",
        "</div>"
       ],
       "metadata": {},
       "output_type": "pyout",
       "prompt_number": 5,
       "text": [
        "            start  winner\n",
        "season                   \n",
        "2010    13-Sep-10    1590\n",
        "2011    12-Sep-11    1670\n",
        "2012    10-Sep-12    1632\n",
        "2013     9-Sep-13    1653\n",
        "2014     8-Sep-14     NaN"
       ]
      }
     ],
     "prompt_number": 5
    },
    {
     "cell_type": "code",
     "collapsed": false,
     "input": [
      "al_teams = reference_data.teams_df\n",
      "al_teams.head()"
     ],
     "language": "python",
     "metadata": {},
     "outputs": [
      {
       "html": [
        "<div style=\"max-height:1000px;max-width:1500px;overflow:auto;\">\n",
        "<table border=\"1\" class=\"dataframe\">\n",
        "  <thead>\n",
        "    <tr style=\"text-align: right;\">\n",
        "      <th></th>\n",
        "      <th>city</th>\n",
        "      <th>mascot</th>\n",
        "      <th>league</th>\n",
        "      <th>division</th>\n",
        "      <th>year</th>\n",
        "    </tr>\n",
        "    <tr>\n",
        "      <th>team</th>\n",
        "      <th></th>\n",
        "      <th></th>\n",
        "      <th></th>\n",
        "      <th></th>\n",
        "      <th></th>\n",
        "    </tr>\n",
        "  </thead>\n",
        "  <tbody>\n",
        "    <tr>\n",
        "      <th>Baltimore Ravens</th>\n",
        "      <td>NaN</td>\n",
        "      <td>NaN</td>\n",
        "      <td> afc</td>\n",
        "      <td> north</td>\n",
        "      <td>NaN</td>\n",
        "    </tr>\n",
        "    <tr>\n",
        "      <th>New England Patriots</th>\n",
        "      <td>NaN</td>\n",
        "      <td>NaN</td>\n",
        "      <td> afc</td>\n",
        "      <td>  east</td>\n",
        "      <td>NaN</td>\n",
        "    </tr>\n",
        "    <tr>\n",
        "      <th>Tennessee Titans</th>\n",
        "      <td>NaN</td>\n",
        "      <td>NaN</td>\n",
        "      <td> afc</td>\n",
        "      <td> south</td>\n",
        "      <td>NaN</td>\n",
        "    </tr>\n",
        "    <tr>\n",
        "      <th>Atlanta Falcons</th>\n",
        "      <td>NaN</td>\n",
        "      <td>NaN</td>\n",
        "      <td> nfc</td>\n",
        "      <td> south</td>\n",
        "      <td>NaN</td>\n",
        "    </tr>\n",
        "    <tr>\n",
        "      <th>Tampa Bay Buccaneers</th>\n",
        "      <td>NaN</td>\n",
        "      <td>NaN</td>\n",
        "      <td> nfc</td>\n",
        "      <td> south</td>\n",
        "      <td>NaN</td>\n",
        "    </tr>\n",
        "  </tbody>\n",
        "</table>\n",
        "</div>"
       ],
       "metadata": {},
       "output_type": "pyout",
       "prompt_number": 6,
       "text": [
        "                      city  mascot league division  year\n",
        "team                                                    \n",
        "Baltimore Ravens       NaN     NaN    afc    north   NaN\n",
        "New England Patriots   NaN     NaN    afc     east   NaN\n",
        "Tennessee Titans       NaN     NaN    afc    south   NaN\n",
        "Atlanta Falcons        NaN     NaN    nfc    south   NaN\n",
        "Tampa Bay Buccaneers   NaN     NaN    nfc    south   NaN"
       ]
      }
     ],
     "prompt_number": 6
    },
    {
     "cell_type": "code",
     "collapsed": false,
     "input": [
      "team1 = al_teams.loc[\"Tennessee Titans\", [\"league\", \"division\"]].reindex()\n",
      "team2 = al_teams.loc[\"Indianapolis Colts\", [\"league\", \"division\"]].reindex()\n",
      "print(team1)\n",
      "print(team2)"
     ],
     "language": "python",
     "metadata": {},
     "outputs": [
      {
       "output_type": "stream",
       "stream": "stdout",
       "text": [
        "league        afc\n",
        "division    south\n",
        "Name: Tennessee Titans, dtype: object\n",
        "league        afc\n",
        "division    south\n",
        "Name: Indianapolis Colts, dtype: object\n"
       ]
      }
     ],
     "prompt_number": 7
    },
    {
     "cell_type": "code",
     "collapsed": false,
     "input": [
      "type(reference_data.seasons_df.loc[int(\"2012\"), \"start\"])"
     ],
     "language": "python",
     "metadata": {},
     "outputs": [
      {
       "metadata": {},
       "output_type": "pyout",
       "prompt_number": 8,
       "text": [
        "str"
       ]
      }
     ],
     "prompt_number": 8
    },
    {
     "cell_type": "code",
     "collapsed": true,
     "input": [
      "#team1[\"league\"] == team2[\"league\"] & team1[\"division\"] == team2[\"division\"]\n",
      "team1 = al_teams.loc[\"Tennessee Titans\", ]\n",
      "team2 = al_teams.loc[\"Indianapolis Colts\", ]\n",
      "team1[\"league\"] == team2[\"league\"]"
     ],
     "language": "python",
     "metadata": {},
     "outputs": [
      {
       "metadata": {},
       "output_type": "pyout",
       "prompt_number": 9,
       "text": [
        "True"
       ]
      }
     ],
     "prompt_number": 9
    },
    {
     "cell_type": "code",
     "collapsed": false,
     "input": [
      "### NEW multi-season training\n",
      "import madden\n",
      "reload(madden)\n",
      "\n",
      "# need to be arrays\n",
      "trainYears = [2013] #range(2008.2013) \n",
      "testYear = [2013]\n",
      "\n",
      "# training data set - includes one extra year for prev yr record\n",
      "seasons = np.array(trainYears)\n",
      "print (\"training seasons >> \", seasons)"
     ],
     "language": "python",
     "metadata": {},
     "outputs": [
      {
       "output_type": "stream",
       "stream": "stdout",
       "text": [
        "training seasons >>  [2013]\n"
       ]
      }
     ],
     "prompt_number": 10
    },
    {
     "cell_type": "code",
     "collapsed": false,
     "input": [
      "np.insert(seasons, 0, seasons.min() - 1)"
     ],
     "language": "python",
     "metadata": {},
     "outputs": [
      {
       "metadata": {},
       "output_type": "pyout",
       "prompt_number": 11,
       "text": [
        "array([2012, 2013])"
       ]
      }
     ],
     "prompt_number": 11
    },
    {
     "cell_type": "code",
     "collapsed": false,
     "input": [
      "madden.PATH_TO_NFL_LINES"
     ],
     "language": "python",
     "metadata": {},
     "outputs": [
      {
       "metadata": {},
       "output_type": "pyout",
       "prompt_number": 12,
       "text": [
        "'/Users/alainledon/gitdev/bitbucket.org/littlea1/mlkaggle/nfl/data/lines/'"
       ]
      }
     ],
     "prompt_number": 12
    },
    {
     "cell_type": "code",
     "collapsed": false,
     "input": [
      "# read all the \n",
      "dfFileAllGames = madden.readGamesAll(madden.PATH_TO_NFL_LINES, seasons)\n",
      "dfFileAllGames.head()"
     ],
     "language": "python",
     "metadata": {},
     "outputs": [
      {
       "html": [
        "<div style=\"max-height:1000px;max-width:1500px;overflow:auto;\">\n",
        "<table border=\"1\" class=\"dataframe\">\n",
        "  <thead>\n",
        "    <tr style=\"text-align: right;\">\n",
        "      <th></th>\n",
        "      <th>Date</th>\n",
        "      <th>Visitor</th>\n",
        "      <th>Visitor Score</th>\n",
        "      <th>Home Team</th>\n",
        "      <th>Home Score</th>\n",
        "      <th>Line</th>\n",
        "      <th>Total Line</th>\n",
        "      <th>season</th>\n",
        "    </tr>\n",
        "  </thead>\n",
        "  <tbody>\n",
        "    <tr>\n",
        "      <th>7918</th>\n",
        "      <td> 9/5/12</td>\n",
        "      <td>      Dallas Cowboys</td>\n",
        "      <td> 24</td>\n",
        "      <td>    New York Giants</td>\n",
        "      <td> 17</td>\n",
        "      <td>  4.0</td>\n",
        "      <td>   46</td>\n",
        "      <td> 2012</td>\n",
        "    </tr>\n",
        "    <tr>\n",
        "      <th>7919</th>\n",
        "      <td> 9/9/12</td>\n",
        "      <td>  Indianapolis Colts</td>\n",
        "      <td> 21</td>\n",
        "      <td>      Chicago Bears</td>\n",
        "      <td> 41</td>\n",
        "      <td> 10.0</td>\n",
        "      <td> 42.5</td>\n",
        "      <td> 2012</td>\n",
        "    </tr>\n",
        "    <tr>\n",
        "      <th>7920</th>\n",
        "      <td> 9/9/12</td>\n",
        "      <td> Philadelphia Eagles</td>\n",
        "      <td> 17</td>\n",
        "      <td>   Cleveland Browns</td>\n",
        "      <td> 16</td>\n",
        "      <td> -9.5</td>\n",
        "      <td>   42</td>\n",
        "      <td> 2012</td>\n",
        "    </tr>\n",
        "    <tr>\n",
        "      <th>7921</th>\n",
        "      <td> 9/9/12</td>\n",
        "      <td>       Buffalo Bills</td>\n",
        "      <td> 28</td>\n",
        "      <td>      New York Jets</td>\n",
        "      <td> 48</td>\n",
        "      <td>  3.0</td>\n",
        "      <td>   39</td>\n",
        "      <td> 2012</td>\n",
        "    </tr>\n",
        "    <tr>\n",
        "      <th>7922</th>\n",
        "      <td> 9/9/12</td>\n",
        "      <td> Washington Redskins</td>\n",
        "      <td> 40</td>\n",
        "      <td> New Orleans Saints</td>\n",
        "      <td> 32</td>\n",
        "      <td>  9.0</td>\n",
        "      <td> 50.5</td>\n",
        "      <td> 2012</td>\n",
        "    </tr>\n",
        "  </tbody>\n",
        "</table>\n",
        "</div>"
       ],
       "metadata": {},
       "output_type": "pyout",
       "prompt_number": 13,
       "text": [
        "        Date              Visitor  Visitor Score           Home Team  \\\n",
        "7918  9/5/12       Dallas Cowboys             24     New York Giants   \n",
        "7919  9/9/12   Indianapolis Colts             21       Chicago Bears   \n",
        "7920  9/9/12  Philadelphia Eagles             17    Cleveland Browns   \n",
        "7921  9/9/12        Buffalo Bills             28       New York Jets   \n",
        "7922  9/9/12  Washington Redskins             40  New Orleans Saints   \n",
        "\n",
        "      Home Score  Line Total Line  season  \n",
        "7918          17   4.0         46    2012  \n",
        "7919          41  10.0       42.5    2012  \n",
        "7920          16  -9.5         42    2012  \n",
        "7921          48   3.0         39    2012  \n",
        "7922          32   9.0       50.5    2012  "
       ]
      }
     ],
     "prompt_number": 13
    },
    {
     "cell_type": "code",
     "collapsed": false,
     "input": [
      "# read all the \n",
      "dfFileAllGames = madden.readGamesAll(madden.PATH_TO_NFL_LINES, seasons)\n",
      "dfFileAllGames.head()\n",
      "\n",
      "# compile season record for all teams\n",
      "dfAllTeams = madden.seasonRecord(dfFileAllGames, reference_data)\n",
      "\n",
      "# apply season records and compute other fields for all games\n",
      "dfAllGames = madden.processGames(dfFileAllGames, dfAllTeams, reference_data)\n",
      "# remove extra year of data \n",
      "dfAllGames = dfAllGames[dfAllGames.season.isin(seasons)]\n",
      "\n",
      "# define independent variables for logistic regression\n",
      "features = ['favoredRecord','underdogRecord',  # current year records of both teams\n",
      "            # prev year records, helps early in season when only few games played\n",
      "            'prevFavoredRecord','prevUnderdogRecord', \n",
      "            'gameWeek',  # week in season, should make a good/bad record later in season more important\n",
      "            'absLine',  # absolute value of spread since favored team already determined\n",
      "            'divisionGame', # T/F, usually more competitive rivalry games, i.e. bad teams still win home division games.\n",
      "            'favoredHomeGame', # T/F, important since output of classifier is \"did the favored team win?\"\n",
      "            ]\n",
      "# run the logistic regression\n",
      "logreg = madden.runML(dfAllGames,features)\n",
      "\n",
      "# use different test set \n",
      "seasonTest = np.array(testYear) # should be only one year\n",
      "print (\"results for >> \", seasonTest)\n",
      "dfGamesTest = madden.readGamesAll(madden.PATH_TO_NFL_LINES, seasonTest)\n",
      "dfTeamsTest = madden.seasonRecord(dfGamesTest, reference_data)\n",
      "dfGamesTest = madden.processGames(dfGamesTest, dfTeamsTest, reference_data)\n",
      "dfGamesTest = dfGamesTest[dfGamesTest.season.isin(seasonTest)]\n",
      "\n",
      "# apply results of logistic regression to the test set\n",
      "dfPredict = madden.predictGames(dfGamesTest, logreg, features)\n",
      "\n",
      "# apply ranking logic and determine scoring outcomes for league\n",
      "dfAll = madden.rankGames(dfPredict, reference_data, seasonTest[0])"
     ],
     "language": "python",
     "metadata": {},
     "outputs": [
      {
       "output_type": "stream",
       "stream": "stdout",
       "text": [
        "training data accuracy =  0.70703125\n",
        "results for >>  [2013]\n",
        "             score  win by   win\n",
        "lineScore     1655       2  True\n",
        "probaScore1   1700      47  True\n",
        "probaScore2   1730      77  True\n",
        "probaScore3   1709      56  True"
       ]
      },
      {
       "output_type": "stream",
       "stream": "stdout",
       "text": [
        "\n"
       ]
      }
     ],
     "prompt_number": 14
    },
    {
     "cell_type": "code",
     "collapsed": false,
     "input": [
      "# diagnostics ... weekly outcomes\n",
      "g = dfAll.groupby('gameWeek')['lineScore','probaScore1','probaScore2','probaScore3'].sum()\n",
      "print(g)\n",
      "g.sum()"
     ],
     "language": "python",
     "metadata": {},
     "outputs": [
      {
       "output_type": "stream",
       "stream": "stdout",
       "text": [
        "          lineScore  probaScore1  probaScore2  probaScore3\n",
        "gameWeek                                                  \n",
        "1               103          111          108          106\n",
        "2               114          105          106          100\n",
        "3                86          104          107          109\n",
        "4                94           94          104           99\n",
        "5                77           74           81           83\n",
        "6               114          113          109          102\n",
        "7                95           85           85           85\n",
        "8               118          117          121          121\n",
        "9                79           86           96           95\n",
        "10               81           82           83           79\n",
        "11              109          119          121          123\n",
        "12               62           61           58           57\n",
        "13              108          112          112          112\n",
        "14              121          133          134          135\n",
        "15               78           83           84           82\n",
        "16               92           95           95           95\n",
        "17              124          126          126          126\n"
       ]
      },
      {
       "metadata": {},
       "output_type": "pyout",
       "prompt_number": 15,
       "text": [
        "lineScore      1655\n",
        "probaScore1    1700\n",
        "probaScore2    1730\n",
        "probaScore3    1709\n",
        "dtype: float64"
       ]
      }
     ],
     "prompt_number": 15
    },
    {
     "cell_type": "code",
     "collapsed": false,
     "input": [
      "# display details for a single week\n",
      "dispWeek = 1\n",
      "dispCols = ['season','gameWeek','Visitor','Home Team',\n",
      "            'prevFavoredRecord','Line','predict_proba','Visitor Score',\n",
      "            'Home Score','favoredWin','predictWin','lineGuess','probaGuess', 'lineScore','probaScore1']\n",
      "print(dfAll[dfAll.gameWeek == dispWeek]['lineScore'].sum())"
     ],
     "language": "python",
     "metadata": {},
     "outputs": [
      {
       "output_type": "stream",
       "stream": "stdout",
       "text": [
        "103.0\n"
       ]
      }
     ],
     "prompt_number": 16
    },
    {
     "cell_type": "code",
     "collapsed": false,
     "input": [
      "dfAll[dfAll.gameWeek == dispWeek][dispCols]"
     ],
     "language": "python",
     "metadata": {},
     "outputs": [
      {
       "html": [
        "<div style=\"max-height:1000px;max-width:1500px;overflow:auto;\">\n",
        "<table border=\"1\" class=\"dataframe\">\n",
        "  <thead>\n",
        "    <tr style=\"text-align: right;\">\n",
        "      <th></th>\n",
        "      <th>season</th>\n",
        "      <th>gameWeek</th>\n",
        "      <th>Visitor</th>\n",
        "      <th>Home Team</th>\n",
        "      <th>prevFavoredRecord</th>\n",
        "      <th>Line</th>\n",
        "      <th>predict_proba</th>\n",
        "      <th>Visitor Score</th>\n",
        "      <th>Home Score</th>\n",
        "      <th>favoredWin</th>\n",
        "      <th>predictWin</th>\n",
        "      <th>lineGuess</th>\n",
        "      <th>probaGuess</th>\n",
        "      <th>lineScore</th>\n",
        "      <th>probaScore1</th>\n",
        "    </tr>\n",
        "  </thead>\n",
        "  <tbody>\n",
        "    <tr>\n",
        "      <th>8181</th>\n",
        "      <td> 2013</td>\n",
        "      <td> 1</td>\n",
        "      <td>       Miami Dolphins</td>\n",
        "      <td>     Cleveland Browns</td>\n",
        "      <td> 0.3125</td>\n",
        "      <td>  2.5</td>\n",
        "      <td> 0.560525</td>\n",
        "      <td> 23</td>\n",
        "      <td> 10</td>\n",
        "      <td> 0</td>\n",
        "      <td> 0</td>\n",
        "      <td>  1</td>\n",
        "      <td>  5</td>\n",
        "      <td>  0</td>\n",
        "      <td>  0</td>\n",
        "    </tr>\n",
        "    <tr>\n",
        "      <th>8180</th>\n",
        "      <td> 2013</td>\n",
        "      <td> 1</td>\n",
        "      <td>   Cincinnati Bengals</td>\n",
        "      <td>        Chicago Bears</td>\n",
        "      <td> 0.6250</td>\n",
        "      <td>  3.0</td>\n",
        "      <td> 0.611758</td>\n",
        "      <td> 21</td>\n",
        "      <td> 24</td>\n",
        "      <td> 1</td>\n",
        "      <td> 1</td>\n",
        "      <td>  2</td>\n",
        "      <td>  6</td>\n",
        "      <td>  2</td>\n",
        "      <td>  6</td>\n",
        "    </tr>\n",
        "    <tr>\n",
        "      <th>8182</th>\n",
        "      <td> 2013</td>\n",
        "      <td> 1</td>\n",
        "      <td>     Seattle Seahawks</td>\n",
        "      <td>    Carolina Panthers</td>\n",
        "      <td> 0.6875</td>\n",
        "      <td> -3.5</td>\n",
        "      <td> 0.453621</td>\n",
        "      <td> 12</td>\n",
        "      <td>  7</td>\n",
        "      <td> 1</td>\n",
        "      <td> 0</td>\n",
        "      <td>  3</td>\n",
        "      <td>  2</td>\n",
        "      <td>  3</td>\n",
        "      <td>  2</td>\n",
        "    </tr>\n",
        "    <tr>\n",
        "      <th>8187</th>\n",
        "      <td> 2013</td>\n",
        "      <td> 1</td>\n",
        "      <td>      New York Giants</td>\n",
        "      <td>       Dallas Cowboys</td>\n",
        "      <td> 0.5000</td>\n",
        "      <td>  3.5</td>\n",
        "      <td> 0.668012</td>\n",
        "      <td> 31</td>\n",
        "      <td> 36</td>\n",
        "      <td> 1</td>\n",
        "      <td> 1</td>\n",
        "      <td>  4</td>\n",
        "      <td> 10</td>\n",
        "      <td>  4</td>\n",
        "      <td> 10</td>\n",
        "    </tr>\n",
        "    <tr>\n",
        "      <th>8177</th>\n",
        "      <td> 2013</td>\n",
        "      <td> 1</td>\n",
        "      <td>      Atlanta Falcons</td>\n",
        "      <td>   New Orleans Saints</td>\n",
        "      <td> 0.4375</td>\n",
        "      <td>  3.5</td>\n",
        "      <td> 0.706237</td>\n",
        "      <td> 17</td>\n",
        "      <td> 23</td>\n",
        "      <td> 1</td>\n",
        "      <td> 1</td>\n",
        "      <td>  5</td>\n",
        "      <td> 14</td>\n",
        "      <td>  5</td>\n",
        "      <td> 14</td>\n",
        "    </tr>\n",
        "    <tr>\n",
        "      <th>8185</th>\n",
        "      <td> 2013</td>\n",
        "      <td> 1</td>\n",
        "      <td>    Arizona Cardinals</td>\n",
        "      <td>        St Louis Rams</td>\n",
        "      <td> 0.4375</td>\n",
        "      <td>  3.5</td>\n",
        "      <td> 0.625230</td>\n",
        "      <td> 24</td>\n",
        "      <td> 27</td>\n",
        "      <td> 1</td>\n",
        "      <td> 1</td>\n",
        "      <td>  6</td>\n",
        "      <td>  7</td>\n",
        "      <td>  6</td>\n",
        "      <td>  7</td>\n",
        "    </tr>\n",
        "    <tr>\n",
        "      <th>8179</th>\n",
        "      <td> 2013</td>\n",
        "      <td> 1</td>\n",
        "      <td>   Kansas City Chiefs</td>\n",
        "      <td> Jacksonville Jaguars</td>\n",
        "      <td> 0.1250</td>\n",
        "      <td> -4.5</td>\n",
        "      <td> 0.412132</td>\n",
        "      <td> 28</td>\n",
        "      <td>  2</td>\n",
        "      <td> 1</td>\n",
        "      <td> 0</td>\n",
        "      <td>  7</td>\n",
        "      <td>  1</td>\n",
        "      <td>  7</td>\n",
        "      <td>  1</td>\n",
        "    </tr>\n",
        "    <tr>\n",
        "      <th>8183</th>\n",
        "      <td> 2013</td>\n",
        "      <td> 1</td>\n",
        "      <td>    Minnesota Vikings</td>\n",
        "      <td>        Detroit Lions</td>\n",
        "      <td> 0.2500</td>\n",
        "      <td>  4.5</td>\n",
        "      <td> 0.695867</td>\n",
        "      <td> 24</td>\n",
        "      <td> 34</td>\n",
        "      <td> 1</td>\n",
        "      <td> 1</td>\n",
        "      <td>  8</td>\n",
        "      <td> 13</td>\n",
        "      <td>  8</td>\n",
        "      <td> 13</td>\n",
        "    </tr>\n",
        "    <tr>\n",
        "      <th>8188</th>\n",
        "      <td> 2013</td>\n",
        "      <td> 1</td>\n",
        "      <td>  Philadelphia Eagles</td>\n",
        "      <td>  Washington Redskins</td>\n",
        "      <td> 0.6250</td>\n",
        "      <td>  4.5</td>\n",
        "      <td> 0.641515</td>\n",
        "      <td> 33</td>\n",
        "      <td> 27</td>\n",
        "      <td> 0</td>\n",
        "      <td> 0</td>\n",
        "      <td>  9</td>\n",
        "      <td>  9</td>\n",
        "      <td>  0</td>\n",
        "      <td>  0</td>\n",
        "    </tr>\n",
        "    <tr>\n",
        "      <th>8186</th>\n",
        "      <td> 2013</td>\n",
        "      <td> 1</td>\n",
        "      <td>    Green Bay Packers</td>\n",
        "      <td>  San Francisco 49ers</td>\n",
        "      <td> 0.6875</td>\n",
        "      <td>  5.0</td>\n",
        "      <td> 0.670054</td>\n",
        "      <td> 28</td>\n",
        "      <td> 34</td>\n",
        "      <td> 1</td>\n",
        "      <td> 1</td>\n",
        "      <td> 10</td>\n",
        "      <td> 11</td>\n",
        "      <td> 10</td>\n",
        "      <td> 11</td>\n",
        "    </tr>\n",
        "    <tr>\n",
        "      <th>8178</th>\n",
        "      <td> 2013</td>\n",
        "      <td> 1</td>\n",
        "      <td> Tampa Bay Buccaneers</td>\n",
        "      <td>        New York Jets</td>\n",
        "      <td> 0.4375</td>\n",
        "      <td> -6.0</td>\n",
        "      <td> 0.500899</td>\n",
        "      <td> 17</td>\n",
        "      <td> 18</td>\n",
        "      <td> 0</td>\n",
        "      <td> 0</td>\n",
        "      <td> 11</td>\n",
        "      <td>  3</td>\n",
        "      <td>  0</td>\n",
        "      <td>  0</td>\n",
        "    </tr>\n",
        "    <tr>\n",
        "      <th>8176</th>\n",
        "      <td> 2013</td>\n",
        "      <td> 1</td>\n",
        "      <td>     Tennessee Titans</td>\n",
        "      <td>  Pittsburgh Steelers</td>\n",
        "      <td> 0.5000</td>\n",
        "      <td>  6.0</td>\n",
        "      <td> 0.638209</td>\n",
        "      <td> 16</td>\n",
        "      <td>  9</td>\n",
        "      <td> 0</td>\n",
        "      <td> 0</td>\n",
        "      <td> 12</td>\n",
        "      <td>  8</td>\n",
        "      <td>  0</td>\n",
        "      <td>  0</td>\n",
        "    </tr>\n",
        "    <tr>\n",
        "      <th>8189</th>\n",
        "      <td> 2013</td>\n",
        "      <td> 1</td>\n",
        "      <td>       Houston Texans</td>\n",
        "      <td>   San Diego Chargers</td>\n",
        "      <td> 0.7500</td>\n",
        "      <td> -6.5</td>\n",
        "      <td> 0.530878</td>\n",
        "      <td> 31</td>\n",
        "      <td> 28</td>\n",
        "      <td> 1</td>\n",
        "      <td> 1</td>\n",
        "      <td> 13</td>\n",
        "      <td>  4</td>\n",
        "      <td> 13</td>\n",
        "      <td>  4</td>\n",
        "    </tr>\n",
        "    <tr>\n",
        "      <th>8174</th>\n",
        "      <td> 2013</td>\n",
        "      <td> 1</td>\n",
        "      <td>     Baltimore Ravens</td>\n",
        "      <td>       Denver Broncos</td>\n",
        "      <td> 0.8125</td>\n",
        "      <td>  7.5</td>\n",
        "      <td> 0.716336</td>\n",
        "      <td> 27</td>\n",
        "      <td> 49</td>\n",
        "      <td> 1</td>\n",
        "      <td> 1</td>\n",
        "      <td> 14</td>\n",
        "      <td> 15</td>\n",
        "      <td> 14</td>\n",
        "      <td> 15</td>\n",
        "    </tr>\n",
        "    <tr>\n",
        "      <th>8175</th>\n",
        "      <td> 2013</td>\n",
        "      <td> 1</td>\n",
        "      <td> New England Patriots</td>\n",
        "      <td>        Buffalo Bills</td>\n",
        "      <td> 0.7500</td>\n",
        "      <td>-10.5</td>\n",
        "      <td> 0.675558</td>\n",
        "      <td> 23</td>\n",
        "      <td> 21</td>\n",
        "      <td> 1</td>\n",
        "      <td> 1</td>\n",
        "      <td> 15</td>\n",
        "      <td> 12</td>\n",
        "      <td> 15</td>\n",
        "      <td> 12</td>\n",
        "    </tr>\n",
        "    <tr>\n",
        "      <th>8184</th>\n",
        "      <td> 2013</td>\n",
        "      <td> 1</td>\n",
        "      <td>      Oakland Raiders</td>\n",
        "      <td>   Indianapolis Colts</td>\n",
        "      <td> 0.6875</td>\n",
        "      <td> 11.5</td>\n",
        "      <td> 0.740693</td>\n",
        "      <td> 17</td>\n",
        "      <td> 21</td>\n",
        "      <td> 1</td>\n",
        "      <td> 1</td>\n",
        "      <td> 16</td>\n",
        "      <td> 16</td>\n",
        "      <td> 16</td>\n",
        "      <td> 16</td>\n",
        "    </tr>\n",
        "  </tbody>\n",
        "</table>\n",
        "</div>"
       ],
       "metadata": {},
       "output_type": "pyout",
       "prompt_number": 17,
       "text": [
        "      season  gameWeek               Visitor             Home Team  \\\n",
        "8181    2013         1        Miami Dolphins      Cleveland Browns   \n",
        "8180    2013         1    Cincinnati Bengals         Chicago Bears   \n",
        "8182    2013         1      Seattle Seahawks     Carolina Panthers   \n",
        "8187    2013         1       New York Giants        Dallas Cowboys   \n",
        "8177    2013         1       Atlanta Falcons    New Orleans Saints   \n",
        "8185    2013         1     Arizona Cardinals         St Louis Rams   \n",
        "8179    2013         1    Kansas City Chiefs  Jacksonville Jaguars   \n",
        "8183    2013         1     Minnesota Vikings         Detroit Lions   \n",
        "8188    2013         1   Philadelphia Eagles   Washington Redskins   \n",
        "8186    2013         1     Green Bay Packers   San Francisco 49ers   \n",
        "8178    2013         1  Tampa Bay Buccaneers         New York Jets   \n",
        "8176    2013         1      Tennessee Titans   Pittsburgh Steelers   \n",
        "8189    2013         1        Houston Texans    San Diego Chargers   \n",
        "8174    2013         1      Baltimore Ravens        Denver Broncos   \n",
        "8175    2013         1  New England Patriots         Buffalo Bills   \n",
        "8184    2013         1       Oakland Raiders    Indianapolis Colts   \n",
        "\n",
        "      prevFavoredRecord  Line  predict_proba  Visitor Score  Home Score  \\\n",
        "8181             0.3125   2.5       0.560525             23          10   \n",
        "8180             0.6250   3.0       0.611758             21          24   \n",
        "8182             0.6875  -3.5       0.453621             12           7   \n",
        "8187             0.5000   3.5       0.668012             31          36   \n",
        "8177             0.4375   3.5       0.706237             17          23   \n",
        "8185             0.4375   3.5       0.625230             24          27   \n",
        "8179             0.1250  -4.5       0.412132             28           2   \n",
        "8183             0.2500   4.5       0.695867             24          34   \n",
        "8188             0.6250   4.5       0.641515             33          27   \n",
        "8186             0.6875   5.0       0.670054             28          34   \n",
        "8178             0.4375  -6.0       0.500899             17          18   \n",
        "8176             0.5000   6.0       0.638209             16           9   \n",
        "8189             0.7500  -6.5       0.530878             31          28   \n",
        "8174             0.8125   7.5       0.716336             27          49   \n",
        "8175             0.7500 -10.5       0.675558             23          21   \n",
        "8184             0.6875  11.5       0.740693             17          21   \n",
        "\n",
        "      favoredWin  predictWin  lineGuess  probaGuess  lineScore  probaScore1  \n",
        "8181           0           0          1           5          0            0  \n",
        "8180           1           1          2           6          2            6  \n",
        "8182           1           0          3           2          3            2  \n",
        "8187           1           1          4          10          4           10  \n",
        "8177           1           1          5          14          5           14  \n",
        "8185           1           1          6           7          6            7  \n",
        "8179           1           0          7           1          7            1  \n",
        "8183           1           1          8          13          8           13  \n",
        "8188           0           0          9           9          0            0  \n",
        "8186           1           1         10          11         10           11  \n",
        "8178           0           0         11           3          0            0  \n",
        "8176           0           0         12           8          0            0  \n",
        "8189           1           1         13           4         13            4  \n",
        "8174           1           1         14          15         14           15  \n",
        "8175           1           1         15          12         15           12  \n",
        "8184           1           1         16          16         16           16  "
       ]
      }
     ],
     "prompt_number": 17
    },
    {
     "cell_type": "code",
     "collapsed": false,
     "input": [
      "# diagnostics ... display all columns\n",
      "dfAllGames.columns"
     ],
     "language": "python",
     "metadata": {},
     "outputs": [
      {
       "metadata": {},
       "output_type": "pyout",
       "prompt_number": 18,
       "text": [
        "Index([u'Date', u'Visitor', u'Visitor Score', u'Home Team', u'Home Score', u'Line', u'Total Line', u'season', u'favorite', u'underdog', u'favoredHomeGame', u'divisionGame', u'homeWin', u'favoredWin', u'gameWeek', u'homeRecord', u'visitorRecord', u'favoredRecord', u'underdogRecord', u'prevFavoredRecord', u'prevUnderdogRecord', u'absLine'], dtype='object')"
       ]
      }
     ],
     "prompt_number": 18
    },
    {
     "cell_type": "code",
     "collapsed": false,
     "input": [
      "# diagnostics ... plot outcomes of games\n",
      "nWin = dfAllGames.favoredWin.index.tolist()\n",
      "nLose = dfAllGames[dfAllGames['favoredWin'] == 0].index.tolist()\n",
      "\n",
      "plt.plot(dfAllGames.favoredRecord[nWin],dfAllGames.underdogRecord[nWin],'bx')\n",
      "plt.plot(dfAllGames.favoredRecord[nLose],dfAllGames.underdogRecord[nLose],'rx')"
     ],
     "language": "python",
     "metadata": {},
     "outputs": [
      {
       "metadata": {},
       "output_type": "pyout",
       "prompt_number": 19,
       "text": [
        "[<matplotlib.lines.Line2D at 0x10444a9d0>]"
       ]
      },
      {
       "metadata": {},
       "output_type": "display_data",
       "png": "[encoded data removed]",
       "text": [
        "<matplotlib.figure.Figure at 0x1120455d0>"
       ]
      }
     ],
     "prompt_number": 19
    },
    {
     "cell_type": "code",
     "collapsed": false,
     "input": [
      "# diagnostics ... logreg variables\n",
      "\n",
      "# print classifiers\n",
      "print(\"classifiers > \",logreg.classes_)\n",
      "\n",
      "# coefficients\n",
      "cc = logreg.coef_\n",
      "cc.shape\n",
      "print(\"coeffs\")\n",
      "for ii,ff in enumerate(features):\n",
      "    print(ii,ff,cc[0][ii])\n",
      "    "
     ],
     "language": "python",
     "metadata": {},
     "outputs": [
      {
       "output_type": "stream",
       "stream": "stdout",
       "text": [
        "classifiers >  [0 1]\n",
        "coeffs\n",
        "0 favoredRecord 1.91252475964\n",
        "1 underdogRecord -1.54131295184\n",
        "2 prevFavoredRecord 0.0754170412348\n",
        "3 prevUnderdogRecord 0.730741963582\n",
        "4 gameWeek -0.0126558814763\n",
        "5 absLine 0.101668474925\n",
        "6 divisionGame 0.248762869133\n",
        "7 favoredHomeGame 0.559291599483\n"
       ]
      }
     ],
     "prompt_number": 20
    },
    {
     "cell_type": "code",
     "collapsed": false,
     "input": [
      "cc = logreg.coef_"
     ],
     "language": "python",
     "metadata": {},
     "outputs": [],
     "prompt_number": 21
    },
    {
     "cell_type": "code",
     "collapsed": false,
     "input": [
      "logreg.get_params"
     ],
     "language": "python",
     "metadata": {},
     "outputs": [
      {
       "metadata": {},
       "output_type": "pyout",
       "prompt_number": 22,
       "text": [
        "<bound method LogisticRegression.get_params of LogisticRegression(C=100000.0, class_weight=None, dual=False,\n",
        "          fit_intercept=True, intercept_scaling=1, penalty='l2',\n",
        "          random_state=None, tol=0.0001)>"
       ]
      }
     ],
     "prompt_number": 22
    },
    {
     "cell_type": "code",
     "collapsed": false,
     "input": [
      "int(reference_data.seasons_df.loc[int(2013), \"winner\"])"
     ],
     "language": "python",
     "metadata": {},
     "outputs": [
      {
       "metadata": {},
       "output_type": "pyout",
       "prompt_number": 23,
       "text": [
        "1653"
       ]
      }
     ],
     "prompt_number": 23
    },
    {
     "cell_type": "code",
     "collapsed": false,
     "input": [],
     "language": "python",
     "metadata": {},
     "outputs": [],
     "prompt_number": 23
    }
   ],
   "metadata": {}
  }
 ]
}