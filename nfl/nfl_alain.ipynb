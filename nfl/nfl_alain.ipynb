{
 "metadata": {
  "name": "",
  "signature": "sha256:672878d01b65a26442a22a21a450c6cd91e22c4588128903773c36e3c314a141"
 },
 "nbformat": 3,
 "nbformat_minor": 0,
 "worksheets": [
  {
   "cells": [
    {
     "cell_type": "markdown",
     "metadata": {},
     "source": [
      "## nfl lines machine learning project\n",
      "\n",
      "\n",
      "source data for historical spreads and game scores\n",
      "http://www.repole.com/sun4cast/data.html"
     ]
    },
    {
     "cell_type": "code",
     "collapsed": false,
     "input": [
      "import os\n",
      "# define source and data directories\n",
      "homeDir = \"\".join([os.environ['HOME'], os.path.sep])\n",
      "\n",
      "codeDir = \"\".join([homeDir, 'gitdev/bitbucket.org/littlea1/mlkaggle/nfl', os.path.sep])\n",
      "dataRoot = \"\".join([codeDir, \"data\", os.path.sep])\n",
      "os.chdir(codeDir)\n",
      "\n",
      "print(codeDir)\n",
      "dataRoot"
     ],
     "language": "python",
     "metadata": {},
     "outputs": [
      {
       "output_type": "stream",
       "stream": "stdout",
       "text": [
        "/home/alain/gitdev/bitbucket.org/littlea1/mlkaggle/nfl/\n"
       ]
      },
      {
       "metadata": {},
       "output_type": "pyout",
       "prompt_number": 1,
       "text": [
        "'/home/alain/gitdev/bitbucket.org/littlea1/mlkaggle/nfl/data/'"
       ]
      }
     ],
     "prompt_number": 1
    },
    {
     "cell_type": "code",
     "collapsed": false,
     "input": [
      "%matplotlib inline\n",
      "\n",
      "from __future__ import division\n",
      "from __future__ import print_function\n",
      "import os\n",
      "import numpy as np\n",
      "import pandas as pd\n",
      "import madden\n",
      "import sklearn_pandas\n",
      "import matplotlib.pyplot as plt"
     ],
     "language": "python",
     "metadata": {},
     "outputs": [],
     "prompt_number": 2
    },
    {
     "cell_type": "code",
     "collapsed": false,
     "input": [
      "# lookup files\n",
      "from referencedata import ReferenceData\n",
      "lookupFiles = { 'teams' : {'file': 'nflTeams.csv' },\n",
      "                'seasons' : {'file': 'seasons.csv' },\n",
      "               }\n",
      "\n",
      "lookupDir = \"\".join([dataRoot, 'lookup', os.path.sep])\n",
      "\n",
      "print (\"lookupFiles = %s\" % lookupFiles)\n",
      "print (\"lookupDir = %s\" % lookupDir)"
     ],
     "language": "python",
     "metadata": {},
     "outputs": [
      {
       "output_type": "stream",
       "stream": "stdout",
       "text": [
        "lookupFiles = {'seasons': {'file': 'seasons.csv'}, 'teams': {'file': 'nflTeams.csv'}}\n",
        "lookupDir = /home/alain/gitdev/bitbucket.org/littlea1/mlkaggle/nfl/data/lookup/\n"
       ]
      }
     ],
     "prompt_number": 3
    },
    {
     "cell_type": "code",
     "collapsed": false,
     "input": [
      "# in notebook, leave all the diagnostic outputs since this is not the real thing\n",
      "# we are using the nb to investigate\n",
      "reference_data = ReferenceData(lookupDir)\n",
      "reference_data.teams_df.head()"
     ],
     "language": "python",
     "metadata": {},
     "outputs": [
      {
       "html": [
        "<div style=\"max-height:1000px;max-width:1500px;overflow:auto;\">\n",
        "<table border=\"1\" class=\"dataframe\">\n",
        "  <thead>\n",
        "    <tr style=\"text-align: right;\">\n",
        "      <th></th>\n",
        "      <th>city</th>\n",
        "      <th>mascot</th>\n",
        "      <th>league</th>\n",
        "      <th>division</th>\n",
        "      <th>year</th>\n",
        "    </tr>\n",
        "    <tr>\n",
        "      <th>team</th>\n",
        "      <th></th>\n",
        "      <th></th>\n",
        "      <th></th>\n",
        "      <th></th>\n",
        "      <th></th>\n",
        "    </tr>\n",
        "  </thead>\n",
        "  <tbody>\n",
        "    <tr>\n",
        "      <th>Baltimore Ravens</th>\n",
        "      <td>NaN</td>\n",
        "      <td>NaN</td>\n",
        "      <td> afc</td>\n",
        "      <td> north</td>\n",
        "      <td>NaN</td>\n",
        "    </tr>\n",
        "    <tr>\n",
        "      <th>New England Patriots</th>\n",
        "      <td>NaN</td>\n",
        "      <td>NaN</td>\n",
        "      <td> afc</td>\n",
        "      <td>  east</td>\n",
        "      <td>NaN</td>\n",
        "    </tr>\n",
        "    <tr>\n",
        "      <th>Tennessee Titans</th>\n",
        "      <td>NaN</td>\n",
        "      <td>NaN</td>\n",
        "      <td> afc</td>\n",
        "      <td> south</td>\n",
        "      <td>NaN</td>\n",
        "    </tr>\n",
        "    <tr>\n",
        "      <th>Atlanta Falcons</th>\n",
        "      <td>NaN</td>\n",
        "      <td>NaN</td>\n",
        "      <td> nfc</td>\n",
        "      <td> south</td>\n",
        "      <td>NaN</td>\n",
        "    </tr>\n",
        "    <tr>\n",
        "      <th>Tampa Bay Buccaneers</th>\n",
        "      <td>NaN</td>\n",
        "      <td>NaN</td>\n",
        "      <td> nfc</td>\n",
        "      <td> south</td>\n",
        "      <td>NaN</td>\n",
        "    </tr>\n",
        "  </tbody>\n",
        "</table>\n",
        "</div>"
       ],
       "metadata": {},
       "output_type": "pyout",
       "prompt_number": 4,
       "text": [
        "                      city  mascot league division  year\n",
        "team                                                    \n",
        "Baltimore Ravens       NaN     NaN    afc    north   NaN\n",
        "New England Patriots   NaN     NaN    afc     east   NaN\n",
        "Tennessee Titans       NaN     NaN    afc    south   NaN\n",
        "Atlanta Falcons        NaN     NaN    nfc    south   NaN\n",
        "Tampa Bay Buccaneers   NaN     NaN    nfc    south   NaN"
       ]
      }
     ],
     "prompt_number": 4
    },
    {
     "cell_type": "code",
     "collapsed": false,
     "input": [
      "al_seasons = reference_data.seasons_df\n",
      "al_seasons.tail()"
     ],
     "language": "python",
     "metadata": {},
     "outputs": [
      {
       "html": [
        "<div style=\"max-height:1000px;max-width:1500px;overflow:auto;\">\n",
        "<table border=\"1\" class=\"dataframe\">\n",
        "  <thead>\n",
        "    <tr style=\"text-align: right;\">\n",
        "      <th></th>\n",
        "      <th>start</th>\n",
        "      <th>winner</th>\n",
        "    </tr>\n",
        "    <tr>\n",
        "      <th>season</th>\n",
        "      <th></th>\n",
        "      <th></th>\n",
        "    </tr>\n",
        "  </thead>\n",
        "  <tbody>\n",
        "    <tr>\n",
        "      <th>2010</th>\n",
        "      <td> 13-Sep-10</td>\n",
        "      <td> 1590</td>\n",
        "    </tr>\n",
        "    <tr>\n",
        "      <th>2011</th>\n",
        "      <td> 12-Sep-11</td>\n",
        "      <td> 1670</td>\n",
        "    </tr>\n",
        "    <tr>\n",
        "      <th>2012</th>\n",
        "      <td> 10-Sep-12</td>\n",
        "      <td> 1632</td>\n",
        "    </tr>\n",
        "    <tr>\n",
        "      <th>2013</th>\n",
        "      <td>  9-Sep-13</td>\n",
        "      <td> 1653</td>\n",
        "    </tr>\n",
        "    <tr>\n",
        "      <th>2014</th>\n",
        "      <td>  8-Sep-14</td>\n",
        "      <td>  NaN</td>\n",
        "    </tr>\n",
        "  </tbody>\n",
        "</table>\n",
        "</div>"
       ],
       "metadata": {},
       "output_type": "pyout",
       "prompt_number": 5,
       "text": [
        "            start  winner\n",
        "season                   \n",
        "2010    13-Sep-10    1590\n",
        "2011    12-Sep-11    1670\n",
        "2012    10-Sep-12    1632\n",
        "2013     9-Sep-13    1653\n",
        "2014     8-Sep-14     NaN"
       ]
      }
     ],
     "prompt_number": 5
    },
    {
     "cell_type": "code",
     "collapsed": false,
     "input": [
      "al_teams = reference_data.teams_df\n",
      "al_teams.head()"
     ],
     "language": "python",
     "metadata": {},
     "outputs": [
      {
       "html": [
        "<div style=\"max-height:1000px;max-width:1500px;overflow:auto;\">\n",
        "<table border=\"1\" class=\"dataframe\">\n",
        "  <thead>\n",
        "    <tr style=\"text-align: right;\">\n",
        "      <th></th>\n",
        "      <th>city</th>\n",
        "      <th>mascot</th>\n",
        "      <th>league</th>\n",
        "      <th>division</th>\n",
        "      <th>year</th>\n",
        "    </tr>\n",
        "    <tr>\n",
        "      <th>team</th>\n",
        "      <th></th>\n",
        "      <th></th>\n",
        "      <th></th>\n",
        "      <th></th>\n",
        "      <th></th>\n",
        "    </tr>\n",
        "  </thead>\n",
        "  <tbody>\n",
        "    <tr>\n",
        "      <th>Baltimore Ravens</th>\n",
        "      <td>NaN</td>\n",
        "      <td>NaN</td>\n",
        "      <td> afc</td>\n",
        "      <td> north</td>\n",
        "      <td>NaN</td>\n",
        "    </tr>\n",
        "    <tr>\n",
        "      <th>New England Patriots</th>\n",
        "      <td>NaN</td>\n",
        "      <td>NaN</td>\n",
        "      <td> afc</td>\n",
        "      <td>  east</td>\n",
        "      <td>NaN</td>\n",
        "    </tr>\n",
        "    <tr>\n",
        "      <th>Tennessee Titans</th>\n",
        "      <td>NaN</td>\n",
        "      <td>NaN</td>\n",
        "      <td> afc</td>\n",
        "      <td> south</td>\n",
        "      <td>NaN</td>\n",
        "    </tr>\n",
        "    <tr>\n",
        "      <th>Atlanta Falcons</th>\n",
        "      <td>NaN</td>\n",
        "      <td>NaN</td>\n",
        "      <td> nfc</td>\n",
        "      <td> south</td>\n",
        "      <td>NaN</td>\n",
        "    </tr>\n",
        "    <tr>\n",
        "      <th>Tampa Bay Buccaneers</th>\n",
        "      <td>NaN</td>\n",
        "      <td>NaN</td>\n",
        "      <td> nfc</td>\n",
        "      <td> south</td>\n",
        "      <td>NaN</td>\n",
        "    </tr>\n",
        "  </tbody>\n",
        "</table>\n",
        "</div>"
       ],
       "metadata": {},
       "output_type": "pyout",
       "prompt_number": 6,
       "text": [
        "                      city  mascot league division  year\n",
        "team                                                    \n",
        "Baltimore Ravens       NaN     NaN    afc    north   NaN\n",
        "New England Patriots   NaN     NaN    afc     east   NaN\n",
        "Tennessee Titans       NaN     NaN    afc    south   NaN\n",
        "Atlanta Falcons        NaN     NaN    nfc    south   NaN\n",
        "Tampa Bay Buccaneers   NaN     NaN    nfc    south   NaN"
       ]
      }
     ],
     "prompt_number": 6
    },
    {
     "cell_type": "code",
     "collapsed": false,
     "input": [
      "team1 = al_teams.loc[\"Tennessee Titans\", [\"league\", \"division\"]].reindex()\n",
      "team2 = al_teams.loc[\"Indianapolis Colts\", [\"league\", \"division\"]].reindex()\n",
      "print(team1)\n",
      "print(team2)"
     ],
     "language": "python",
     "metadata": {},
     "outputs": [
      {
       "output_type": "stream",
       "stream": "stdout",
       "text": [
        "league        afc\n",
        "division    south\n",
        "Name: Tennessee Titans, dtype: object\n",
        "league        afc\n",
        "division    south\n",
        "Name: Indianapolis Colts, dtype: object\n"
       ]
      }
     ],
     "prompt_number": 7
    },
    {
     "cell_type": "code",
     "collapsed": false,
     "input": [
      "type(reference_data.seasons_df.loc[int(\"2012\"), \"start\"])"
     ],
     "language": "python",
     "metadata": {},
     "outputs": [
      {
       "metadata": {},
       "output_type": "pyout",
       "prompt_number": 8,
       "text": [
        "str"
       ]
      }
     ],
     "prompt_number": 8
    },
    {
     "cell_type": "code",
     "collapsed": true,
     "input": [
      "#team1[\"league\"] == team2[\"league\"] & team1[\"division\"] == team2[\"division\"]\n",
      "team1 = al_teams.loc[\"Tennessee Titans\", ]\n",
      "team2 = al_teams.loc[\"Indianapolis Colts\", ]\n",
      "team1[\"league\"] == team2[\"league\"]"
     ],
     "language": "python",
     "metadata": {},
     "outputs": [
      {
       "metadata": {},
       "output_type": "pyout",
       "prompt_number": 9,
       "text": [
        "True"
       ]
      }
     ],
     "prompt_number": 9
    },
    {
     "cell_type": "code",
     "collapsed": false,
     "input": [
      "### NEW multi-season training\n",
      "import madden\n",
      "reload(madden)\n",
      "\n",
      "# need to be arrays\n",
      "trainYears = [2013] #range(2008.2013) \n",
      "testYear = [2013]\n",
      "\n",
      "# training data set - includes one extra year for prev yr record\n",
      "seasons = np.array(trainYears)\n",
      "print (\"training seasons >> \", seasons)"
     ],
     "language": "python",
     "metadata": {},
     "outputs": [
      {
       "output_type": "stream",
       "stream": "stdout",
       "text": [
        "training seasons >>  [2013]\n"
       ]
      }
     ],
     "prompt_number": 10
    },
    {
     "cell_type": "code",
     "collapsed": false,
     "input": [
      "np.insert(seasons, 0, seasons.min() - 1)"
     ],
     "language": "python",
     "metadata": {},
     "outputs": [
      {
       "metadata": {},
       "output_type": "pyout",
       "prompt_number": 11,
       "text": [
        "array([2012, 2013])"
       ]
      }
     ],
     "prompt_number": 11
    },
    {
     "cell_type": "code",
     "collapsed": false,
     "input": [
      "PATH_TO_NFL_LINES =\"/home/alain/gitdev/bitbucket.org/littlea1/mlkaggle/nfl/data/lines/\""
     ],
     "language": "python",
     "metadata": {},
     "outputs": [],
     "prompt_number": 12
    },
    {
     "cell_type": "code",
     "collapsed": false,
     "input": [
      "# read all the \n",
      "dfFileAllGames = madden.readGamesAll(PATH_TO_NFL_LINES, seasons)\n",
      "dfFileAllGames.head()"
     ],
     "language": "python",
     "metadata": {},
     "outputs": [
      {
       "html": [
        "<div style=\"max-height:1000px;max-width:1500px;overflow:auto;\">\n",
        "<table border=\"1\" class=\"dataframe\">\n",
        "  <thead>\n",
        "    <tr style=\"text-align: right;\">\n",
        "      <th></th>\n",
        "      <th>Date</th>\n",
        "      <th>Visitor</th>\n",
        "      <th>Visitor Score</th>\n",
        "      <th>Home Team</th>\n",
        "      <th>Home Score</th>\n",
        "      <th>Line</th>\n",
        "      <th>Total Line</th>\n",
        "      <th>season</th>\n",
        "      <th>finalLine</th>\n",
        "      <th>yahooLine</th>\n",
        "    </tr>\n",
        "  </thead>\n",
        "  <tbody>\n",
        "    <tr>\n",
        "      <th>7918</th>\n",
        "      <td> 9/5/12</td>\n",
        "      <td>      Dallas Cowboys</td>\n",
        "      <td> 24</td>\n",
        "      <td>    New York Giants</td>\n",
        "      <td> 17</td>\n",
        "      <td>  4.0</td>\n",
        "      <td>   46</td>\n",
        "      <td> 2012</td>\n",
        "      <td>NaN</td>\n",
        "      <td>NaN</td>\n",
        "    </tr>\n",
        "    <tr>\n",
        "      <th>7919</th>\n",
        "      <td> 9/9/12</td>\n",
        "      <td>  Indianapolis Colts</td>\n",
        "      <td> 21</td>\n",
        "      <td>      Chicago Bears</td>\n",
        "      <td> 41</td>\n",
        "      <td> 10.0</td>\n",
        "      <td> 42.5</td>\n",
        "      <td> 2012</td>\n",
        "      <td>NaN</td>\n",
        "      <td>NaN</td>\n",
        "    </tr>\n",
        "    <tr>\n",
        "      <th>7920</th>\n",
        "      <td> 9/9/12</td>\n",
        "      <td> Philadelphia Eagles</td>\n",
        "      <td> 17</td>\n",
        "      <td>   Cleveland Browns</td>\n",
        "      <td> 16</td>\n",
        "      <td> -9.5</td>\n",
        "      <td>   42</td>\n",
        "      <td> 2012</td>\n",
        "      <td>NaN</td>\n",
        "      <td>NaN</td>\n",
        "    </tr>\n",
        "    <tr>\n",
        "      <th>7921</th>\n",
        "      <td> 9/9/12</td>\n",
        "      <td>       Buffalo Bills</td>\n",
        "      <td> 28</td>\n",
        "      <td>      New York Jets</td>\n",
        "      <td> 48</td>\n",
        "      <td>  3.0</td>\n",
        "      <td>   39</td>\n",
        "      <td> 2012</td>\n",
        "      <td>NaN</td>\n",
        "      <td>NaN</td>\n",
        "    </tr>\n",
        "    <tr>\n",
        "      <th>7922</th>\n",
        "      <td> 9/9/12</td>\n",
        "      <td> Washington Redskins</td>\n",
        "      <td> 40</td>\n",
        "      <td> New Orleans Saints</td>\n",
        "      <td> 32</td>\n",
        "      <td>  9.0</td>\n",
        "      <td> 50.5</td>\n",
        "      <td> 2012</td>\n",
        "      <td>NaN</td>\n",
        "      <td>NaN</td>\n",
        "    </tr>\n",
        "  </tbody>\n",
        "</table>\n",
        "</div>"
       ],
       "metadata": {},
       "output_type": "pyout",
       "prompt_number": 13,
       "text": [
        "        Date              Visitor  Visitor Score           Home Team  \\\n",
        "7918  9/5/12       Dallas Cowboys             24     New York Giants   \n",
        "7919  9/9/12   Indianapolis Colts             21       Chicago Bears   \n",
        "7920  9/9/12  Philadelphia Eagles             17    Cleveland Browns   \n",
        "7921  9/9/12        Buffalo Bills             28       New York Jets   \n",
        "7922  9/9/12  Washington Redskins             40  New Orleans Saints   \n",
        "\n",
        "      Home Score  Line Total Line  season  finalLine  yahooLine  \n",
        "7918          17   4.0         46    2012        NaN        NaN  \n",
        "7919          41  10.0       42.5    2012        NaN        NaN  \n",
        "7920          16  -9.5         42    2012        NaN        NaN  \n",
        "7921          48   3.0         39    2012        NaN        NaN  \n",
        "7922          32   9.0       50.5    2012        NaN        NaN  "
       ]
      }
     ],
     "prompt_number": 13
    },
    {
     "cell_type": "code",
     "collapsed": false,
     "input": [
      "# read all the \n",
      "dfFileAllGames = madden.readGamesAll(PATH_TO_NFL_LINES, seasons)\n",
      "dfFileAllGames.head()\n",
      "\n",
      "# compile season record for all teams\n",
      "dfAllTeams = madden.seasonRecord(dfFileAllGames, reference_data)\n",
      "\n",
      "# apply season records and compute other fields for all games\n",
      "dfAllGames = madden.processGames(dfFileAllGames, dfAllTeams, reference_data)\n",
      "# remove extra year of data \n",
      "dfAllGames = dfAllGames[dfAllGames.season.isin(seasons)]\n",
      "\n",
      "# define independent variables for logistic regression\n",
      "features = ['favoredRecord','underdogRecord',  # current year records of both teams\n",
      "            # prev year records, helps early in season when only few games played\n",
      "            'prevFavoredRecord','prevUnderdogRecord', \n",
      "            'gameWeek',  # week in season, should make a good/bad record later in season more important\n",
      "            'absLine',  # absolute value of spread since favored team already determined\n",
      "            'divisionGame', # T/F, usually more competitive rivalry games, i.e. bad teams still win home division games.\n",
      "            'favoredHomeGame', # T/F, important since output of classifier is \"did the favored team win?\"\n",
      "            ]\n",
      "# run the logistic regression\n",
      "logreg = madden.runML(dfAllGames,features)\n",
      "\n",
      "# use different test set \n",
      "seasonTest = np.array(testYear) # should be only one year\n",
      "print (\"results for >> \", seasonTest)\n",
      "dfGamesTest = madden.readGamesAll(PATH_TO_NFL_LINES, seasonTest)\n",
      "dfTeamsTest = madden.seasonRecord(dfGamesTest, reference_data)\n",
      "dfGamesTest = madden.processGames(dfGamesTest, dfTeamsTest, reference_data)\n",
      "dfGamesTest = dfGamesTest[dfGamesTest.season.isin(seasonTest)]\n",
      "\n",
      "# apply results of logistic regression to the test set\n",
      "dfPredict = madden.predictGames(dfGamesTest, logreg, features)\n",
      "\n",
      "# apply ranking logic and determine scoring outcomes for league\n",
      "dfAll = madden.rankGames(dfPredict, reference_data, seasonTest[0])"
     ],
     "language": "python",
     "metadata": {},
     "outputs": [
      {
       "output_type": "stream",
       "stream": "stdout",
       "text": [
        "training data accuracy =  0.70703125\n",
        "results for >>  [2013]\n",
        "             score  win by   win\n",
        "lineScore     1655       2  True\n",
        "probaScore1   1700      47  True\n",
        "probaScore2   1730      77  True\n",
        "probaScore3   1709      56  True"
       ]
      },
      {
       "output_type": "stream",
       "stream": "stdout",
       "text": [
        "\n"
       ]
      },
      {
       "output_type": "stream",
       "stream": "stderr",
       "text": [
        "/home/alain/anaconda/lib/python2.7/site-packages/pandas/core/indexing.py:245: SettingWithCopyWarning: \n",
        "A value is trying to be set on a copy of a slice from a DataFrame.\n",
        "Try using .loc[row_indexer,col_indexer] = value instead\n",
        "\n",
        "See the the caveats in the documentation: http://pandas.pydata.org/pandas-docs/stable/indexing.html#indexing-view-versus-copy\n",
        "  self.obj[key] = np.nan\n",
        "/home/alain/anaconda/lib/python2.7/site-packages/pandas/core/indexing.py:415: SettingWithCopyWarning: \n",
        "A value is trying to be set on a copy of a slice from a DataFrame.\n",
        "Try using .loc[row_indexer,col_indexer] = value instead\n",
        "\n",
        "See the the caveats in the documentation: http://pandas.pydata.org/pandas-docs/stable/indexing.html#indexing-view-versus-copy\n",
        "  self.obj[item] = s\n"
       ]
      }
     ],
     "prompt_number": 14
    },
    {
     "cell_type": "code",
     "collapsed": false,
     "input": [
      "# diagnostics ... weekly outcomes\n",
      "g = dfAll.groupby('gameWeek')['lineScore','probaScore1','probaScore2','probaScore3'].sum()\n",
      "print(g)\n",
      "g.sum()"
     ],
     "language": "python",
     "metadata": {},
     "outputs": []
    },
    {
     "cell_type": "code",
     "collapsed": false,
     "input": [
      "# display details for a single week\n",
      "dispWeek = 1\n",
      "dispCols = ['season','gameWeek','Visitor','Home Team',\n",
      "            'prevFavoredRecord','Line','predict_proba','Visitor Score',\n",
      "            'Home Score','favoredWin','predictWin','lineGuess','probaGuess', 'lineScore','probaScore1']\n",
      "print(dfAll[dfAll.gameWeek == dispWeek]['lineScore'].sum())"
     ],
     "language": "python",
     "metadata": {},
     "outputs": []
    },
    {
     "cell_type": "code",
     "collapsed": false,
     "input": [
      "dfAll[dfAll.gameWeek == dispWeek][dispCols]"
     ],
     "language": "python",
     "metadata": {},
     "outputs": []
    },
    {
     "cell_type": "code",
     "collapsed": false,
     "input": [
      "# diagnostics ... display all columns\n",
      "dfAllGames.columns"
     ],
     "language": "python",
     "metadata": {},
     "outputs": []
    },
    {
     "cell_type": "code",
     "collapsed": false,
     "input": [
      "# diagnostics ... plot outcomes of games\n",
      "nWin = dfAllGames.favoredWin.index.tolist()\n",
      "nLose = dfAllGames[dfAllGames['favoredWin'] == 0].index.tolist()\n",
      "\n",
      "plt.plot(dfAllGames.favoredRecord[nWin],dfAllGames.underdogRecord[nWin],'bx')\n",
      "plt.plot(dfAllGames.favoredRecord[nLose],dfAllGames.underdogRecord[nLose],'rx')"
     ],
     "language": "python",
     "metadata": {},
     "outputs": []
    },
    {
     "cell_type": "code",
     "collapsed": false,
     "input": [
      "# diagnostics ... logreg variables\n",
      "\n",
      "# print classifiers\n",
      "print(\"classifiers > \",logreg.classes_)\n",
      "\n",
      "# coefficients\n",
      "cc = logreg.coef_\n",
      "cc.shape\n",
      "print(\"coeffs\")\n",
      "for ii,ff in enumerate(features):\n",
      "    print(ii,ff,cc[0][ii])\n",
      "    "
     ],
     "language": "python",
     "metadata": {},
     "outputs": []
    },
    {
     "cell_type": "code",
     "collapsed": false,
     "input": [
      "cc = logreg.coef_"
     ],
     "language": "python",
     "metadata": {},
     "outputs": []
    },
    {
     "cell_type": "code",
     "collapsed": false,
     "input": [
      "logreg.get_params"
     ],
     "language": "python",
     "metadata": {},
     "outputs": []
    },
    {
     "cell_type": "code",
     "collapsed": false,
     "input": [
      "int(reference_data.seasons_df.loc[int(2013), \"winner\"])"
     ],
     "language": "python",
     "metadata": {},
     "outputs": []
    },
    {
     "cell_type": "code",
     "collapsed": false,
     "input": [],
     "language": "python",
     "metadata": {},
     "outputs": []
    }
   ],
   "metadata": {}
  }
 ]
}