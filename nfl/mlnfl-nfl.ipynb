{
 "metadata": {
  "name": "",
  "signature": "sha256:d85112f00d56253ebc4d1cffc7d53ee70ccc559d0605ae4f04fb60f7dffa819a"
 },
 "nbformat": 3,
 "nbformat_minor": 0,
 "worksheets": [
  {
   "cells": [
    {
     "cell_type": "markdown",
     "metadata": {},
     "source": [
      "## nfl lines machine learning project\n",
      "\n",
      "\n",
      "source data for historical spreads and game scores\n",
      "http://www.repole.com/sun4cast/data.html"
     ]
    },
    {
     "cell_type": "code",
     "collapsed": false,
     "input": [
      "import os\n",
      "\n",
      "# define the root directory for the nfl code in $MLNLF_ROOT\n",
      "codeDir = \"\".join([os.environ['MLNFL_ROOT'], os.path.sep])\n",
      "dataRoot = \"\".join([codeDir, \"data\", os.path.sep])\n",
      "\n",
      "os.chdir(codeDir)\n",
      "\n",
      "print(codeDir)\n",
      "print(dataRoot)"
     ],
     "language": "python",
     "metadata": {},
     "outputs": [
      {
       "output_type": "stream",
       "stream": "stdout",
       "text": [
        "/Users/amit.bhattacharyya/repos/mlnfl/nfl/\n",
        "/Users/amit.bhattacharyya/repos/mlnfl/nfl/data/\n"
       ]
      }
     ],
     "prompt_number": 1
    },
    {
     "cell_type": "code",
     "collapsed": false,
     "input": [
      "# import necessary modules\n",
      "%matplotlib inline\n",
      "\n",
      "from __future__ import division\n",
      "from __future__ import print_function\n",
      "import os\n",
      "import numpy as np\n",
      "import pandas as pd\n",
      "import matplotlib.pyplot as plt\n",
      "\n",
      "import madden\n",
      "\n",
      "#import sklearn_pandas\n",
      "\n",
      "import graphlab as gl\n",
      "from sklearn import linear_model\n",
      "from sklearn import svm\n",
      "from sklearn import ensemble\n",
      "\n",
      "print (\"pandas version \",pd.__version__)"
     ],
     "language": "python",
     "metadata": {},
     "outputs": [
      {
       "output_type": "stream",
       "stream": "stdout",
       "text": [
        "pandas version  0.15.1\n"
       ]
      }
     ],
     "prompt_number": 60
    },
    {
     "cell_type": "code",
     "collapsed": false,
     "input": [
      "# location of lookup files\n",
      "from referencedata import ReferenceData\n",
      "lookupFiles = { 'teams' : {'file': 'nflTeams.csv' },\n",
      "                'seasons' : {'file': 'seasons.csv' },\n",
      "               }\n",
      "\n",
      "lookupDir = \"\".join([dataRoot, 'lookup', os.path.sep])\n",
      "\n",
      "print (\"lookupFiles = %s\" % lookupFiles)\n",
      "print (\"lookupDir = %s\" % lookupDir)"
     ],
     "language": "python",
     "metadata": {},
     "outputs": [
      {
       "output_type": "stream",
       "stream": "stdout",
       "text": [
        "lookupFiles = {'seasons': {'file': 'seasons.csv'}, 'teams': {'file': 'nflTeams.csv'}}\n",
        "lookupDir = /Users/amit.bhattacharyya/repos/mlnfl/nfl/data/lookup/\n"
       ]
      }
     ],
     "prompt_number": 3
    },
    {
     "cell_type": "code",
     "collapsed": false,
     "input": [
      "# import reference data\n",
      "reference_data = ReferenceData(lookupDir)\n"
     ],
     "language": "python",
     "metadata": {},
     "outputs": [],
     "prompt_number": 4
    },
    {
     "cell_type": "code",
     "collapsed": false,
     "input": [
      "###  multi-season training\n",
      "reload(madden)\n",
      "\n",
      "# testYears and trainYears need to be arrays\n",
      "trainYears = [2012] #range(2008,2013) \n",
      "testYear = [2013]\n",
      "\n",
      "# train on previous 3 yrs of data\n",
      "testYear = [2014]\n",
      "trainYears = range(testYear[0]-3,testYear[0]) \n",
      "\n",
      "# training data set - includes one extra year for prev yr record\n",
      "seasons = np.array(trainYears)\n",
      "print (\"training seasons >> \", seasons)"
     ],
     "language": "python",
     "metadata": {},
     "outputs": [
      {
       "output_type": "stream",
       "stream": "stdout",
       "text": [
        "training seasons >>  [2011 2012 2013]\n"
       ]
      }
     ],
     "prompt_number": 65
    },
    {
     "cell_type": "code",
     "collapsed": false,
     "input": [
      "reload(madden)\n",
      "\n",
      "# get training data\n",
      "# 1 - read all the games\n",
      "path_to_lines = dataRoot + \"lines/\"\n",
      "dfAllGames = madden.readGamesAll(path_to_lines, seasons)\n",
      "# 2 - compile season record for all teams\n",
      "dfAllTeams = madden.seasonRecord(dfAllGames, reference_data)\n",
      "# 3 - apply season records and compute other fields for all games\n",
      "dfAllGames = madden.processGames(dfAllGames, dfAllTeams, reference_data)\n",
      "# 4 - remove extra year of data \n",
      "dfAllGames = dfAllGames[dfAllGames.season.isin(seasons)]\n",
      "\n",
      "# use different test set \n",
      "seasonTest = np.array(testYear) # should be only one year\n",
      "print (\"results for >> \", seasonTest)\n",
      "# 1 - read all the games\n",
      "dfGamesTest = madden.readGamesAll(path_to_lines, seasonTest)  \n",
      "# 2 - compile season record for all teams\n",
      "dfTeamsTest = madden.seasonRecord(dfGamesTest,reference_data) \n",
      "# 3 - apply season records and compute other fields for all games\n",
      "dfGamesTest = madden.processGames(dfGamesTest, dfTeamsTest, reference_data) \n",
      "# 4 - remove extra year of data \n",
      "dfGamesTest = dfGamesTest[dfGamesTest.season.isin(seasonTest)]\n"
     ],
     "language": "python",
     "metadata": {},
     "outputs": [
      {
       "output_type": "stream",
       "stream": "stdout",
       "text": [
        "results for >>  [2014]\n"
       ]
      }
     ],
     "prompt_number": 66
    },
    {
     "cell_type": "code",
     "collapsed": false,
     "input": [
      "reload(madden)\n",
      "\n",
      "# run the classifer\n",
      "#classifier = svm.SVC(kernel='poly',probability=True)\n",
      "#classifier = linear_model.LogisticRegression(C=1e5)\n",
      "classifier = ensemble.RandomForestClassifier(n_estimators=10)\n",
      "mlClassifier = madden.runScikitClassifier(dfAllGames,features,classifier)\n",
      "\n",
      "# apply results of logistic regression to the test set\n",
      "dfPredict = madden.predictGames(dfGamesTest,mlClassifier,features)\n",
      "\n",
      "# apply ranking logic and determine scoring outcomes for league\n",
      "dfAll = madden.rankGames(dfPredict,reference_data,seasonTest[0])"
     ],
     "language": "python",
     "metadata": {},
     "outputs": [
      {
       "output_type": "stream",
       "stream": "stdout",
       "text": [
        "training data accuracy =  0.985677083333\n",
        "             score  win by   win\n",
        "lineScore      970     970  True\n",
        "probaScore1    968     968  True\n",
        "probaScore2    903     903  True\n",
        "probaScore3    888     888  True"
       ]
      },
      {
       "output_type": "stream",
       "stream": "stdout",
       "text": [
        "\n"
       ]
      }
     ],
     "prompt_number": 67
    },
    {
     "cell_type": "code",
     "collapsed": false,
     "input": [
      "reload(madden)\n",
      "# define and run the classifer\n",
      "classifier = linear_model.LogisticRegression(C=1e5)\n",
      "\n",
      "classifier = svm.SVC(probability=True)\n",
      "mlClassifier = madden.runScikitClassifier(dfAllGames,features, classifier)\n",
      "\n",
      "mlClassifier   "
     ],
     "language": "python",
     "metadata": {},
     "outputs": [
      {
       "output_type": "stream",
       "stream": "stdout",
       "text": [
        "training data accuracy =  0.72265625\n"
       ]
      },
      {
       "metadata": {},
       "output_type": "pyout",
       "prompt_number": 37,
       "text": [
        "SVC(C=1.0, cache_size=200, class_weight=None, coef0=0.0, degree=3, gamma=0.0,\n",
        "  kernel='rbf', max_iter=-1, probability=True, random_state=None,\n",
        "  shrinking=True, tol=0.001, verbose=False)"
       ]
      }
     ],
     "prompt_number": 37
    },
    {
     "cell_type": "code",
     "collapsed": false,
     "input": [
      "reload(madden)\n",
      "# run grahlab classifier\n",
      "sfAllGames = gl.SFrame(dfAllGames)\n",
      "classifier = gl.logistic_classifier\n",
      "mlClassifier = madden.runGraphLabClassifier(sfAllGames,features, 'favoredWin', classifier)\n",
      "\n",
      "# compute accuracy\n",
      "ngames = len(sfAllGames)\n",
      "print (sum([ mlClassifier.predict(sfAllGames) == sfAllGames['favoredWin'] ]) / ngames)"
     ],
     "language": "python",
     "metadata": {},
     "outputs": [
      {
       "output_type": "stream",
       "stream": "stderr",
       "text": [
        "[INFO] Start server at: ipc:///tmp/graphlab_server-46289 - Server binary: /Users/amit.bhattacharyya/.virtualenvs/datascience/lib/python2.7/site-packages/graphlab/unity_server - Server log: /tmp/graphlab_server_1416265423.log\n"
       ]
      },
      {
       "output_type": "stream",
       "stream": "stderr",
       "text": [
        "[INFO] GraphLab Server Version: 1.0.1\n"
       ]
      },
      {
       "html": [
        "<pre>PROGRESS: Logistic regression:\n",
        "--------------------------------------------------------\n",
        "Number of examples          : 256 (163 positives, 93 negatives)\n",
        "Number of feature columns   : 8\n",
        "Number of unpacked features : 8</pre>"
       ],
       "metadata": {},
       "output_type": "display_data",
       "text": [
        "PROGRESS: Logistic regression:\n",
        "--------------------------------------------------------\n",
        "Number of examples          : 256 (163 positives, 93 negatives)\n",
        "Number of feature columns   : 8\n",
        "Number of unpacked features : 8"
       ]
      },
      {
       "html": [
        "<pre>PROGRESS: Number of coefficients    : 9</pre>"
       ],
       "metadata": {},
       "output_type": "display_data",
       "text": [
        "PROGRESS: Number of coefficients    : 9"
       ]
      },
      {
       "html": [
        "<pre>PROGRESS: Starting Newton Method \n",
        "--------------------------------------------------------</pre>"
       ],
       "metadata": {},
       "output_type": "display_data",
       "text": [
        "PROGRESS: Starting Newton Method \n",
        "--------------------------------------------------------"
       ]
      },
      {
       "html": [
        "<pre>PROGRESS:   Iter   Grad-Norm        Loss   Step size Elapsed time</pre>"
       ],
       "metadata": {},
       "output_type": "display_data",
       "text": [
        "PROGRESS:   Iter   Grad-Norm        Loss   Step size Elapsed time"
       ]
      },
      {
       "html": [
        "<pre>PROGRESS:      0   5.119e+01   1.774e+02   1.000e+00        0.00s</pre>"
       ],
       "metadata": {},
       "output_type": "display_data",
       "text": [
        "PROGRESS:      0   5.119e+01   1.774e+02   1.000e+00        0.00s"
       ]
      },
      {
       "html": [
        "<pre>PROGRESS:      1   9.245e+00   1.482e+02   1.000e+00        0.00s</pre>"
       ],
       "metadata": {},
       "output_type": "display_data",
       "text": [
        "PROGRESS:      1   9.245e+00   1.482e+02   1.000e+00        0.00s"
       ]
      },
      {
       "html": [
        "<pre>PROGRESS:      2   1.486e+00   1.461e+02   1.000e+00        0.00s</pre>"
       ],
       "metadata": {},
       "output_type": "display_data",
       "text": [
        "PROGRESS:      2   1.486e+00   1.461e+02   1.000e+00        0.00s"
       ]
      },
      {
       "html": [
        "<pre>PROGRESS:      3   5.453e-02   1.460e+02   1.000e+00        0.00s</pre>"
       ],
       "metadata": {},
       "output_type": "display_data",
       "text": [
        "PROGRESS:      3   5.453e-02   1.460e+02   1.000e+00        0.00s"
       ]
      },
      {
       "html": [
        "<pre>PROGRESS:      4   7.589e-05   1.460e+02   1.000e+00        0.01s</pre>"
       ],
       "metadata": {},
       "output_type": "display_data",
       "text": [
        "PROGRESS:      4   7.589e-05   1.460e+02   1.000e+00        0.01s"
       ]
      },
      {
       "output_type": "stream",
       "stream": "stdout",
       "text": [
        "0.6875\n"
       ]
      }
     ],
     "prompt_number": 8
    },
    {
     "cell_type": "code",
     "collapsed": false,
     "input": [
      "# diagnostics ... weekly outcomes\n",
      "g = dfAll.groupby('gameWeek')['lineScore','probaScore1','probaScore2','probaScore3'].sum()\n",
      "print(g)\n",
      "g.sum()"
     ],
     "language": "python",
     "metadata": {},
     "outputs": []
    },
    {
     "cell_type": "code",
     "collapsed": false,
     "input": [
      "# predict one week of current season\n",
      "iweek = 11\n",
      "reload(madden)\n",
      "\n",
      "# use different test set - current year\n",
      "testYear = [2014]\n",
      "seasonTest = np.array(testYear) # should be only one year\n",
      "print (\"results for >> \", seasonTest)\n",
      "\n",
      "dfGamesTest = madden.readGamesAll(path_to_lines, seasonTest)\n",
      "dfTeamsTest = madden.seasonRecord(dfGamesTest,reference_data)\n",
      "dfGamesTest = madden.processGames(dfGamesTest, dfTeamsTest, reference_data)\n",
      "dfGamesTest = dfGamesTest[dfGamesTest.season.isin(seasonTest)]\n",
      "\n",
      "# pick only this weeks games for predict\n",
      "dfTest = dfGamesTest[dfGamesTest.gameWeek == iweek]\n",
      "\n",
      "# apply results of logistic regression to the test set\n",
      "dfPredict = madden.predictGames(dfTest,mlClassifier,features)\n",
      "# apply ranking logic and determine scoring outcomes for league\n",
      "dfAll = madden.rankGames(dfPredict,reference_data,seasonTest[0])\n",
      "\n"
     ],
     "language": "python",
     "metadata": {},
     "outputs": [
      {
       "output_type": "stream",
       "stream": "stderr",
       "text": [
        "madden.py:393: SettingWithCopyWarning: \n",
        "A value is trying to be set on a copy of a slice from a DataFrame.\n",
        "Try using .loc[row_indexer,col_indexer] = value instead\n",
        "\n",
        "See the the caveats in the documentation: http://pandas.pydata.org/pandas-docs/stable/indexing.html#indexing-view-versus-copy\n",
        "  dfPredict['predict_proba'] = pp[:, 1]\n",
        "madden.py:394: SettingWithCopyWarning: \n",
        "A value is trying to be set on a copy of a slice from a DataFrame.\n",
        "Try using .loc[row_indexer,col_indexer] = value instead\n",
        "\n",
        "See the the caveats in the documentation: http://pandas.pydata.org/pandas-docs/stable/indexing.html#indexing-view-versus-copy\n",
        "  dfPredict['predict_proba_abs'] = abs(pp[:, 1] - 0.5)\n",
        "madden.py:395: SettingWithCopyWarning: \n",
        "A value is trying to be set on a copy of a slice from a DataFrame.\n",
        "Try using .loc[row_indexer,col_indexer] = value instead\n",
        "\n",
        "See the the caveats in the documentation: http://pandas.pydata.org/pandas-docs/stable/indexing.html#indexing-view-versus-copy\n",
        "  dfPredict['decision_fxn'] = dfxn\n",
        "madden.py:400: SettingWithCopyWarning: \n",
        "A value is trying to be set on a copy of a slice from a DataFrame.\n",
        "Try using .loc[row_indexer,col_indexer] = value instead\n",
        "\n",
        "See the the caveats in the documentation: http://pandas.pydata.org/pandas-docs/stable/indexing.html#indexing-view-versus-copy\n",
        "  dfPredict['predictWin'] = 1 * ((scoreDiff * dfPredict['Line'] * (dfPredict['predict_proba'] - 0.5) ) > 0)\n"
       ]
      },
      {
       "output_type": "stream",
       "stream": "stdout",
       "text": [
        "results for >>  [2014]\n",
        "             score  win by    win\n",
        "lineScore      NaN     NaN  False\n",
        "probaScore1    NaN     NaN  False\n",
        "probaScore2      0       0  False\n",
        "probaScore3      0       0  False"
       ]
      },
      {
       "output_type": "stream",
       "stream": "stdout",
       "text": [
        "\n"
       ]
      }
     ],
     "prompt_number": 32
    },
    {
     "cell_type": "code",
     "collapsed": false,
     "input": [
      "# display weekly ranking output\n",
      "\n",
      "# ranking methods choices\n",
      "# 0. pick based on spread\n",
      "# 1. always pick favored team, rank by probability of win\n",
      "# 2. pick winner based on abs(probability - .5), rank by probability\n",
      "# 3. pick winner based on abs(probability - .5), rank by abs(probability - .5)\n",
      "\n",
      "dispCols = ['season','gameWeek','Visitor','visitorRecord','Home Team','homeRecord',\n",
      "            'Line','prevFavoredRecord','prevUnderdogRecord','predict_proba',\n",
      "            'lineGuess','probaGuess', 'probaAbsGuess', 'predictTeam']\n",
      "\n",
      "\n",
      "dfAll['predictTeam'] = np.where((dfAll['predict_proba'] - .5) > 0 , dfAll['favorite'], dfAll['underdog'])\n",
      "guessCol = 'probaGuess'\n",
      "predictCols = ['predictTeam', 'predict_proba', guessCol, 'favorite','lineGuess', 'Line']\n",
      "dfAll[predictCols].sort(guessCol, ascending=False)"
     ],
     "language": "python",
     "metadata": {},
     "outputs": []
    },
    {
     "cell_type": "code",
     "collapsed": false,
     "input": [
      "# display weekly ranking output for spread method\n",
      "\n",
      "# ranking methods choices\n",
      "# 0. pick based on spread\n",
      "# 1. always pick favored team, rank by probability of win\n",
      "# 2. pick winner based on abs(probability - .5), rank by probability\n",
      "# 3. pick winner based on abs(probability - .5), rank by abs(probability - .5)\n",
      "\n",
      "predictCols = ['favorite','lineGuess', 'absLine','Line', 'favoredHomeGame', 'divisionGame', 'favoredRecord']\n",
      "\n",
      "sortCols = ['absLine','favoredHomeGame', 'divisionGame', 'favoredRecord', 'favorite']\n",
      "dfSpread = dfAll[predictCols].sort(sortCols , ascending=False)\n",
      "#print(dfSpread.to_csv(sys.stdout,sep=',', index=False))\n",
      "dfSpread"
     ],
     "language": "python",
     "metadata": {},
     "outputs": []
    },
    {
     "cell_type": "code",
     "collapsed": false,
     "input": [
      "dfAll.columns"
     ],
     "language": "python",
     "metadata": {},
     "outputs": []
    },
    {
     "cell_type": "code",
     "collapsed": false,
     "input": [
      "# display details for a single week\n",
      "dispWeek = 7\n",
      "dispCols = ['season','gameWeek','Visitor','Home Team',\n",
      "            'visitorRecord', 'homeRecord', 'favoredRecord','underdogRecord',\n",
      "            'prevFavoredRecord','Line','predict_proba','Visitor Score',\n",
      "            'Home Score','favoredWin','predictWin','lineGuess','probaGuess', 'lineScore','probaScore1','probaScore2']\n",
      "\n",
      "print(dfAll[dfAll.gameWeek == dispWeek]['lineScore'].sum())\n",
      "dfAll[dfAll.gameWeek == dispWeek][dispCols]"
     ],
     "language": "python",
     "metadata": {},
     "outputs": []
    },
    {
     "cell_type": "code",
     "collapsed": false,
     "input": [
      "# diagnostics ... plot outcomes of games\n",
      "nWin = dfAllGames.favoredWin.index.tolist()\n",
      "nLose = dfAllGames[dfAllGames['favoredWin'] == 0].index.tolist()\n",
      "\n",
      "plt.plot(dfAllGames.favoredRecord[nWin],dfAllGames.underdogRecord[nWin],'bx')\n",
      "plt.plot(dfAllGames.favoredRecord[nLose],dfAllGames.underdogRecord[nLose],'rx')"
     ],
     "language": "python",
     "metadata": {},
     "outputs": []
    },
    {
     "cell_type": "code",
     "collapsed": false,
     "input": [
      "# diagnostics ... logreg variables\n",
      "\n",
      "# print classifiers\n",
      "print(\"classifiers > \",logreg.classes_)\n",
      "\n",
      "# coefficients\n",
      "cc = logreg.coef_\n",
      "cc.shape\n",
      "print(\"coeffs\")\n",
      "for ii,ff in enumerate(features):\n",
      "    print(ii,ff,cc[0][ii])\n",
      "    "
     ],
     "language": "python",
     "metadata": {},
     "outputs": []
    },
    {
     "cell_type": "code",
     "collapsed": false,
     "input": [],
     "language": "python",
     "metadata": {},
     "outputs": []
    },
    {
     "cell_type": "code",
     "collapsed": false,
     "input": [
      "# run one year of rolling training, control width of training window w/ trainFreq\n",
      "import runMadden\n",
      "reload(runMadden)\n",
      "reload(madden)\n",
      "\n",
      "# need to be arrays\n",
      "trainYears = [2012] #range(2008.2013) \n",
      "testYear = [2013]\n",
      "trainFreq = 6\n",
      "\n",
      "dd = runMadden.runSeasonRolling(trainYears,testYear,olookups,trainFreq)\n",
      "dd"
     ],
     "language": "python",
     "metadata": {},
     "outputs": []
    },
    {
     "cell_type": "code",
     "collapsed": false,
     "input": [
      "# loop over years to test trainFreq\n",
      "\n",
      "reload(runMadden)\n",
      "reload(madden)\n",
      "\n",
      "ddd = None\n",
      "for y in range(2008,2013):\n",
      "    trainYears = [y]\n",
      "    testYear = [y+1]\n",
      "    trainFreq = 20\n",
      "    dd = runMadden.runSeasonRolling(trainYears,testYear,olookups,trainFreq)\n",
      "    if ddd is None:\n",
      "        ddd = dd\n",
      "    else:\n",
      "        ddd = ddd.append(dd)\n",
      "        \n",
      "ddd        "
     ],
     "language": "python",
     "metadata": {},
     "outputs": []
    },
    {
     "cell_type": "code",
     "collapsed": false,
     "input": [
      "# diagnostics ... plot outcomes of games\n",
      "nWin = dfAll.favoredWin.index.tolist()\n",
      "nLose = dfAll[dfAll['favoredWin'] == 0].index.tolist()\n",
      "\n",
      "plt.plot(dfAll.favoredRecord[nWin],dfAll.underdogRecord[nWin],'bx')\n",
      "plt.plot(dfAll.favoredRecord[nLose],dfAll.underdogRecord[nLose],'rx')\n",
      "\n",
      "# pct correct according to spread\n",
      "print (len(nWin)/ (len(nWin) + len(nLose)))\n",
      "\n",
      "# pct correct according to model\n",
      "nWin = dfAll.predictWin.index.tolist()\n",
      "nLose = dfAll[dfAll['predictWin'] == 0].index.tolist()\n",
      "print (len(nWin)/ (len(nWin) + len(nLose)))\n"
     ],
     "language": "python",
     "metadata": {},
     "outputs": []
    },
    {
     "cell_type": "code",
     "collapsed": false,
     "input": [],
     "language": "python",
     "metadata": {},
     "outputs": []
    },
    {
     "cell_type": "code",
     "collapsed": false,
     "input": [],
     "language": "python",
     "metadata": {},
     "outputs": []
    },
    {
     "cell_type": "code",
     "collapsed": false,
     "input": [],
     "language": "python",
     "metadata": {},
     "outputs": []
    }
   ],
   "metadata": {}
  }
 ]
}