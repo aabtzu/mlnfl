{
 "cells": [
  {
   "cell_type": "code",
   "execution_count": 1,
   "metadata": {},
   "outputs": [
    {
     "name": "stdout",
     "output_type": "stream",
     "text": [
      "Meetup_NFLlines_Sep2014.pdf   nfl-season-standings.ipynb\r\n",
      "backtest_vs_elo_538.ipynb     nfl-survival-pool-test.ipynb\r\n",
      "cuny2015_nfl_ml.pptx          nfl.ipynb\r\n",
      "external_data.py              nfl_alain.ipynb\r\n",
      "get-data-2016.ipynb           nfl_alain_2015.ipynb\r\n",
      "merge elo .ipynb              nfl_picks2.py\r\n",
      "mlnfl-nfl-graphlab.ipynb      nflmerge.ipynb\r\n",
      "mlnfl-nfl.ipynb               nohup.out\r\n",
      "mlnfl-nfl2.ipynb              pydata2014_nfl_ml.pptx\r\n",
      "mlnfl-nfl2015-webinar.ipynb   readme.md\r\n",
      "mlnfl-nfl2015.ipynb           run_nfl_picks.ipynb\r\n",
      "mlnfl-nfl2016-demo.ipynb      scrape-scores.ipynb\r\n",
      "mlnfl-nfl2018-demo.ipynb      scrape-spreads.ipynb\r\n",
      "mlnfl-pydata.ipynb            spread to probability.ipynb\r\n",
      "\u001b[1m\u001b[36mnfl\u001b[m\u001b[m/                          \u001b[1m\u001b[36mwebapp\u001b[m\u001b[m/\r\n"
     ]
    }
   ],
   "source": [
    "ls"
   ]
  },
  {
   "cell_type": "code",
   "execution_count": 7,
   "metadata": {},
   "outputs": [],
   "source": [
    "\n",
    "from nfl import madden\n",
    "from nfl.madden import ReferenceData\n",
    "import pandas\n",
    "import logging\n",
    "import os\n",
    "%matplotlib inline\n"
   ]
  },
  {
   "cell_type": "code",
   "execution_count": 5,
   "metadata": {},
   "outputs": [
    {
     "name": "stdout",
     "output_type": "stream",
     "text": [
      "/Users/amitbhattacharyya/repos/mlnfl/nfl\n"
     ]
    }
   ],
   "source": [
    "MLNFL_ROOT_DIR = os.environ['MLNFL_ROOT']\n",
    "print(MLNFL_ROOT_DIR)\n",
    "codeDir = \"\".join([MLNFL_ROOT_DIR, os.path.sep])\n",
    "\n",
    "dataRoot = \"\".join([codeDir, \"data\", os.path.sep])\n",
    "\n",
    "dataRoot = \"/Users/amitbhattacharyya/repos/mlkaggle/nfl/data/\""
   ]
  },
  {
   "cell_type": "code",
   "execution_count": 8,
   "metadata": {},
   "outputs": [
    {
     "name": "stderr",
     "output_type": "stream",
     "text": [
      " 2018-10-04 10:31:14,206 - INFO - lookupFiles = {'teams': {'file': 'nflTeams.csv'}, 'seasons': {'file': 'seasons.csv'}}\n",
      " 2018-10-04 10:31:14,207 - INFO - lookupDir = /Users/amitbhattacharyya/repos/mlkaggle/nfl/data/lookup/\n"
     ]
    }
   ],
   "source": [
    "lookupFiles = {'teams' : {'file': 'nflTeams.csv'}, 'seasons': {'file': 'seasons.csv'}, }\n",
    "\n",
    "lookupDir = \"\".join([dataRoot, 'lookup', os.path.sep])\n",
    "\n",
    "logging.info(\"lookupFiles = %s\" % lookupFiles)\n",
    "logging.info(\"lookupDir = %s\" % lookupDir)\n",
    "\n",
    "# load reference data\n",
    "reference_data = ReferenceData(lookupDir)\n"
   ]
  },
  {
   "cell_type": "code",
   "execution_count": null,
   "metadata": {},
   "outputs": [],
   "source": [
    "season = 2018\n",
    "if 1:\n",
    "    # train on previous 3 yrs of data\n",
    "    testYear = [season]\n",
    "    trainYears = range(season-10,season)\n",
    "\n",
    "    # training data set - includes one extra year for prev yr record\n",
    "    seasons = np.array(trainYears)\n",
    " \n",
    "    # get training data\n",
    "    # 1 - read all the games\n",
    "    path_to_lines = dataRoot + \"lines/\"\n",
    "    df_all_historical_games = madden.readGamesAll(path_to_lines, seasons)\n",
    "    # 2 - compile season record for all teams\n",
    "    df_all_teams = madden.seasonRecord(df_all_historical_games, reference_data)\n",
    "    # 3 - apply season records and compute other fields for all games\n",
    "    df_all_historical_games = madden.processGames(df_all_historical_games, df_all_teams, reference_data)\n",
    "    # 4 - remove extra year of data\n",
    "    df_all_historical_games = df_all_historical_games[df_all_historical_games.season.isin(seasons)]\n",
    "\n",
    " "
   ]
  },
  {
   "cell_type": "code",
   "execution_count": null,
   "metadata": {},
   "outputs": [],
   "source": [
    "df_all_historical_games.columns"
   ]
  },
  {
   "cell_type": "code",
   "execution_count": null,
   "metadata": {
    "scrolled": true
   },
   "outputs": [],
   "source": [
    "seaosn_filter = df_all_historical_games.season >= 2015\n",
    "df_lines_performance = df_all_historical_games[seaosn_filter].pivot_table(index='Line', values=\"homeWin\", aggfunc=(len,sum))\n",
    "df_lines_performance['pct'] = df_lines_performance['sum'] / df_lines_performance['len'] * 1.\n",
    "df_lines_performance"
   ]
  },
  {
   "cell_type": "code",
   "execution_count": null,
   "metadata": {},
   "outputs": [],
   "source": [
    "#df_lines_performance.drop([0], inplace=True)\n",
    "df_lines_performance['pct_smooth'] = pandas.rolling_mean(df_lines_performance['pct'], 10 , center=True)\n",
    "df_lines_performance['pct_smooth2'] = pandas.rolling_mean(df_lines_performance['pct_smooth'], 6 , center=True)\n",
    "df_lines_performance['pct_smooth2_inv'] = 1 -  df_lines_performance['pct_smooth2']"
   ]
  },
  {
   "cell_type": "code",
   "execution_count": null,
   "metadata": {},
   "outputs": [],
   "source": [
    "df_lines_performance[['pct','pct_smooth','pct_smooth2']].plot()"
   ]
  },
  {
   "cell_type": "code",
   "execution_count": null,
   "metadata": {},
   "outputs": [],
   "source": [
    "# map actual spreads to probabilities\n"
   ]
  },
  {
   "cell_type": "code",
   "execution_count": null,
   "metadata": {},
   "outputs": [],
   "source": [
    "df_recent = readGamesAll(path_to_lines, np.array([2018]))\n"
   ]
  },
  {
   "cell_type": "code",
   "execution_count": null,
   "metadata": {},
   "outputs": [],
   "source": [
    "week_filter = (df_recent.week == 5) & (df_recent.season == 2018)\n",
    "\n",
    "df_picks = df_recent[week_filter].merge(df_lines_performance, left_on=\"Line\", right_index=True)\n",
    "df_picks"
   ]
  },
  {
   "cell_type": "code",
   "execution_count": null,
   "metadata": {},
   "outputs": [],
   "source": [
    "use_cols = ['Home Team', 'Visitor', 'Line', 'pct_smooth2', 'pct_smooth2_inv']\n",
    "df_picks[use_cols].to_clipboard()"
   ]
  },
  {
   "cell_type": "code",
   "execution_count": null,
   "metadata": {
    "scrolled": true
   },
   "outputs": [],
   "source": [
    "df_lines_performance.pct_smooth2.plot()\n"
   ]
  },
  {
   "cell_type": "code",
   "execution_count": null,
   "metadata": {},
   "outputs": [],
   "source": [
    "df_lines_performance[-5:5]"
   ]
  },
  {
   "cell_type": "code",
   "execution_count": null,
   "metadata": {},
   "outputs": [],
   "source": [
    "df_lines_performance['sum'].sum() / df_lines_performance['len'].sum()"
   ]
  },
  {
   "cell_type": "code",
   "execution_count": null,
   "metadata": {},
   "outputs": [],
   "source": [
    "df_lines_performance.drop([0])"
   ]
  },
  {
   "cell_type": "code",
   "execution_count": null,
   "metadata": {},
   "outputs": [],
   "source": []
  }
 ],
 "metadata": {
  "kernelspec": {
   "display_name": "Python 3",
   "language": "python",
   "name": "python3"
  },
  "language_info": {
   "codemirror_mode": {
    "name": "ipython",
    "version": 3
   },
   "file_extension": ".py",
   "mimetype": "text/x-python",
   "name": "python",
   "nbconvert_exporter": "python",
   "pygments_lexer": "ipython3",
   "version": "3.6.3"
  }
 },
 "nbformat": 4,
 "nbformat_minor": 2
}
