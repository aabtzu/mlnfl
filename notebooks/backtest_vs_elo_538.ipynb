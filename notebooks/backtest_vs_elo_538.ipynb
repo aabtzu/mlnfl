{
 "cells": [
  {
   "cell_type": "code",
   "execution_count": 15,
   "metadata": {},
   "outputs": [],
   "source": [
    "from madden import *\n",
    "import os"
   ]
  },
  {
   "cell_type": "code",
   "execution_count": 66,
   "metadata": {
    "scrolled": true
   },
   "outputs": [
    {
     "name": "stdout",
     "output_type": "stream",
     "text": [
      "0 -75.0 25.0\n",
      "1 -73.01 24.99\n",
      "2 -71.04 24.96\n",
      "3 -69.09 24.91\n",
      "4 -67.16 24.84\n",
      "5 -65.25 24.75\n",
      "6 -63.36 24.64\n",
      "7 -61.49 24.51\n",
      "8 -59.64 24.36\n",
      "9 -57.81 24.19\n",
      "10 -56.0 24.0\n",
      "11 -54.21 23.79\n",
      "12 -52.44 23.56\n",
      "13 -50.69 23.31\n",
      "14 -48.96 23.04\n",
      "15 -47.25 22.75\n",
      "16 -45.56 22.44\n",
      "17 -43.89 22.11\n",
      "18 -42.24 21.76\n",
      "19 -40.61 21.39\n",
      "20 -39.0 21.0\n",
      "21 -37.41 20.59\n",
      "22 -35.84 20.16\n",
      "23 -34.29 19.71\n",
      "24 -32.76 19.24\n",
      "25 -31.25 18.75\n",
      "26 -29.76 18.24\n",
      "27 -28.29 17.71\n",
      "28 -26.84 17.16\n",
      "29 -25.41 16.59\n",
      "30 -24.0 16.0\n",
      "31 -22.61 15.39\n",
      "32 -21.24 14.76\n",
      "33 -19.89 14.11\n",
      "34 -18.56 13.44\n",
      "35 -17.25 12.75\n",
      "36 -15.96 12.04\n",
      "37 -14.69 11.31\n",
      "38 -13.44 10.56\n",
      "39 -12.21 9.79\n",
      "40 -11.0 9.0\n",
      "41 -9.81 8.19\n",
      "42 -8.64 7.36\n",
      "43 -7.49 6.51\n",
      "44 -6.36 5.64\n",
      "45 -5.25 4.75\n",
      "46 -4.16 3.84\n",
      "47 -3.09 2.91\n",
      "48 -2.04 1.96\n",
      "49 -1.01 0.99\n",
      "50 0.0 0.0\n",
      "51 0.99 -1.01\n",
      "52 1.96 -2.04\n",
      "53 2.91 -3.09\n",
      "54 3.84 -4.16\n",
      "55 4.75 -5.25\n",
      "56 5.64 -6.36\n",
      "57 6.51 -7.49\n",
      "58 7.36 -8.64\n",
      "59 8.19 -9.81\n",
      "60 9.0 -11.0\n",
      "61 9.79 -12.21\n",
      "62 10.56 -13.44\n",
      "63 11.31 -14.69\n",
      "64 12.04 -15.96\n",
      "65 12.75 -17.25\n",
      "66 13.44 -18.56\n",
      "67 14.11 -19.89\n",
      "68 14.76 -21.24\n",
      "69 15.39 -22.61\n",
      "70 16.0 -24.0\n",
      "71 16.59 -25.41\n",
      "72 17.16 -26.84\n",
      "73 17.71 -28.29\n",
      "74 18.24 -29.76\n",
      "75 18.75 -31.25\n",
      "76 19.24 -32.76\n",
      "77 19.71 -34.29\n",
      "78 20.16 -35.84\n",
      "79 20.59 -37.41\n",
      "80 21.0 -39.0\n",
      "81 21.39 -40.61\n",
      "82 21.76 -42.24\n",
      "83 22.11 -43.89\n",
      "84 22.44 -45.56\n",
      "85 22.75 -47.25\n",
      "86 23.04 -48.96\n",
      "87 23.31 -50.69\n",
      "88 23.56 -52.44\n",
      "89 23.79 -54.21\n",
      "90 24.0 -56.0\n",
      "91 24.19 -57.81\n",
      "92 24.36 -59.64\n",
      "93 24.51 -61.49\n",
      "94 24.64 -63.36\n",
      "95 24.75 -65.25\n",
      "96 24.84 -67.16\n",
      "97 24.91 -69.09\n",
      "98 24.96 -71.04\n",
      "99 24.99 -73.01\n",
      "100 25.0 -75.0\n"
     ]
    }
   ],
   "source": [
    "reload(madden)\n",
    "for pp in range(101):\n",
    "    print pp, madden.elo_brier_score(pp/100., 1), madden.elo_brier_score(pp/100., 0)"
   ]
  },
  {
   "cell_type": "code",
   "execution_count": 39,
   "metadata": {},
   "outputs": [
    {
     "name": "stdout",
     "output_type": "stream",
     "text": [
      "/Users/amitbhattacharyya/repos/mlnfl/nfl\n"
     ]
    }
   ],
   "source": [
    "MLNFL_ROOT_DIR = os.environ['MLNFL_ROOT']\n",
    "print(MLNFL_ROOT_DIR)\n",
    "codeDir = \"\".join([MLNFL_ROOT_DIR, os.path.sep])\n",
    "\n",
    "dataRoot = \"\".join([codeDir, \"data\", os.path.sep])\n",
    "\n"
   ]
  },
  {
   "cell_type": "code",
   "execution_count": null,
   "metadata": {},
   "outputs": [],
   "source": [
    "lookupFiles = {'teams' : {'file': 'nflTeams.csv'}, 'seasons': {'file': 'seasons.csv'}, }\n",
    "\n",
    "lookupDir = \"\".join([dataRoot, 'lookup', os.path.sep])\n",
    "\n",
    "logging.info(\"lookupFiles = %s\" % lookupFiles)\n",
    "logging.info(\"lookupDir = %s\" % lookupDir)\n",
    "\n",
    "# load reference data\n",
    "reference_data = ReferenceData(lookupDir)\n"
   ]
  },
  {
   "cell_type": "code",
   "execution_count": 78,
   "metadata": {},
   "outputs": [],
   "source": [
    "import pandas"
   ]
  },
  {
   "cell_type": "code",
   "execution_count": 79,
   "metadata": {
    "scrolled": true
   },
   "outputs": [
    {
     "name": "stderr",
     "output_type": "stream",
     "text": [
      " 2018-09-06 11:42:12,948 - INFO - training seasons >> [2007 2008 2009]\n",
      " 2018-09-06 11:43:05,279 - INFO - results for >> [2010]\n"
     ]
    },
    {
     "name": "stdout",
     "output_type": "stream",
     "text": [
      "[2010]\n"
     ]
    },
    {
     "name": "stderr",
     "output_type": "stream",
     "text": [
      " 2018-09-06 11:43:54,675 - INFO - training data accuracy = 0.717447916667\n",
      " 2018-09-06 11:43:54,858 - INFO - training seasons >> [2008 2009 2010]\n"
     ]
    },
    {
     "name": "stdout",
     "output_type": "stream",
     "text": [
      "2010 998.007913081\n"
     ]
    },
    {
     "name": "stderr",
     "output_type": "stream",
     "text": [
      " 2018-09-06 11:44:46,258 - INFO - results for >> [2011]\n"
     ]
    },
    {
     "name": "stdout",
     "output_type": "stream",
     "text": [
      "[2011]\n"
     ]
    },
    {
     "name": "stderr",
     "output_type": "stream",
     "text": [
      " 2018-09-06 11:45:37,213 - INFO - training data accuracy = 0.697916666667\n",
      " 2018-09-06 11:45:37,413 - INFO - training seasons >> [2009 2010 2011]\n"
     ]
    },
    {
     "name": "stdout",
     "output_type": "stream",
     "text": [
      "2011 1259.67779258\n"
     ]
    },
    {
     "name": "stderr",
     "output_type": "stream",
     "text": [
      " 2018-09-06 11:46:33,768 - INFO - results for >> [2012]\n"
     ]
    },
    {
     "name": "stdout",
     "output_type": "stream",
     "text": [
      "[2012]\n"
     ]
    },
    {
     "name": "stderr",
     "output_type": "stream",
     "text": [
      " 2018-09-06 11:47:25,185 - INFO - training data accuracy = 0.712239583333\n",
      " 2018-09-06 11:47:25,374 - INFO - training seasons >> [2010 2011 2012]\n"
     ]
    },
    {
     "name": "stdout",
     "output_type": "stream",
     "text": [
      "2012 1025.85126014\n"
     ]
    },
    {
     "name": "stderr",
     "output_type": "stream",
     "text": [
      " 2018-09-06 11:48:20,753 - INFO - results for >> [2013]\n"
     ]
    },
    {
     "name": "stdout",
     "output_type": "stream",
     "text": [
      "[2013]\n"
     ]
    },
    {
     "name": "stderr",
     "output_type": "stream",
     "text": [
      " 2018-09-06 11:49:14,848 - INFO - training data accuracy = 0.690104166667\n",
      " 2018-09-06 11:49:15,414 - INFO - training seasons >> [2011 2012 2013]\n"
     ]
    },
    {
     "name": "stdout",
     "output_type": "stream",
     "text": [
      "2013 1216.9400564\n"
     ]
    },
    {
     "name": "stderr",
     "output_type": "stream",
     "text": [
      " 2018-09-06 11:50:11,049 - INFO - results for >> [2014]\n"
     ]
    },
    {
     "name": "stdout",
     "output_type": "stream",
     "text": [
      "[2014]\n"
     ]
    },
    {
     "name": "stderr",
     "output_type": "stream",
     "text": [
      " 2018-09-06 11:51:08,232 - INFO - training data accuracy = 0.6953125\n",
      " 2018-09-06 11:51:08,409 - INFO - training seasons >> [2012 2013 2014]\n"
     ]
    },
    {
     "name": "stdout",
     "output_type": "stream",
     "text": [
      "2014 1014.18607531\n"
     ]
    },
    {
     "name": "stderr",
     "output_type": "stream",
     "text": [
      " 2018-09-06 11:52:01,593 - INFO - results for >> [2015]\n"
     ]
    },
    {
     "name": "stdout",
     "output_type": "stream",
     "text": [
      "[2015]\n"
     ]
    },
    {
     "name": "stderr",
     "output_type": "stream",
     "text": [
      " 2018-09-06 11:52:55,348 - INFO - training data accuracy = 0.6953125\n",
      " 2018-09-06 11:52:55,545 - INFO - training seasons >> [2013 2014 2015]\n"
     ]
    },
    {
     "name": "stdout",
     "output_type": "stream",
     "text": [
      "2015 664.656655962\n"
     ]
    },
    {
     "name": "stderr",
     "output_type": "stream",
     "text": [
      " 2018-09-06 11:53:52,806 - INFO - results for >> [2016]\n"
     ]
    },
    {
     "name": "stdout",
     "output_type": "stream",
     "text": [
      "[2016]\n"
     ]
    },
    {
     "name": "stderr",
     "output_type": "stream",
     "text": [
      " 2018-09-06 11:54:48,507 - INFO - training data accuracy = 0.684895833333\n",
      " 2018-09-06 11:54:48,690 - INFO - training seasons >> [2014 2015 2016]\n"
     ]
    },
    {
     "name": "stdout",
     "output_type": "stream",
     "text": [
      "2016 1070.33494363\n"
     ]
    },
    {
     "name": "stderr",
     "output_type": "stream",
     "text": [
      " 2018-09-06 11:55:44,869 - INFO - results for >> [2017]\n"
     ]
    },
    {
     "name": "stdout",
     "output_type": "stream",
     "text": [
      "[2017]\n"
     ]
    },
    {
     "name": "stderr",
     "output_type": "stream",
     "text": [
      " 2018-09-06 11:56:36,949 - INFO - training data accuracy = 0.678385416667\n"
     ]
    },
    {
     "name": "stdout",
     "output_type": "stream",
     "text": [
      "2017 1177.33447199\n"
     ]
    }
   ],
   "source": [
    "df_all_seasons = pandas.DataFrame()\n",
    "for season in range(2010,2018):\n",
    "\n",
    "\n",
    "    # train on previous 3 yrs of data\n",
    "    testYear = [season]\n",
    "    trainYears = range(testYear[0]-3,testYear[0])\n",
    "\n",
    "    # training data set - includes one extra year for prev yr record\n",
    "    seasons = np.array(trainYears)\n",
    "    logging.info(\"training seasons >> {0}\".format(seasons))\n",
    "\n",
    "    # get training data\n",
    "    # 1 - read all the games\n",
    "    path_to_lines = dataRoot + \"lines/\"\n",
    "    df_all_historical_games = madden.readGamesAll(path_to_lines, seasons)\n",
    "    # 2 - compile season record for all teams\n",
    "    df_all_teams = madden.seasonRecord(df_all_historical_games, reference_data)\n",
    "    # 3 - apply season records and compute other fields for all games\n",
    "    df_all_historical_games = madden.processGames(df_all_historical_games, df_all_teams, reference_data)\n",
    "    # 4 - remove extra year of data\n",
    "    df_all_historical_games = df_all_historical_games[df_all_historical_games.season.isin(seasons)]\n",
    "\n",
    "    # use different test set\n",
    "    season_test = np.array(testYear) # should be only one year\n",
    "    print(season_test)\n",
    "    logging.info(\"results for >> {0}\".format(season_test))\n",
    "    # 1 - read all the games\n",
    "    dfGamesTest = madden.readGamesAll(path_to_lines, season_test)\n",
    "    # 2 - compile season record for all teams\n",
    "    dfTeamsTest = madden.seasonRecord(dfGamesTest, reference_data)\n",
    "    # 3 - apply season records and compute other fields for all games\n",
    "    dfGamesTest = madden.processGames(dfGamesTest, dfTeamsTest, reference_data)\n",
    "    # 4 - remove extra year of data\n",
    "    dfGamesTest = dfGamesTest[dfGamesTest.season.isin(season_test)]\n",
    "\n",
    "    # get games for testing and predicting -- should be only one year\n",
    "    season_test = np.array(testYear)\n",
    "\n",
    "    dfGamesTest = madden.readGamesAll(path_to_lines, season_test)\n",
    "    dfTeamsTest = madden.seasonRecord(dfGamesTest,reference_data)\n",
    "    dfGamesTest = madden.processGames(dfGamesTest, dfTeamsTest, reference_data)\n",
    "    dfGamesTest = dfGamesTest[dfGamesTest.season.isin(season_test)]\n",
    "\n",
    "\n",
    "    dfTest = dfGamesTest  #[dfGamesTest.gameWeek == week_number]\n",
    "    lr_classifier = linear_model.LogisticRegression(C=1e5)\n",
    "    lr_trained_classifier = madden.runScikitClassifier(df_all_historical_games, madden.FEATURE_COLUMNS, lr_classifier)\n",
    "    df_lr_predict = madden.predictGames(dfTest, lr_trained_classifier, madden.FEATURE_COLUMNS)\n",
    "    df_all_picks = madden.rankGames(df_lr_predict, reference_data, season_test[0])\n",
    "    print season, df_all_picks.eloScore.sum()\n",
    "    df_all_seasons = df_all_seasons.append(df_all_picks)\n",
    "    \n"
   ]
  },
  {
   "cell_type": "code",
   "execution_count": 82,
   "metadata": {
    "scrolled": true
   },
   "outputs": [],
   "source": [
    "use_cols = ['season','week','Visitor','Home Team','favorite', 'favoredWin', 'predict_proba', 'eloScore']\n",
    "df_all_seasons[use_cols].to_clipboard()"
   ]
  },
  {
   "cell_type": "code",
   "execution_count": 63,
   "metadata": {},
   "outputs": [
    {
     "data": {
      "text/plain": [
       "Date                  2017-09-072017-09-102017-09-102017-09-102017-0...\n",
       "Visitor               Kansas City ChiefsNew York JetsAtlanta Falcons...\n",
       "Visitor Score                                                      5242\n",
       "Home Team             New England PatriotsBuffalo BillsChicago Bears...\n",
       "Home Score                                                         5878\n",
       "Line                                                              521.8\n",
       "Total Line                                                         None\n",
       "season                                                           516352\n",
       "week                                                               2325\n",
       "favorite              New England PatriotsBuffalo BillsAtlanta Falco...\n",
       "underdog              Kansas City ChiefsNew York JetsChicago BearsBa...\n",
       "favoredHomeGame                                                     157\n",
       "divisionGame                                                         96\n",
       "homeWin                                                             145\n",
       "favoredWin                                                          176\n",
       "gameWeek                                                           2325\n",
       "homeRecord                                                      122.314\n",
       "visitorRecord                                                   118.616\n",
       "favoredRecord                                                   144.809\n",
       "underdogRecord                                                  96.1214\n",
       "prevFavoredRecord                                               137.375\n",
       "prevUnderdogRecord                                              116.625\n",
       "absLine                                                          1369.8\n",
       "predict_proba                                                   168.036\n",
       "predict_proba_abs                                               45.4719\n",
       "predictWin                                                          177\n",
       "eloScore                                                        1177.33\n",
       "dtype: object"
      ]
     },
     "execution_count": 63,
     "metadata": {},
     "output_type": "execute_result"
    }
   ],
   "source": [
    "dfTest.sum()"
   ]
  },
  {
   "cell_type": "code",
   "execution_count": null,
   "metadata": {},
   "outputs": [],
   "source": []
  }
 ],
 "metadata": {
  "kernelspec": {
   "display_name": "Python 3",
   "language": "python",
   "name": "python3"
  },
  "language_info": {
   "codemirror_mode": {
    "name": "ipython",
    "version": 3
   },
   "file_extension": ".py",
   "mimetype": "text/x-python",
   "name": "python",
   "nbconvert_exporter": "python",
   "pygments_lexer": "ipython3",
   "version": "3.6.3"
  }
 },
 "nbformat": 4,
 "nbformat_minor": 2
}
