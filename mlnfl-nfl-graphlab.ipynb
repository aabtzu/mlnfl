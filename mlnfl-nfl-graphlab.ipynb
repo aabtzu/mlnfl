{
 "cells": [
  {
   "cell_type": "markdown",
   "metadata": {},
   "source": [
    "## nfl lines machine learning project\n",
    "\n",
    "\n",
    "source data for historical spreads and game scores\n",
    "http://www.repole.com/sun4cast/data.html"
   ]
  },
  {
   "cell_type": "code",
   "execution_count": 7,
   "metadata": {
    "collapsed": false
   },
   "outputs": [
    {
     "name": "stdout",
     "output_type": "stream",
     "text": [
      "/Users/amit.bhattacharyya/repos/mlnfl/nfl/\n",
      "/Users/amit.bhattacharyya/repos/mlnfl/nfl/data/\n"
     ]
    }
   ],
   "source": [
    "import os\n",
    "\n",
    "# define the root directory for the nlf code in $MLNLF_ROOT\n",
    "codeDir = \"\".join([os.environ['MLNFL_ROOT'], os.path.sep])\n",
    "dataRoot = \"\".join([codeDir, \"data\", os.path.sep])\n",
    "\n",
    "os.chdir(codeDir)\n",
    "\n",
    "print(codeDir)\n",
    "print(dataRoot)"
   ]
  },
  {
   "cell_type": "code",
   "execution_count": 8,
   "metadata": {
    "collapsed": false
   },
   "outputs": [],
   "source": [
    "%matplotlib inline\n",
    "\n",
    "from __future__ import division\n",
    "from __future__ import print_function\n",
    "import os\n",
    "import numpy as np\n",
    "import pandas as pd\n",
    "import madden\n",
    "import sklearn_pandas\n",
    "import matplotlib.pyplot as plt\n",
    "import sklearn\n",
    "\n",
    "import graphlab as gl"
   ]
  },
  {
   "cell_type": "code",
   "execution_count": 9,
   "metadata": {
    "collapsed": false
   },
   "outputs": [
    {
     "name": "stdout",
     "output_type": "stream",
     "text": [
      "lookupFiles = {'seasons': {'file': 'seasons.csv'}, 'teams': {'file': 'nflTeams.csv'}}\n",
      "lookupDir = /Users/amit.bhattacharyya/repos/mlnfl/nfl/data/lookup/\n"
     ]
    }
   ],
   "source": [
    "# lookup files\n",
    "from referencedata import ReferenceData\n",
    "lookupFiles = { 'teams' : {'file': 'nflTeams.csv' },\n",
    "                'seasons' : {'file': 'seasons.csv' },\n",
    "               }\n",
    "\n",
    "lookupDir = \"\".join([dataRoot, 'lookup', os.path.sep])\n",
    "\n",
    "print (\"lookupFiles = %s\" % lookupFiles)\n",
    "print (\"lookupDir = %s\" % lookupDir)"
   ]
  },
  {
   "cell_type": "code",
   "execution_count": 10,
   "metadata": {
    "collapsed": false
   },
   "outputs": [
    {
     "data": {
      "text/html": [
       "<div style=\"max-height:1000px;max-width:1500px;overflow:auto;\">\n",
       "<table border=\"1\" class=\"dataframe\">\n",
       "  <thead>\n",
       "    <tr style=\"text-align: right;\">\n",
       "      <th></th>\n",
       "      <th>city</th>\n",
       "      <th>mascot</th>\n",
       "      <th>league</th>\n",
       "      <th>division</th>\n",
       "      <th>year</th>\n",
       "    </tr>\n",
       "    <tr>\n",
       "      <th>team</th>\n",
       "      <th></th>\n",
       "      <th></th>\n",
       "      <th></th>\n",
       "      <th></th>\n",
       "      <th></th>\n",
       "    </tr>\n",
       "  </thead>\n",
       "  <tbody>\n",
       "    <tr>\n",
       "      <th>Baltimore Ravens</th>\n",
       "      <td>NaN</td>\n",
       "      <td>NaN</td>\n",
       "      <td> afc</td>\n",
       "      <td> north</td>\n",
       "      <td>NaN</td>\n",
       "    </tr>\n",
       "    <tr>\n",
       "      <th>New England Patriots</th>\n",
       "      <td>NaN</td>\n",
       "      <td>NaN</td>\n",
       "      <td> afc</td>\n",
       "      <td>  east</td>\n",
       "      <td>NaN</td>\n",
       "    </tr>\n",
       "    <tr>\n",
       "      <th>Tennessee Titans</th>\n",
       "      <td>NaN</td>\n",
       "      <td>NaN</td>\n",
       "      <td> afc</td>\n",
       "      <td> south</td>\n",
       "      <td>NaN</td>\n",
       "    </tr>\n",
       "    <tr>\n",
       "      <th>Atlanta Falcons</th>\n",
       "      <td>NaN</td>\n",
       "      <td>NaN</td>\n",
       "      <td> nfc</td>\n",
       "      <td> south</td>\n",
       "      <td>NaN</td>\n",
       "    </tr>\n",
       "    <tr>\n",
       "      <th>Tampa Bay Buccaneers</th>\n",
       "      <td>NaN</td>\n",
       "      <td>NaN</td>\n",
       "      <td> nfc</td>\n",
       "      <td> south</td>\n",
       "      <td>NaN</td>\n",
       "    </tr>\n",
       "  </tbody>\n",
       "</table>\n",
       "</div>"
      ],
      "text/plain": [
       "                      city  mascot league division  year\n",
       "team                                                    \n",
       "Baltimore Ravens       NaN     NaN    afc    north   NaN\n",
       "New England Patriots   NaN     NaN    afc     east   NaN\n",
       "Tennessee Titans       NaN     NaN    afc    south   NaN\n",
       "Atlanta Falcons        NaN     NaN    nfc    south   NaN\n",
       "Tampa Bay Buccaneers   NaN     NaN    nfc    south   NaN"
      ]
     },
     "execution_count": 10,
     "metadata": {},
     "output_type": "execute_result"
    }
   ],
   "source": [
    "# in notebook, leave all the diagnostic outputs since this is not the real thing\n",
    "# we are using the nb to investigate\n",
    "reference_data = ReferenceData(lookupDir)\n",
    "reference_data.teams_df.head()"
   ]
  },
  {
   "cell_type": "code",
   "execution_count": 11,
   "metadata": {
    "collapsed": false
   },
   "outputs": [
    {
     "name": "stdout",
     "output_type": "stream",
     "text": [
      "training seasons >>  [2011 2012 2013]\n"
     ]
    }
   ],
   "source": [
    "### NEW multi-season training\n",
    "import madden\n",
    "reload(madden)\n",
    "\n",
    "# need to be arrays\n",
    "#trainYears = [2013] #range(2008,2013) \n",
    "\n",
    "# train on previous 3 yrs of data\n",
    "testYear = [2014]\n",
    "trainYears = range(testYear[0]-3,testYear[0]) \n",
    "\n",
    "\n",
    "# training data set - includes one extra year for prev yr record\n",
    "seasons = np.array(trainYears)\n",
    "print (\"training seasons >> \", seasons)"
   ]
  },
  {
   "cell_type": "code",
   "execution_count": 12,
   "metadata": {
    "collapsed": false
   },
   "outputs": [
    {
     "name": "stderr",
     "output_type": "stream",
     "text": [
      "madden.py:109: SettingWithCopyWarning: \n",
      "A value is trying to be set on a copy of a slice from a DataFrame.\n",
      "Try using .loc[row_indexer,col_indexer] = value instead\n",
      "\n",
      "See the the caveats in the documentation: http://pandas.pydata.org/pandas-docs/stable/indexing.html#indexing-view-versus-copy\n",
      "  team_df['gamesPlayed'] = range(1, len(team_df.index) + 1)  # index 1 thur 16\n",
      "madden.py:110: SettingWithCopyWarning: \n",
      "A value is trying to be set on a copy of a slice from a DataFrame.\n",
      "Try using .loc[row_indexer,col_indexer] = value instead\n",
      "\n",
      "See the the caveats in the documentation: http://pandas.pydata.org/pandas-docs/stable/indexing.html#indexing-view-versus-copy\n",
      "  team_df['team'] = team\n",
      "madden.py:111: SettingWithCopyWarning: \n",
      "A value is trying to be set on a copy of a slice from a DataFrame.\n",
      "Try using .loc[row_indexer,col_indexer] = value instead\n",
      "\n",
      "See the the caveats in the documentation: http://pandas.pydata.org/pandas-docs/stable/indexing.html#indexing-view-versus-copy\n",
      "  team_df['homeGame'] = season_df['Home Team'] == team  # true for home game\n",
      "madden.py:114: SettingWithCopyWarning: \n",
      "A value is trying to be set on a copy of a slice from a DataFrame.\n",
      "Try using .loc[row_indexer,col_indexer] = value instead\n",
      "\n",
      "See the the caveats in the documentation: http://pandas.pydata.org/pandas-docs/stable/indexing.html#indexing-view-versus-copy\n",
      "  (team_df['Visitor Score'] > team_df['Home Score']) & (team_df['homeGame'] == False)\n",
      "madden.py:116: SettingWithCopyWarning: \n",
      "A value is trying to be set on a copy of a slice from a DataFrame.\n",
      "Try using .loc[row_indexer,col_indexer] = value instead\n",
      "\n",
      "See the the caveats in the documentation: http://pandas.pydata.org/pandas-docs/stable/indexing.html#indexing-view-versus-copy\n",
      "  team_df['gamesWon'] = team_df['wonGame'].cumsum()  # cumulative games won\n",
      "madden.py:117: SettingWithCopyWarning: \n",
      "A value is trying to be set on a copy of a slice from a DataFrame.\n",
      "Try using .loc[row_indexer,col_indexer] = value instead\n",
      "\n",
      "See the the caveats in the documentation: http://pandas.pydata.org/pandas-docs/stable/indexing.html#indexing-view-versus-copy\n",
      "  team_df['homeGamesWon'] = (team_df['wonGame'] & team_df['homeGame']).cumsum()  # cumulative home games won\n",
      "madden.py:118: SettingWithCopyWarning: \n",
      "A value is trying to be set on a copy of a slice from a DataFrame.\n",
      "Try using .loc[row_indexer,col_indexer] = value instead\n",
      "\n",
      "See the the caveats in the documentation: http://pandas.pydata.org/pandas-docs/stable/indexing.html#indexing-view-versus-copy\n",
      "  team_df['gamesLost'] = team_df['gamesPlayed'] - team_df['gamesWon']  # cumulative games lost\n",
      "madden.py:119: SettingWithCopyWarning: \n",
      "A value is trying to be set on a copy of a slice from a DataFrame.\n",
      "Try using .loc[row_indexer,col_indexer] = value instead\n",
      "\n",
      "See the the caveats in the documentation: http://pandas.pydata.org/pandas-docs/stable/indexing.html#indexing-view-versus-copy\n",
      "  team_df['winPct'] = team_df['gamesWon'] / team_df['gamesPlayed'] # winning pct by week\n",
      "madden.py:120: SettingWithCopyWarning: \n",
      "A value is trying to be set on a copy of a slice from a DataFrame.\n",
      "Try using .loc[row_indexer,col_indexer] = value instead\n",
      "\n",
      "See the the caveats in the documentation: http://pandas.pydata.org/pandas-docs/stable/indexing.html#indexing-view-versus-copy\n",
      "  team_df['homeGamesPlayed'] = team_df['homeGame'].cumsum()  # cumulative home games played\n",
      "madden.py:121: SettingWithCopyWarning: \n",
      "A value is trying to be set on a copy of a slice from a DataFrame.\n",
      "Try using .loc[row_indexer,col_indexer] = value instead\n",
      "\n",
      "See the the caveats in the documentation: http://pandas.pydata.org/pandas-docs/stable/indexing.html#indexing-view-versus-copy\n",
      "  team_df['homeWinPct'] = team_df['homeGamesWon'] / team_df['homeGamesPlayed'] # home winning pct by week\n",
      "madden.py:135: SettingWithCopyWarning: \n",
      "A value is trying to be set on a copy of a slice from a DataFrame.\n",
      "Try using .loc[row_indexer,col_indexer] = value instead\n",
      "\n",
      "See the the caveats in the documentation: http://pandas.pydata.org/pandas-docs/stable/indexing.html#indexing-view-versus-copy\n",
      "  team_df['opponent'] = opponent\n",
      "madden.py:136: SettingWithCopyWarning: \n",
      "A value is trying to be set on a copy of a slice from a DataFrame.\n",
      "Try using .loc[row_indexer,col_indexer] = value instead\n",
      "\n",
      "See the the caveats in the documentation: http://pandas.pydata.org/pandas-docs/stable/indexing.html#indexing-view-versus-copy\n",
      "  team_df['divGame'] = divGame\n"
     ]
    },
    {
     "ename": "AttributeError",
     "evalue": "'module' object has no attribute 'runML'",
     "output_type": "error",
     "traceback": [
      "\u001b[0;31m---------------------------------------------------------------------------\u001b[0m\n\u001b[0;31mAttributeError\u001b[0m                            Traceback (most recent call last)",
      "\u001b[0;32m<ipython-input-12-a10257ca5752>\u001b[0m in \u001b[0;36m<module>\u001b[0;34m()\u001b[0m\n\u001b[1;32m     24\u001b[0m             ]\n\u001b[1;32m     25\u001b[0m \u001b[0;31m# run the logistic regression\u001b[0m\u001b[0;34m\u001b[0m\u001b[0;34m\u001b[0m\u001b[0m\n\u001b[0;32m---> 26\u001b[0;31m \u001b[0mlogreg\u001b[0m \u001b[0;34m=\u001b[0m \u001b[0mmadden\u001b[0m\u001b[0;34m.\u001b[0m\u001b[0mrunML\u001b[0m\u001b[0;34m(\u001b[0m\u001b[0mdfAllGames\u001b[0m\u001b[0;34m,\u001b[0m\u001b[0mfeatures\u001b[0m\u001b[0;34m)\u001b[0m\u001b[0;34m\u001b[0m\u001b[0m\n\u001b[0m\u001b[1;32m     27\u001b[0m \u001b[0;34m\u001b[0m\u001b[0m\n\u001b[1;32m     28\u001b[0m \u001b[0;31m# use different test set\u001b[0m\u001b[0;34m\u001b[0m\u001b[0;34m\u001b[0m\u001b[0m\n",
      "\u001b[0;31mAttributeError\u001b[0m: 'module' object has no attribute 'runML'"
     ]
    }
   ],
   "source": [
    "# read all the games\n",
    "path_to_lines = dataRoot + \"lines/\"\n",
    "dfAllGames = madden.readGamesAll(path_to_lines, seasons)\n",
    "\n",
    "# remove these 2 useless columns for now\n",
    "dfAllGames = dfAllGames.drop('finalLine',1)\n",
    "dfAllGames = dfAllGames.drop('yahooLine',1)\n",
    "\n",
    "# compile season record for all teams\n",
    "dfAllTeams = madden.seasonRecord(dfAllGames, reference_data)\n",
    "\n",
    "# apply season records and compute other fields for all games\n",
    "dfAllGames = madden.processGames(dfAllGames, dfAllTeams, reference_data)\n",
    "# remove extra year of data \n",
    "dfAllGames = dfAllGames[dfAllGames.season.isin(seasons)]\n",
    "\n",
    "# define independent variables for logistic regression\n",
    "features = ['favoredRecord','underdogRecord',  # current year records of both teams\n",
    "            'prevFavoredRecord','prevUnderdogRecord', # prev year records, helps early in season when only few games played\n",
    "            'gameWeek',  # week in season, should make a good/bad record later in season more important\n",
    "            'absLine',  # absolute value of spread since favored team already determined\n",
    "            'divisionGame', # T/F, usually more competitive rivalry games, i.e. bad teams still win home division games.\n",
    "            'favoredHomeGame', # T/F, important since output of classifier is \"did the favored team win?\"\n",
    "            ]\n",
    "# run the logistic regression\n",
    "logreg = madden.runML(dfAllGames,features)\n",
    "\n",
    "# use different test set \n",
    "seasonTest = np.array(testYear) # should be only one year\n",
    "print (\"results for >> \", seasonTest)\n",
    "dfGamesTest = madden.readGamesAll(path_to_lines, seasonTest)\n",
    "dfTeamsTest = madden.seasonRecord(dfGamesTest,reference_data)\n",
    "dfGamesTest = madden.processGames(dfGamesTest, dfTeamsTest, reference_data)\n",
    "dfGamesTest = dfGamesTest[dfGamesTest.season.isin(seasonTest)]\n",
    "\n",
    "# apply results of logistic regression to the test set\n",
    "dfPredict = madden.predictGames(dfGamesTest,logreg,features)\n",
    "\n",
    "# apply ranking logic and determine scoring outcomes for league\n",
    "dfAll = madden.rankGames(dfPredict,reference_data,seasonTest[0])"
   ]
  },
  {
   "cell_type": "code",
   "execution_count": 12,
   "metadata": {
    "collapsed": false
   },
   "outputs": [
    {
     "name": "stdout",
     "output_type": "stream",
     "text": [
      "0.753731343284\n"
     ]
    }
   ],
   "source": [
    "print (sum(dfPredict.predictWin == dfPredict.favoredWin) / len (dfPredict))\n"
   ]
  },
  {
   "cell_type": "code",
   "execution_count": 29,
   "metadata": {
    "collapsed": false
   },
   "outputs": [
    {
     "data": {
      "text/html": [
       "<pre>PROGRESS: Boosted trees classifier:\n",
       "--------------------------------------------------------\n",
       "Number of examples          : 768 (507 positives, 261 negatives)\n",
       "Number of feature columns   : 8\n",
       "Number of unpacked features : 8</pre>"
      ],
      "text/plain": [
       "PROGRESS: Boosted trees classifier:\n",
       "--------------------------------------------------------\n",
       "Number of examples          : 768 (507 positives, 261 negatives)\n",
       "Number of feature columns   : 8\n",
       "Number of unpacked features : 8"
      ]
     },
     "metadata": {},
     "output_type": "display_data"
    },
    {
     "data": {
      "text/html": [
       "<pre>PROGRESS: Starting Boosted Trees</pre>"
      ],
      "text/plain": [
       "PROGRESS: Starting Boosted Trees"
      ]
     },
     "metadata": {},
     "output_type": "display_data"
    },
    {
     "data": {
      "text/html": [
       "<pre>PROGRESS: --------------------------------------------------------</pre>"
      ],
      "text/plain": [
       "PROGRESS: --------------------------------------------------------"
      ]
     },
     "metadata": {},
     "output_type": "display_data"
    },
    {
     "data": {
      "text/html": [
       "<pre>PROGRESS:   Iter    Accuracy Elapsed time</pre>"
      ],
      "text/plain": [
       "PROGRESS:   Iter    Accuracy Elapsed time"
      ]
     },
     "metadata": {},
     "output_type": "display_data"
    },
    {
     "data": {
      "text/html": [
       "<pre>PROGRESS:      0   7.852e-01        0.00s</pre>"
      ],
      "text/plain": [
       "PROGRESS:      0   7.852e-01        0.00s"
      ]
     },
     "metadata": {},
     "output_type": "display_data"
    },
    {
     "data": {
      "text/html": [
       "<pre>PROGRESS:      1   7.917e-01        0.00s</pre>"
      ],
      "text/plain": [
       "PROGRESS:      1   7.917e-01        0.00s"
      ]
     },
     "metadata": {},
     "output_type": "display_data"
    },
    {
     "data": {
      "text/html": [
       "<pre>PROGRESS:      2   8.190e-01        0.01s</pre>"
      ],
      "text/plain": [
       "PROGRESS:      2   8.190e-01        0.01s"
      ]
     },
     "metadata": {},
     "output_type": "display_data"
    },
    {
     "data": {
      "text/html": [
       "<pre>PROGRESS:      3   8.216e-01        0.01s</pre>"
      ],
      "text/plain": [
       "PROGRESS:      3   8.216e-01        0.01s"
      ]
     },
     "metadata": {},
     "output_type": "display_data"
    },
    {
     "data": {
      "text/html": [
       "<pre>PROGRESS:      4   8.333e-01        0.01s</pre>"
      ],
      "text/plain": [
       "PROGRESS:      4   8.333e-01        0.01s"
      ]
     },
     "metadata": {},
     "output_type": "display_data"
    },
    {
     "data": {
      "text/html": [
       "<pre>PROGRESS:      5   8.633e-01        0.01s</pre>"
      ],
      "text/plain": [
       "PROGRESS:      5   8.633e-01        0.01s"
      ]
     },
     "metadata": {},
     "output_type": "display_data"
    },
    {
     "data": {
      "text/html": [
       "<pre>PROGRESS:      6   8.633e-01        0.01s</pre>"
      ],
      "text/plain": [
       "PROGRESS:      6   8.633e-01        0.01s"
      ]
     },
     "metadata": {},
     "output_type": "display_data"
    },
    {
     "data": {
      "text/html": [
       "<pre>PROGRESS:      7   8.750e-01        0.01s</pre>"
      ],
      "text/plain": [
       "PROGRESS:      7   8.750e-01        0.01s"
      ]
     },
     "metadata": {},
     "output_type": "display_data"
    },
    {
     "data": {
      "text/html": [
       "<pre>PROGRESS:      8   8.867e-01        0.02s</pre>"
      ],
      "text/plain": [
       "PROGRESS:      8   8.867e-01        0.02s"
      ]
     },
     "metadata": {},
     "output_type": "display_data"
    },
    {
     "data": {
      "text/html": [
       "<pre>PROGRESS:      9   8.971e-01        0.02s</pre>"
      ],
      "text/plain": [
       "PROGRESS:      9   8.971e-01        0.02s"
      ]
     },
     "metadata": {},
     "output_type": "display_data"
    },
    {
     "data": {
      "text/html": [
       "<pre>PROGRESS: SVM:\n",
       "--------------------------------------------------------\n",
       "Number of examples          : 768 (507 positives, 261 negatives)\n",
       "Number of feature columns   : 8\n",
       "Number of unpacked features : 8</pre>"
      ],
      "text/plain": [
       "PROGRESS: SVM:\n",
       "--------------------------------------------------------\n",
       "Number of examples          : 768 (507 positives, 261 negatives)\n",
       "Number of feature columns   : 8\n",
       "Number of unpacked features : 8"
      ]
     },
     "metadata": {},
     "output_type": "display_data"
    },
    {
     "data": {
      "text/html": [
       "<pre>PROGRESS: Number of coefficients    : 9</pre>"
      ],
      "text/plain": [
       "PROGRESS: Number of coefficients    : 9"
      ]
     },
     "metadata": {},
     "output_type": "display_data"
    },
    {
     "data": {
      "text/html": [
       "<pre>PROGRESS: Starting L-BFGS \n",
       "--------------------------------------------------------</pre>"
      ],
      "text/plain": [
       "PROGRESS: Starting L-BFGS \n",
       "--------------------------------------------------------"
      ]
     },
     "metadata": {},
     "output_type": "display_data"
    },
    {
     "data": {
      "text/html": [
       "<pre>PROGRESS:   Iter   Grad-Norm        Loss   Step size Elapsed time</pre>"
      ],
      "text/plain": [
       "PROGRESS:   Iter   Grad-Norm        Loss   Step size Elapsed time"
      ]
     },
     "metadata": {},
     "output_type": "display_data"
    },
    {
     "data": {
      "text/html": [
       "<pre>PROGRESS:      0   3.155e+02   7.680e+02   1.000e-06        0.00s</pre>"
      ],
      "text/plain": [
       "PROGRESS:      0   3.155e+02   7.680e+02   1.000e-06        0.00s"
      ]
     },
     "metadata": {},
     "output_type": "display_data"
    },
    {
     "data": {
      "text/html": [
       "<pre>PROGRESS:      1   1.516e+02   5.526e+02   1.000e+00        0.02s</pre>"
      ],
      "text/plain": [
       "PROGRESS:      1   1.516e+02   5.526e+02   1.000e+00        0.02s"
      ]
     },
     "metadata": {},
     "output_type": "display_data"
    },
    {
     "data": {
      "text/html": [
       "<pre>PROGRESS:      2   4.377e+01   5.417e+02   5.000e-01        0.02s</pre>"
      ],
      "text/plain": [
       "PROGRESS:      2   4.377e+01   5.417e+02   5.000e-01        0.02s"
      ]
     },
     "metadata": {},
     "output_type": "display_data"
    },
    {
     "data": {
      "text/html": [
       "<pre>PROGRESS:      3   3.800e+01   5.412e+02   5.000e-01        0.02s</pre>"
      ],
      "text/plain": [
       "PROGRESS:      3   3.800e+01   5.412e+02   5.000e-01        0.02s"
      ]
     },
     "metadata": {},
     "output_type": "display_data"
    },
    {
     "data": {
      "text/html": [
       "<pre>PROGRESS:      4   3.558e+01   5.373e+02   5.000e-01        0.02s</pre>"
      ],
      "text/plain": [
       "PROGRESS:      4   3.558e+01   5.373e+02   5.000e-01        0.02s"
      ]
     },
     "metadata": {},
     "output_type": "display_data"
    },
    {
     "data": {
      "text/html": [
       "<pre>PROGRESS:      5   6.747e+01   5.358e+02   5.000e-01        0.03s</pre>"
      ],
      "text/plain": [
       "PROGRESS:      5   6.747e+01   5.358e+02   5.000e-01        0.03s"
      ]
     },
     "metadata": {},
     "output_type": "display_data"
    },
    {
     "data": {
      "text/html": [
       "<pre>PROGRESS:      6   4.574e+01   5.343e+02   5.000e-01        0.03s</pre>"
      ],
      "text/plain": [
       "PROGRESS:      6   4.574e+01   5.343e+02   5.000e-01        0.03s"
      ]
     },
     "metadata": {},
     "output_type": "display_data"
    },
    {
     "data": {
      "text/html": [
       "<pre>PROGRESS:      7   2.669e+01   5.334e+02   5.000e-01        0.03s</pre>"
      ],
      "text/plain": [
       "PROGRESS:      7   2.669e+01   5.334e+02   5.000e-01        0.03s"
      ]
     },
     "metadata": {},
     "output_type": "display_data"
    },
    {
     "data": {
      "text/html": [
       "<pre>PROGRESS:      8   1.860e+01   5.330e+02   5.000e-01        0.03s</pre>"
      ],
      "text/plain": [
       "PROGRESS:      8   1.860e+01   5.330e+02   5.000e-01        0.03s"
      ]
     },
     "metadata": {},
     "output_type": "display_data"
    },
    {
     "data": {
      "text/html": [
       "<pre>PROGRESS:      9   1.566e+01   5.327e+02   5.000e-01        0.03s</pre>"
      ],
      "text/plain": [
       "PROGRESS:      9   1.566e+01   5.327e+02   5.000e-01        0.03s"
      ]
     },
     "metadata": {},
     "output_type": "display_data"
    },
    {
     "data": {
      "text/html": [
       "<pre>PROGRESS:     10   1.245e+01   5.323e+02   5.000e-01        0.03s</pre>"
      ],
      "text/plain": [
       "PROGRESS:     10   1.245e+01   5.323e+02   5.000e-01        0.03s"
      ]
     },
     "metadata": {},
     "output_type": "display_data"
    },
    {
     "data": {
      "text/html": [
       "<pre>PROGRESS: Boosted trees classifier:\n",
       "--------------------------------------------------------\n",
       "Number of examples          : 768 (507 positives, 261 negatives)\n",
       "Number of feature columns   : 8\n",
       "Number of unpacked features : 8</pre>"
      ],
      "text/plain": [
       "PROGRESS: Boosted trees classifier:\n",
       "--------------------------------------------------------\n",
       "Number of examples          : 768 (507 positives, 261 negatives)\n",
       "Number of feature columns   : 8\n",
       "Number of unpacked features : 8"
      ]
     },
     "metadata": {},
     "output_type": "display_data"
    },
    {
     "data": {
      "text/html": [
       "<pre>PROGRESS: Starting Boosted Trees</pre>"
      ],
      "text/plain": [
       "PROGRESS: Starting Boosted Trees"
      ]
     },
     "metadata": {},
     "output_type": "display_data"
    },
    {
     "data": {
      "text/html": [
       "<pre>PROGRESS: --------------------------------------------------------</pre>"
      ],
      "text/plain": [
       "PROGRESS: --------------------------------------------------------"
      ]
     },
     "metadata": {},
     "output_type": "display_data"
    },
    {
     "data": {
      "text/html": [
       "<pre>PROGRESS:   Iter    Accuracy Elapsed time</pre>"
      ],
      "text/plain": [
       "PROGRESS:   Iter    Accuracy Elapsed time"
      ]
     },
     "metadata": {},
     "output_type": "display_data"
    },
    {
     "data": {
      "text/html": [
       "<pre>PROGRESS:      0   7.852e-01        0.00s</pre>"
      ],
      "text/plain": [
       "PROGRESS:      0   7.852e-01        0.00s"
      ]
     },
     "metadata": {},
     "output_type": "display_data"
    },
    {
     "data": {
      "text/html": [
       "<pre>PROGRESS:      1   7.917e-01        0.00s</pre>"
      ],
      "text/plain": [
       "PROGRESS:      1   7.917e-01        0.00s"
      ]
     },
     "metadata": {},
     "output_type": "display_data"
    },
    {
     "data": {
      "text/html": [
       "<pre>PROGRESS:      2   8.190e-01        0.01s</pre>"
      ],
      "text/plain": [
       "PROGRESS:      2   8.190e-01        0.01s"
      ]
     },
     "metadata": {},
     "output_type": "display_data"
    },
    {
     "data": {
      "text/html": [
       "<pre>PROGRESS:      3   8.216e-01        0.01s</pre>"
      ],
      "text/plain": [
       "PROGRESS:      3   8.216e-01        0.01s"
      ]
     },
     "metadata": {},
     "output_type": "display_data"
    },
    {
     "data": {
      "text/html": [
       "<pre>PROGRESS:      4   8.333e-01        0.01s</pre>"
      ],
      "text/plain": [
       "PROGRESS:      4   8.333e-01        0.01s"
      ]
     },
     "metadata": {},
     "output_type": "display_data"
    },
    {
     "data": {
      "text/html": [
       "<pre>PROGRESS:      5   8.633e-01        0.01s</pre>"
      ],
      "text/plain": [
       "PROGRESS:      5   8.633e-01        0.01s"
      ]
     },
     "metadata": {},
     "output_type": "display_data"
    },
    {
     "data": {
      "text/html": [
       "<pre>PROGRESS:      6   8.633e-01        0.01s</pre>"
      ],
      "text/plain": [
       "PROGRESS:      6   8.633e-01        0.01s"
      ]
     },
     "metadata": {},
     "output_type": "display_data"
    },
    {
     "data": {
      "text/html": [
       "<pre>PROGRESS:      7   8.750e-01        0.01s</pre>"
      ],
      "text/plain": [
       "PROGRESS:      7   8.750e-01        0.01s"
      ]
     },
     "metadata": {},
     "output_type": "display_data"
    },
    {
     "data": {
      "text/html": [
       "<pre>PROGRESS:      8   8.867e-01        0.02s</pre>"
      ],
      "text/plain": [
       "PROGRESS:      8   8.867e-01        0.02s"
      ]
     },
     "metadata": {},
     "output_type": "display_data"
    },
    {
     "data": {
      "text/html": [
       "<pre>PROGRESS:      9   8.971e-01        0.02s</pre>"
      ],
      "text/plain": [
       "PROGRESS:      9   8.971e-01        0.02s"
      ]
     },
     "metadata": {},
     "output_type": "display_data"
    }
   ],
   "source": [
    "# use graphlab\n",
    "glAllGames = gl.SFrame(dfAllGames)\n",
    "\n",
    "# create graphlab logistic regression model\n",
    "#gl_model = gl.logistic_classifier.create(glAllGames, 'favoredWin', features=features)\n",
    "\n",
    "# create graphlab boosted trees regression model\n",
    "gl_model = gl.boosted_trees_classifier.create(glAllGames, 'favoredWin', features=features)\n",
    "\n",
    "# create graphlab SVM model\n",
    "gl_model = gl.svm_classifier.create(glAllGames, 'favoredWin', features=features)\n",
    "\n",
    "# general classifier\n",
    "# remove home win \n",
    "#glAllGames = glAllGames.remove_column('homeWin')\n",
    "#glAllGames = glAllGames.remove_column('Visitor Score')\n",
    "#glAllGames = glAllGames.remove_column('Home Score')\n",
    "\n",
    "#print (glAllGames.column_names())\n",
    "gl_model = gl.classifier.create(glAllGames, 'favoredWin', features=features)\n"
   ]
  },
  {
   "cell_type": "code",
   "execution_count": 6,
   "metadata": {
    "collapsed": false
   },
   "outputs": [
    {
     "ename": "NameError",
     "evalue": "name 'gl_model' is not defined",
     "output_type": "error",
     "traceback": [
      "\u001b[0;31m---------------------------------------------------------------------------\u001b[0m\n\u001b[0;31mNameError\u001b[0m                                 Traceback (most recent call last)",
      "\u001b[0;32m<ipython-input-6-c5a5c81ad48d>\u001b[0m in \u001b[0;36m<module>\u001b[0;34m()\u001b[0m\n\u001b[1;32m      1\u001b[0m \u001b[0;31m# graphlab training accuracy on training data\u001b[0m\u001b[0;34m\u001b[0m\u001b[0;34m\u001b[0m\u001b[0m\n\u001b[0;32m----> 2\u001b[0;31m \u001b[0mgl_predict\u001b[0m \u001b[0;34m=\u001b[0m \u001b[0mgl_model\u001b[0m\u001b[0;34m.\u001b[0m\u001b[0mpredict\u001b[0m\u001b[0;34m(\u001b[0m\u001b[0mglAllGames\u001b[0m\u001b[0;34m)\u001b[0m\u001b[0;34m\u001b[0m\u001b[0m\n\u001b[0m\u001b[1;32m      3\u001b[0m \u001b[0mngames\u001b[0m \u001b[0;34m=\u001b[0m \u001b[0mlen\u001b[0m\u001b[0;34m(\u001b[0m\u001b[0mglAllGames\u001b[0m\u001b[0;34m)\u001b[0m\u001b[0;34m\u001b[0m\u001b[0m\n\u001b[1;32m      4\u001b[0m \u001b[0;32mprint\u001b[0m \u001b[0;34m(\u001b[0m\u001b[0msum\u001b[0m\u001b[0;34m(\u001b[0m\u001b[0;34m[\u001b[0m \u001b[0mgl_predict\u001b[0m \u001b[0;34m==\u001b[0m \u001b[0mglAllGames\u001b[0m\u001b[0;34m[\u001b[0m\u001b[0;34m'favoredWin'\u001b[0m\u001b[0;34m]\u001b[0m \u001b[0;34m]\u001b[0m\u001b[0;34m)\u001b[0m \u001b[0;34m/\u001b[0m \u001b[0mngames\u001b[0m\u001b[0;34m)\u001b[0m\u001b[0;34m\u001b[0m\u001b[0m\n",
      "\u001b[0;31mNameError\u001b[0m: name 'gl_model' is not defined"
     ]
    }
   ],
   "source": [
    "# graphlab training accuracy on training data\n",
    "gl_predict = gl_model.predict(glAllGames)\n",
    "ngames = len(glAllGames)\n",
    "print (sum([ gl_predict == glAllGames['favoredWin'] ]) / ngames)"
   ]
  },
  {
   "cell_type": "code",
   "execution_count": 31,
   "metadata": {
    "collapsed": false
   },
   "outputs": [
    {
     "name": "stdout",
     "output_type": "stream",
     "text": [
      "0.567164179104\n"
     ]
    },
    {
     "data": {
      "text/plain": [
       "{'accuracy': 0.6119402985074627, 'confusion_matrix': Columns:\n",
       " \ttarget_label\tstr\n",
       " \tpredicted_label\tstr\n",
       " \tcount\tint\n",
       " \n",
       " Rows: 4\n",
       " \n",
       " Data:\n",
       " +--------------+-----------------+-------+\n",
       " | target_label | predicted_label | count |\n",
       " +--------------+-----------------+-------+\n",
       " |      0       |        0        |   18  |\n",
       " |      0       |        1        |   18  |\n",
       " |      1       |        0        |   34  |\n",
       " |      1       |        1        |   64  |\n",
       " +--------------+-----------------+-------+\n",
       " [4 rows x 3 columns]}"
      ]
     },
     "execution_count": 31,
     "metadata": {},
     "output_type": "execute_result"
    }
   ],
   "source": [
    "# training accuracy on test data\n",
    "glGamesTest = gl.SFrame(dfGamesTest)\n",
    "gl_predict2 = gl_model.predict(glGamesTest)\n",
    "\n",
    "ngames = len(glGamesTest)\n",
    "print (sum([ gl_predict2 == glGamesTest['favoredWin'] ]) / ngames)\n",
    "\n",
    "gl_model.evaluate(glGamesTest)"
   ]
  },
  {
   "cell_type": "code",
   "execution_count": 32,
   "metadata": {
    "collapsed": false
   },
   "outputs": [
    {
     "name": "stdout",
     "output_type": "stream",
     "text": [
      "0.686567164179\n"
     ]
    }
   ],
   "source": [
    "# predict based on probability\n",
    "gl_probability = gl_model.predict(glGamesTest,output_type='probability')\n",
    "scoreDiff = glGamesTest['Home Score'] - glGamesTest['Visitor Score']\n",
    "gl_predict2 = (( scoreDiff * glGamesTest['Line'] * (gl_probability - 0.5) ) > 0)\n",
    "print (sum([ gl_predict2 == glGamesTest['favoredWin'] ]) / ngames)"
   ]
  },
  {
   "cell_type": "code",
   "execution_count": 34,
   "metadata": {
    "collapsed": false
   },
   "outputs": [
    {
     "name": "stdout",
     "output_type": "stream",
     "text": [
      "             score  win by   win\n",
      "lineScore      770     770  True\n",
      "probaScore1    768     768  True\n",
      "probaScore2    727     727  True\n",
      "probaScore3    715     715  True\n"
     ]
    }
   ],
   "source": [
    "# use margin for computing probability because probability all 0/1\n",
    "proba_type = \"prob\"\n",
    "if proba_type == \"margin\":\n",
    "    predict_margin = gl_model.predict(glGamesTest , output_type='margin')\n",
    "    # rescale margin to mimic probability\n",
    "    min_max_scaler = sklearn.preprocessing.MinMaxScaler()\n",
    "    predict_proba = min_max_scaler.fit_transform(predict_margin)\n",
    "\n",
    "else:\n",
    "    predict_proba = gl_model.predict(glGamesTest , output_type='probability')\n",
    "\n",
    "\n",
    "\n",
    "glPredict2 = glGamesTest\n",
    "glPredict2['predict_proba'] = predict_proba\n",
    "glPredict2['predict_proba_abs'] = (glPredict2['predict_proba'] - 0.5).apply(lambda x: abs(x))\n",
    "dfPredict2 = glPredict2.to_dataframe()\n",
    "\n",
    "# apply ranking logic and determine scoring outcomes for league\n",
    "dfAll = madden.rankGames(dfPredict2,reference_data,seasonTest[0])"
   ]
  },
  {
   "cell_type": "code",
   "execution_count": null,
   "metadata": {
    "collapsed": false
   },
   "outputs": [],
   "source": [
    "# diagnostics ... weekly outcomes\n",
    "g = dfAll.groupby('gameWeek')['lineScore','probaScore1','probaScore2','probaScore3'].sum()\n",
    "print(g)\n",
    "g.sum()"
   ]
  },
  {
   "cell_type": "code",
   "execution_count": null,
   "metadata": {
    "collapsed": false
   },
   "outputs": [],
   "source": [
    "# predict one week of current season\n",
    "iweek = 7\n",
    "reload(madden)\n",
    "\n",
    "# use different test set \n",
    "testYear = [2014]\n",
    "seasonTest = np.array(testYear) # should be only one year\n",
    "print (\"results for >> \", seasonTest)\n",
    "\n",
    "dfGamesTest = madden.readGamesAll(path_to_lines, seasonTest)\n",
    "dfTeamsTest = madden.seasonRecord(dfGamesTest,reference_data)\n",
    "dfGamesTest = madden.processGames(dfGamesTest, dfTeamsTest, reference_data)\n",
    "dfGamesTest = dfGamesTest[dfGamesTest.season.isin(seasonTest)]\n",
    "\n",
    "# pick only this weeks games for predict\n",
    "dfTest = dfGamesTest[dfGamesTest.gameWeek == iweek]\n",
    "\n",
    "# apply results of logistic regression to the test set\n",
    "dfPredict = madden.predictGames(dfTest,logreg,features)\n",
    "# apply ranking logic and determine scoring outcomes for league\n",
    "dfAll = madden.rankGames(dfPredict,reference_data,seasonTest[0])\n",
    "\n"
   ]
  },
  {
   "cell_type": "code",
   "execution_count": null,
   "metadata": {
    "collapsed": false
   },
   "outputs": [],
   "source": [
    "# display weekly ranking output\n",
    "\n",
    "# ranking methods choices\n",
    "# 0. pick based on spread\n",
    "# 1. always pick favored team, rank by probability of win\n",
    "# 2. pick winner based on abs(probability - .5), rank by probability\n",
    "# 3. pick winner based on abs(probability - .5), rank by abs(probability - .5)\n",
    "\n",
    "rankMethod = 2\n",
    "\n",
    "dispCols = ['season','gameWeek','Visitor','visitorRecord','Home Team','homeRecord',\n",
    "            'Line','prevFavoredRecord','prevUnderdogRecord','predict_proba',\n",
    "            'lineGuess','probaGuess', 'probaAbsGuess', 'predictTeam']\n",
    "\n",
    "\n",
    "dfAll['predictTeam'] = np.where((dfAll['predict_proba'] - .5) > 0 , dfAll['favorite'], dfAll['underdog'])\n",
    "guessCol = 'probaGuess'\n",
    "predictCols = ['predictTeam', 'predict_proba', guessCol, 'favorite','lineGuess', 'Line']\n",
    "dfAll[predictCols].sort(guessCol, ascending=False)"
   ]
  },
  {
   "cell_type": "code",
   "execution_count": null,
   "metadata": {
    "collapsed": false
   },
   "outputs": [],
   "source": [
    "# display weekly ranking output for spread method\n",
    "\n",
    "# ranking methods choices\n",
    "# 0. pick based on spread\n",
    "# 1. always pick favored team, rank by probability of win\n",
    "# 2. pick winner based on abs(probability - .5), rank by probability\n",
    "# 3. pick winner based on abs(probability - .5), rank by abs(probability - .5)\n",
    "\n",
    "predictCols = ['favorite','lineGuess', 'absLine','Line', 'favoredHomeGame', 'divisionGame', 'favoredRecord']\n",
    "\n",
    "sortCols = ['absLine','favoredHomeGame', 'divisionGame', 'favoredRecord', 'favorite']\n",
    "dfSpread = dfAll[predictCols].sort(sortCols , ascending=False)\n",
    "#print(dfSpread.to_csv(sys.stdout,sep=',', index=False))\n",
    "dfSpread"
   ]
  },
  {
   "cell_type": "code",
   "execution_count": null,
   "metadata": {
    "collapsed": false
   },
   "outputs": [],
   "source": [
    "dfAll.columns"
   ]
  },
  {
   "cell_type": "code",
   "execution_count": null,
   "metadata": {
    "collapsed": false
   },
   "outputs": [],
   "source": [
    "# display details for a single week\n",
    "dispWeek = 7\n",
    "dispCols = ['season','gameWeek','Visitor','Home Team',\n",
    "            'visitorRecord', 'homeRecord', 'favoredRecord','underdogRecord',\n",
    "            'prevFavoredRecord','Line','predict_proba','Visitor Score',\n",
    "            'Home Score','favoredWin','predictWin','lineGuess','probaGuess', 'lineScore','probaScore1','probaScore2']\n",
    "\n",
    "print(dfAll[dfAll.gameWeek == dispWeek]['lineScore'].sum())\n",
    "dfAll[dfAll.gameWeek == dispWeek][dispCols]"
   ]
  },
  {
   "cell_type": "code",
   "execution_count": null,
   "metadata": {
    "collapsed": false
   },
   "outputs": [],
   "source": [
    "# diagnostics ... plot outcomes of games\n",
    "nWin = dfAllGames.favoredWin.index.tolist()\n",
    "nLose = dfAllGames[dfAllGames['favoredWin'] == 0].index.tolist()\n",
    "\n",
    "plt.plot(dfAllGames.favoredRecord[nWin],dfAllGames.underdogRecord[nWin],'bx')\n",
    "plt.plot(dfAllGames.favoredRecord[nLose],dfAllGames.underdogRecord[nLose],'rx')"
   ]
  },
  {
   "cell_type": "code",
   "execution_count": null,
   "metadata": {
    "collapsed": false
   },
   "outputs": [],
   "source": [
    "# diagnostics ... logreg variables\n",
    "\n",
    "# print classifiers\n",
    "print(\"classifiers > \",logreg.classes_)\n",
    "\n",
    "# coefficients\n",
    "cc = logreg.coef_\n",
    "cc.shape\n",
    "print(\"coeffs\")\n",
    "for ii,ff in enumerate(features):\n",
    "    print(ii,ff,cc[0][ii])\n",
    "    "
   ]
  },
  {
   "cell_type": "code",
   "execution_count": null,
   "metadata": {
    "collapsed": false
   },
   "outputs": [],
   "source": []
  },
  {
   "cell_type": "code",
   "execution_count": null,
   "metadata": {
    "collapsed": false
   },
   "outputs": [],
   "source": [
    "# run one year of rolling training, control width of training window w/ trainFreq\n",
    "import runMadden\n",
    "reload(runMadden)\n",
    "reload(madden)\n",
    "\n",
    "# need to be arrays\n",
    "trainYears = [2012] #range(2008.2013) \n",
    "testYear = [2013]\n",
    "trainFreq = 6\n",
    "\n",
    "dd = runMadden.runSeasonRolling(trainYears,testYear,olookups,trainFreq)\n",
    "dd"
   ]
  },
  {
   "cell_type": "code",
   "execution_count": null,
   "metadata": {
    "collapsed": false
   },
   "outputs": [],
   "source": [
    "# loop over years to test trainFreq\n",
    "\n",
    "reload(runMadden)\n",
    "reload(madden)\n",
    "\n",
    "ddd = None\n",
    "for y in range(2008,2013):\n",
    "    trainYears = [y]\n",
    "    testYear = [y+1]\n",
    "    trainFreq = 20\n",
    "    dd = runMadden.runSeasonRolling(trainYears,testYear,olookups,trainFreq)\n",
    "    if ddd is None:\n",
    "        ddd = dd\n",
    "    else:\n",
    "        ddd = ddd.append(dd)\n",
    "        \n",
    "ddd        "
   ]
  },
  {
   "cell_type": "code",
   "execution_count": null,
   "metadata": {
    "collapsed": false
   },
   "outputs": [],
   "source": [
    "# diagnostics ... plot outcomes of games\n",
    "nWin = dfAll.favoredWin.index.tolist()\n",
    "nLose = dfAll[dfAll['favoredWin'] == 0].index.tolist()\n",
    "\n",
    "plt.plot(dfAll.favoredRecord[nWin],dfAll.underdogRecord[nWin],'bx')\n",
    "plt.plot(dfAll.favoredRecord[nLose],dfAll.underdogRecord[nLose],'rx')\n",
    "\n",
    "# pct correct according to spread\n",
    "print (len(nWin)/ (len(nWin) + len(nLose)))\n",
    "\n",
    "# pct correct according to model\n",
    "nWin = dfAll.predictWin.index.tolist()\n",
    "nLose = dfAll[dfAll['predictWin'] == 0].index.tolist()\n",
    "print (len(nWin)/ (len(nWin) + len(nLose)))\n"
   ]
  },
  {
   "cell_type": "code",
   "execution_count": null,
   "metadata": {
    "collapsed": false
   },
   "outputs": [],
   "source": []
  },
  {
   "cell_type": "code",
   "execution_count": null,
   "metadata": {
    "collapsed": false
   },
   "outputs": [],
   "source": []
  },
  {
   "cell_type": "code",
   "execution_count": null,
   "metadata": {
    "collapsed": false
   },
   "outputs": [],
   "source": []
  }
 ],
 "metadata": {
  "kernelspec": {
   "display_name": "Python 2",
   "language": "python",
   "name": "python2"
  },
  "language_info": {
   "codemirror_mode": {
    "name": "ipython",
    "version": 2
   },
   "file_extension": ".py",
   "mimetype": "text/x-python",
   "name": "python",
   "nbconvert_exporter": "python",
   "pygments_lexer": "ipython2",
   "version": "2.7.10"
  }
 },
 "nbformat": 4,
 "nbformat_minor": 0
}
